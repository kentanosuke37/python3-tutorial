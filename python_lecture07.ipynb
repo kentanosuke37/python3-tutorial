{
 "cells": [
  {
   "cell_type": "markdown",
   "metadata": {
    "slideshow": {
     "slide_type": "slide"
    }
   },
   "source": [
    "# Python statementの入門\n"
   ]
  },
  {
   "cell_type": "markdown",
   "metadata": {
    "slideshow": {
     "slide_type": "slide"
    }
   },
   "source": [
    "## Python vs 他の言語\n",
    "\n",
    "\n",
    "**Version 1 (他の言語)**\n",
    "\n",
    "    if (a > b)\n",
    "    {\n",
    "        a = 2;\n",
    "        b = 4;\n",
    "    }\n",
    "    \n",
    "**Version 2 (Python)**\n",
    "\n",
    "    if a > b:\n",
    "        a = 2\n",
    "        b = 4"
   ]
  },
  {
   "cell_type": "markdown",
   "metadata": {},
   "source": [
    "## インデント\n",
    "\n",
    "次に空白およびインデントを利用した擬似コードを記載します．\n",
    "\n",
    "**他の言語(C言語)**\n",
    "\n",
    "    if (x) \n",
    "    {\n",
    "        if(y)\n",
    "        {\n",
    "            code-statement;\n",
    "        }\n",
    "    } \n",
    "    else \n",
    "    {\n",
    "        another-code-statement;\n",
    "    }\n",
    "        \n",
    "**Python**\n",
    "    \n",
    "    if x:\n",
    "        if y:\n",
    "            code-statement\n",
    "    else:\n",
    "        another-code-statement"
   ]
  },
  {
   "cell_type": "markdown",
   "metadata": {},
   "source": [
    "# if,elif,else文\n",
    "\n",
    "    if case1:\n",
    "        action1をしなさい．\n",
    "    elif case2:\n",
    "        action2をしなさい．\n",
    "    else:\n",
    "        action3をしなさい．"
   ]
  },
  {
   "cell_type": "markdown",
   "metadata": {},
   "source": [
    "## 簡単な導入例"
   ]
  },
  {
   "cell_type": "code",
   "execution_count": 1,
   "metadata": {},
   "outputs": [
    {
     "name": "stdout",
     "output_type": "stream",
     "text": [
      "It was true!\n"
     ]
    }
   ],
   "source": [
    "if True:\n",
    "    print('It was true!')\n",
    "    \n",
    "if False:\n",
    "    print('It was False!')"
   ]
  },
  {
   "cell_type": "code",
   "execution_count": 2,
   "metadata": {},
   "outputs": [
    {
     "name": "stdout",
     "output_type": "stream",
     "text": [
      "I will be printed in any case where x is not true\n"
     ]
    }
   ],
   "source": [
    "x = False\n",
    "\n",
    "if x:\n",
    "    print('x was True!')\n",
    "else:\n",
    "    print('I will be printed in any case where x is not true')"
   ]
  },
  {
   "cell_type": "markdown",
   "metadata": {},
   "source": [
    "## 複数の分岐"
   ]
  },
  {
   "cell_type": "code",
   "execution_count": 3,
   "metadata": {},
   "outputs": [
    {
     "name": "stdout",
     "output_type": "stream",
     "text": [
      "Welcome to the bank!\n"
     ]
    }
   ],
   "source": [
    "location = 'Bank'\n",
    "\n",
    "if location == 'Auto Shop':\n",
    "    print('Welcome to the Auto Shop!')\n",
    "elif location == 'Bank':\n",
    "    print('Welcome to the bank!')\n",
    "else:\n",
    "    print(\"Where are you?\")"
   ]
  },
  {
   "cell_type": "markdown",
   "metadata": {},
   "source": [
    "# forループ\n",
    "\n",
    "    for item in object:\n",
    "        statements to do stuff\n",
    "        \n",
    "objectにはリスト，タプル，ディクショナリ等の巡回可能はobejectを渡す．"
   ]
  },
  {
   "cell_type": "markdown",
   "metadata": {},
   "source": [
    "## 導入的な例"
   ]
  },
  {
   "cell_type": "code",
   "execution_count": 9,
   "metadata": {},
   "outputs": [
    {
     "name": "stdout",
     "output_type": "stream",
     "text": [
      "1\n",
      "2\n",
      "3\n",
      "4\n",
      "5\n",
      "6\n",
      "7\n",
      "8\n",
      "9\n",
      "10\n"
     ]
    }
   ],
   "source": [
    "# 次の講義でこの種のリストの作成方法を学びます．\n",
    "nums = [1,2,3,4,5,6,7,8,9,10]\n",
    "for num in nums:\n",
    "    print(num)"
   ]
  },
  {
   "cell_type": "code",
   "execution_count": 5,
   "metadata": {},
   "outputs": [
    {
     "name": "stdout",
     "output_type": "stream",
     "text": [
      "2\n",
      "4\n",
      "6\n",
      "8\n",
      "10\n"
     ]
    }
   ],
   "source": [
    "for num in l:\n",
    "    if num % 2 == 0:\n",
    "        print(num)"
   ]
  },
  {
   "cell_type": "code",
   "execution_count": 7,
   "metadata": {},
   "outputs": [
    {
     "name": "stdout",
     "output_type": "stream",
     "text": [
      "odd  : 1\n",
      "even : 2\n",
      "odd  : 3\n",
      "even : 4\n",
      "odd  : 5\n",
      "even : 6\n",
      "odd  : 7\n",
      "even : 8\n",
      "odd  : 9\n",
      "even : 10\n"
     ]
    }
   ],
   "source": [
    "for num in nums:\n",
    "    if num % 2 == 0:\n",
    "        print('even : {}'.format(num))\n",
    "    else:\n",
    "        print('odd  : {}'.format(num))"
   ]
  },
  {
   "cell_type": "code",
   "execution_count": 10,
   "metadata": {},
   "outputs": [
    {
     "name": "stdout",
     "output_type": "stream",
     "text": [
      "55\n"
     ]
    }
   ],
   "source": [
    "list_sum = 0 \n",
    "for num in nums:\n",
    "    # list_sum = list_sum + num\n",
    "    list_sum += num\n",
    "\n",
    "print(list_sum)"
   ]
  },
  {
   "cell_type": "markdown",
   "metadata": {},
   "source": [
    "## 文字列の例"
   ]
  },
  {
   "cell_type": "code",
   "execution_count": 11,
   "metadata": {},
   "outputs": [
    {
     "name": "stdout",
     "output_type": "stream",
     "text": [
      "T\n",
      "h\n",
      "i\n",
      "s\n",
      " \n",
      "i\n",
      "s\n",
      " \n",
      "a\n",
      " \n",
      "s\n",
      "t\n",
      "r\n",
      "i\n",
      "n\n",
      "g\n",
      ".\n"
     ]
    }
   ],
   "source": [
    "for letter in 'This is a string.':\n",
    "    print(letter)"
   ]
  },
  {
   "cell_type": "markdown",
   "metadata": {},
   "source": [
    "## tupleの例"
   ]
  },
  {
   "cell_type": "code",
   "execution_count": 12,
   "metadata": {},
   "outputs": [
    {
     "name": "stdout",
     "output_type": "stream",
     "text": [
      "(2, 4)\n",
      "(6, 8)\n",
      "(10, 12)\n"
     ]
    }
   ],
   "source": [
    "tup_values = [(2,4),(6,8),(10,12)]\n",
    "for tup_value in tup_values:\n",
    "    print(tup_value)"
   ]
  },
  {
   "cell_type": "code",
   "execution_count": 13,
   "metadata": {},
   "outputs": [
    {
     "name": "stdout",
     "output_type": "stream",
     "text": [
      "2 4\n",
      "6 8\n",
      "10 12\n"
     ]
    }
   ],
   "source": [
    "tup_values = [(2,4),(6,8),(10,12)]\n",
    "for (t1, t2) in tup_values:\n",
    "    print(t1, t2)"
   ]
  },
  {
   "cell_type": "markdown",
   "metadata": {},
   "source": [
    "## ディクショナリの例"
   ]
  },
  {
   "cell_type": "code",
   "execution_count": 14,
   "metadata": {},
   "outputs": [
    {
     "name": "stdout",
     "output_type": "stream",
     "text": [
      "k1\n",
      "k2\n",
      "k3\n"
     ]
    }
   ],
   "source": [
    "d = {'k1':1,'k2':2,'k3':3}\n",
    "for item in d:\n",
    "    print(item)"
   ]
  },
  {
   "cell_type": "code",
   "execution_count": 15,
   "metadata": {},
   "outputs": [
    {
     "name": "stdout",
     "output_type": "stream",
     "text": [
      "k1\n",
      "k2\n",
      "k3\n"
     ]
    }
   ],
   "source": [
    "d = {'k1':1,'k2':2,'k3':3}\n",
    "for item in d.keys():\n",
    "    print(item)"
   ]
  },
  {
   "cell_type": "code",
   "execution_count": 17,
   "metadata": {},
   "outputs": [
    {
     "name": "stdout",
     "output_type": "stream",
     "text": [
      "key : k1, value : 1\n",
      "key : k2, value : 2\n",
      "key : k3, value : 3\n"
     ]
    }
   ],
   "source": [
    "for k,v in d.items():\n",
    "    print(\"key : {}, value : {}\".format(k, v))"
   ]
  },
  {
   "cell_type": "markdown",
   "metadata": {},
   "source": [
    "# whileループ\n",
    "\n",
    "    while 条件:\n",
    "        statement\n",
    "    else:\n",
    "        最終的なstatement\n"
   ]
  },
  {
   "cell_type": "markdown",
   "metadata": {},
   "source": [
    "## 導入的な例"
   ]
  },
  {
   "cell_type": "code",
   "execution_count": 21,
   "metadata": {},
   "outputs": [
    {
     "name": "stdout",
     "output_type": "stream",
     "text": [
      "x is currently: 0, so x < 10, adding 1 to x\n",
      "x is currently: 1, so x < 10, adding 1 to x\n",
      "x is currently: 2, so x < 10, adding 1 to x\n",
      "x is currently: 3, so x < 10, adding 1 to x\n",
      "x is currently: 4, so x < 10, adding 1 to x\n",
      "x is currently: 5, so x < 10, adding 1 to x\n",
      "x is currently: 6, so x < 10, adding 1 to x\n",
      "x is currently: 7, so x < 10, adding 1 to x\n",
      "x is currently: 8, so x < 10, adding 1 to x\n",
      "x is currently: 9, so x < 10, adding 1 to x\n"
     ]
    }
   ],
   "source": [
    "x = 0\n",
    "while x < 10:\n",
    "    print('x is currently: {}, so x < 10, adding 1 to x'.format(x))\n",
    "    x += 1"
   ]
  },
  {
   "cell_type": "markdown",
   "metadata": {},
   "source": [
    "## elseを使う : whileを抜ける時に必ず実行されるstatementを追加する例"
   ]
  },
  {
   "cell_type": "code",
   "execution_count": 22,
   "metadata": {},
   "outputs": [
    {
     "name": "stdout",
     "output_type": "stream",
     "text": [
      "x is currently: 0, so x < 10, adding 1 to x\n",
      "x is currently: 1, so x < 10, adding 1 to x\n",
      "x is currently: 2, so x < 10, adding 1 to x\n",
      "x is currently: 3, so x < 10, adding 1 to x\n",
      "x is currently: 4, so x < 10, adding 1 to x\n",
      "x is currently: 5, so x < 10, adding 1 to x\n",
      "x is currently: 6, so x < 10, adding 1 to x\n",
      "x is currently: 7, so x < 10, adding 1 to x\n",
      "x is currently: 8, so x < 10, adding 1 to x\n",
      "x is currently: 9, so x < 10, adding 1 to x\n",
      "All Done!\n"
     ]
    }
   ],
   "source": [
    "x = 0\n",
    "while x < 10:\n",
    "    print('x is currently: {}, so x < 10, adding 1 to x'.format(x))\n",
    "    x += 1\n",
    "else:\n",
    "    print('All Done!')"
   ]
  },
  {
   "cell_type": "markdown",
   "metadata": {},
   "source": [
    "## break, continue, pass\n",
    "\n",
    "    break    : 現在の場所から最も近い閉じられたループの終端に抜け出す．\n",
    "    continue : 最も近い閉じられたループの開始場所へ移動します．\n",
    "    pass     : なにもしません．\n",
    "    \n",
    "    while test: \n",
    "        code statement\n",
    "        if test: \n",
    "            break\n",
    "        if test: \n",
    "            continue \n",
    "    else:\n",
    "        code statement\n",
    "\n",
    "\n",
    "上記のbreak, continue, passはfor文でも使用できます．passはむしろ，コードを仮作成する時に使用することが多い．"
   ]
  },
  {
   "cell_type": "code",
   "execution_count": 31,
   "metadata": {},
   "outputs": [
    {
     "name": "stdout",
     "output_type": "stream",
     "text": [
      "x is currently: 0, so x < 10, adding 1 to x\n",
      "continuing...\n",
      "x is currently: 1, so x < 10, adding 1 to x\n",
      "continuing...\n",
      "x is currently: 2, so x < 10, adding 1 to x\n",
      "x　==　3\n",
      "continuing...\n",
      "x is currently: 3, so x < 10, adding 1 to x\n",
      "continuing...\n",
      "x is currently: 4, so x < 10, adding 1 to x\n",
      "continuing...\n",
      "x is currently: 5, so x < 10, adding 1 to x\n",
      "continuing...\n",
      "x is currently: 6, so x < 10, adding 1 to x\n",
      "continuing...\n",
      "x is currently: 7, so x < 10, adding 1 to x\n",
      "continuing...\n",
      "x is currently: 8, so x < 10, adding 1 to x\n",
      "continuing...\n",
      "x is currently: 9, so x < 10, adding 1 to x\n",
      "continuing...\n"
     ]
    }
   ],
   "source": [
    "x = 0\n",
    "while x < 10:\n",
    "    print('x is currently: {}, so x < 10, adding 1 to x'.format(x))\n",
    "    x += 1\n",
    "    if x == 3:\n",
    "        print('x　==　3')\n",
    "    print('continuing...')"
   ]
  },
  {
   "cell_type": "code",
   "execution_count": 30,
   "metadata": {},
   "outputs": [
    {
     "name": "stdout",
     "output_type": "stream",
     "text": [
      "1 is skipped from summation!\n",
      "2 is skipped from summation!\n",
      "3 is added.\n",
      "4 is added.\n",
      "5 is added.\n",
      "Summation of i < 3 is 12!\n"
     ]
    }
   ],
   "source": [
    "num_sum = 0\n",
    "for i in [1,2,3,4,5]:\n",
    "    if i < 3:\n",
    "        print(\"{} is skipped from summation!\".format(i))\n",
    "        continue\n",
    "    print(\"{} is added.\".format(i))\n",
    "    num_sum += i\n",
    "\n",
    "print(\"Summation of i < 3 is {}!\".format(num_sum))"
   ]
  },
  {
   "cell_type": "code",
   "execution_count": 32,
   "metadata": {},
   "outputs": [
    {
     "name": "stdout",
     "output_type": "stream",
     "text": [
      "When x is 3, this code will break while loop!\n",
      "x is currently: 0, so x < 10, adding 1 to x\n",
      "continuing...\n",
      "x is currently: 1, so x < 10, adding 1 to x\n",
      "continuing...\n",
      "x is currently: 2, so x < 10, adding 1 to x\n",
      "x ==　3 --> break while loop!\n",
      "code is finished!\n"
     ]
    }
   ],
   "source": [
    "x = 0\n",
    "print(\"When x is 3, this code will break while loop!\")\n",
    "while x < 10:\n",
    "    print('x is currently: {}, so x < 10, adding 1 to x'.format(x))\n",
    "    x += 1\n",
    "    if x == 3:\n",
    "        print('x ==　3 --> break while loop!')\n",
    "        break\n",
    "\n",
    "    print('continuing...')\n",
    "    \n",
    "print('code is finished!')"
   ]
  },
  {
   "cell_type": "code",
   "execution_count": 34,
   "metadata": {},
   "outputs": [
    {
     "name": "stdout",
     "output_type": "stream",
     "text": [
      "odd value : 1\n",
      "odd value : 3\n"
     ]
    }
   ],
   "source": [
    "for x in [1,2,3,4]:\n",
    "    if x % 2 == 0:\n",
    "        pass\n",
    "    else:\n",
    "        print(\"odd value : {}\".format(x))"
   ]
  }
 ],
 "metadata": {
  "kernelspec": {
   "display_name": "Python 3",
   "language": "python",
   "name": "python3"
  },
  "language_info": {
   "codemirror_mode": {
    "name": "ipython",
    "version": 3
   },
   "file_extension": ".py",
   "mimetype": "text/x-python",
   "name": "python",
   "nbconvert_exporter": "python",
   "pygments_lexer": "ipython3",
   "version": "3.6.3"
  },
  "toc": {
   "nav_menu": {},
   "number_sections": true,
   "sideBar": true,
   "skip_h1_title": false,
   "toc_cell": false,
   "toc_position": {},
   "toc_section_display": "block",
   "toc_window_display": false
  }
 },
 "nbformat": 4,
 "nbformat_minor": 1
}

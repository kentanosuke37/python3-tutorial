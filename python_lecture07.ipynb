{
 "cells": [
  {
   "cell_type": "markdown",
   "metadata": {
    "toc": true
   },
   "source": [
    "<h1>Table of Contents<span class=\"tocSkip\"></span></h1>\n",
    "<div class=\"toc\" style=\"margin-top: 1em;\"><ul class=\"toc-item\"><li><span><a href=\"#Python-statementの入門\" data-toc-modified-id=\"Python-statementの入門-1\"><span class=\"toc-item-num\">1&nbsp;&nbsp;</span>Python statementの入門</a></span><ul class=\"toc-item\"><li><span><a href=\"#Python-vs-他の言語\" data-toc-modified-id=\"Python-vs-他の言語-1.1\"><span class=\"toc-item-num\">1.1&nbsp;&nbsp;</span>Python vs 他の言語</a></span></li><li><span><a href=\"#if文の入れ子した例\" data-toc-modified-id=\"if文の入れ子した例-1.2\"><span class=\"toc-item-num\">1.2&nbsp;&nbsp;</span>if文の入れ子した例</a></span></li></ul></li><li><span><a href=\"#if,elif,else文\" data-toc-modified-id=\"if,elif,else文-2\"><span class=\"toc-item-num\">2&nbsp;&nbsp;</span>if,elif,else文</a></span><ul class=\"toc-item\"><li><span><a href=\"#簡単な導入例\" data-toc-modified-id=\"簡単な導入例-2.1\"><span class=\"toc-item-num\">2.1&nbsp;&nbsp;</span>簡単な導入例</a></span></li><li><span><a href=\"#複数の分岐\" data-toc-modified-id=\"複数の分岐-2.2\"><span class=\"toc-item-num\">2.2&nbsp;&nbsp;</span>複数の分岐</a></span></li></ul></li><li><span><a href=\"#forループ\" data-toc-modified-id=\"forループ-3\"><span class=\"toc-item-num\">3&nbsp;&nbsp;</span>forループ</a></span><ul class=\"toc-item\"><li><span><a href=\"#導入的な例\" data-toc-modified-id=\"導入的な例-3.1\"><span class=\"toc-item-num\">3.1&nbsp;&nbsp;</span>導入的な例</a></span></li><li><span><a href=\"#文字列の例\" data-toc-modified-id=\"文字列の例-3.2\"><span class=\"toc-item-num\">3.2&nbsp;&nbsp;</span>文字列の例</a></span></li><li><span><a href=\"#tupleの例\" data-toc-modified-id=\"tupleの例-3.3\"><span class=\"toc-item-num\">3.3&nbsp;&nbsp;</span>tupleの例</a></span></li><li><span><a href=\"#ディクショナリの例\" data-toc-modified-id=\"ディクショナリの例-3.4\"><span class=\"toc-item-num\">3.4&nbsp;&nbsp;</span>ディクショナリの例</a></span></li></ul></li><li><span><a href=\"#whileループ\" data-toc-modified-id=\"whileループ-4\"><span class=\"toc-item-num\">4&nbsp;&nbsp;</span>whileループ</a></span><ul class=\"toc-item\"><li><span><a href=\"#導入的な例\" data-toc-modified-id=\"導入的な例-4.1\"><span class=\"toc-item-num\">4.1&nbsp;&nbsp;</span>導入的な例</a></span></li><li><span><a href=\"#elseを使う例\" data-toc-modified-id=\"elseを使う例-4.2\"><span class=\"toc-item-num\">4.2&nbsp;&nbsp;</span>elseを使う例</a></span></li><li><span><a href=\"#break,-continue,-pass\" data-toc-modified-id=\"break,-continue,-pass-4.3\"><span class=\"toc-item-num\">4.3&nbsp;&nbsp;</span>break, continue, pass</a></span></li></ul></li></ul></div>"
   ]
  },
  {
   "cell_type": "markdown",
   "metadata": {
    "slideshow": {
     "slide_type": "slide"
    }
   },
   "source": [
    "# Python statementの入門\n",
    "\n",
    "下記のでは，if, for, whileといった文でのルールを説明します．"
   ]
  },
  {
   "cell_type": "markdown",
   "metadata": {
    "slideshow": {
     "slide_type": "slide"
    }
   },
   "source": [
    "## Python vs 他の言語\n",
    "\n",
    "下記の例はC言語のif文の例になります．ifの後に'()'に論理文を書いて，論理文が真(True)だったら，'{}'の内のコードが実行されます．C言語の場合ですと，文末に';'が必要です．\n",
    "\n",
    "**Version 1 (C言語)**\n",
    "\n",
    "    if (a > b)\n",
    "    {\n",
    "        a = 2;\n",
    "        b = 4;\n",
    "    }\n",
    "    \n",
    "下記の例がpythonでのif文の例になります．論理文を'()'でくくっても，くくらなくても大丈夫です．論理文の終端には':'が必要になります．論理文が真(True)だったら，indentを下げたコードが実行されます．つまり，C言語の'{}'のコードに当たる部分がindentを下げたコードになります．indent下げによって'{}'の役割を持ち，コードが整然としてわかりやすいように仕様が工夫されています．\n",
    "\n",
    "**Version 2 (Python)**\n",
    "\n",
    "    if a > b:\n",
    "        a = 2\n",
    "        b = 4"
   ]
  },
  {
   "cell_type": "markdown",
   "metadata": {},
   "source": [
    "## if文の入れ子した例\n",
    "\n",
    "下記が入れ子の例になります．それぞれを比べてみてください．\n",
    "\n",
    "**他の言語(C言語)**\n",
    "\n",
    "    if (x) \n",
    "    {\n",
    "        if(y)\n",
    "        {\n",
    "            code-statement;\n",
    "        }\n",
    "    } \n",
    "    else \n",
    "    {\n",
    "        another-code-statement;\n",
    "    }\n",
    "        \n",
    "**Python**\n",
    "    \n",
    "    if x:\n",
    "        if y:\n",
    "            code-statement\n",
    "    else:\n",
    "        another-code-statement"
   ]
  },
  {
   "cell_type": "markdown",
   "metadata": {},
   "source": [
    "# if,elif,else文\n",
    "\n",
    "if文は下記のようなにて記述できます．case1が真(True)だったら，action1が実行され，case1が偽(False)でcase2が真(True)ならばaction2が実行されます．それ以外についてはaction3が実行されます．elif文はいくつでも追加することが可能で，不必要ならelifおよびelseを削除することもできます．\n",
    "\n",
    "    if case1:\n",
    "        action1をしなさい．\n",
    "    elif case2:\n",
    "        action2をしなさい．\n",
    "    else:\n",
    "        action3をしなさい．"
   ]
  },
  {
   "cell_type": "markdown",
   "metadata": {},
   "source": [
    "## 簡単な導入例\n",
    "\n",
    "まずは下記の例を実際に手打ちしてみましょう．"
   ]
  },
  {
   "cell_type": "code",
   "execution_count": 2,
   "metadata": {},
   "outputs": [
    {
     "name": "stdout",
     "output_type": "stream",
     "text": [
      "It was True!\n"
     ]
    }
   ],
   "source": [
    "if True:\n",
    "    print('It was True!')\n",
    "    \n",
    "if False:\n",
    "    print('It was False!')"
   ]
  },
  {
   "cell_type": "code",
   "execution_count": 3,
   "metadata": {},
   "outputs": [
    {
     "name": "stdout",
     "output_type": "stream",
     "text": [
      "I will be printed in any case where x is not true\n"
     ]
    }
   ],
   "source": [
    "x = False\n",
    "\n",
    "if x:\n",
    "    print('x was True!')\n",
    "else:\n",
    "    print('I will be printed in any case where x is not true')"
   ]
  },
  {
   "cell_type": "markdown",
   "metadata": {},
   "source": [
    "## 複数の分岐\n",
    "\n",
    "if, elif, elseが入った例になります．location変数がBankのコードが実行されます．"
   ]
  },
  {
   "cell_type": "code",
   "execution_count": 4,
   "metadata": {},
   "outputs": [
    {
     "name": "stdout",
     "output_type": "stream",
     "text": [
      "Welcome to the bank!\n"
     ]
    }
   ],
   "source": [
    "location = 'Bank'\n",
    "\n",
    "if location == 'Auto Shop':\n",
    "    print('Welcome to the Auto Shop!')\n",
    "elif location == 'Bank':\n",
    "    print('Welcome to the bank!')\n",
    "else:\n",
    "    print(\"Where are you?\")"
   ]
  },
  {
   "cell_type": "markdown",
   "metadata": {},
   "source": [
    "# forループ\n",
    "\n",
    "Pythonでは下記の仕様にてforループを記述できます．\n",
    "\n",
    "    for item in object:\n",
    "        statements to do stuff\n",
    "        \n",
    "objectにはリスト，タプル，ディクショナリ等の巡回可能なobejectを渡して，それをitemに代入します．object変数に当たるものをすべて巡回し終わると，forループが終了します．下記のC言語の例と異なることころとしては，indexを必要とせず，ループ内のコードはindentを下げた部分で示されていることです．\n",
    "\n",
    "    int a[] = {1, 2, 3};\n",
    "    for (int i = 0; i < 3; ++i)\n",
    "    {\n",
    "        std::cout << a[i] << std::endl;\n",
    "    }\n",
    "    "
   ]
  },
  {
   "cell_type": "markdown",
   "metadata": {},
   "source": [
    "## 導入的な例\n",
    "\n",
    "まずは例を示しますので，実際に打ち込んで確認しましょう．"
   ]
  },
  {
   "cell_type": "code",
   "execution_count": 5,
   "metadata": {},
   "outputs": [
    {
     "name": "stdout",
     "output_type": "stream",
     "text": [
      "1\n",
      "2\n",
      "3\n",
      "4\n",
      "5\n",
      "6\n",
      "7\n",
      "8\n",
      "9\n",
      "10\n"
     ]
    }
   ],
   "source": [
    "# 次の講義でこの種のリストの作成方法を学びます．\n",
    "nums = [1,2,3,4,5,6,7,8,9,10]\n",
    "for num in nums:\n",
    "    # numsリストの整数が順番に出力されます．\n",
    "    print(num)"
   ]
  },
  {
   "cell_type": "code",
   "execution_count": 6,
   "metadata": {},
   "outputs": [
    {
     "name": "stdout",
     "output_type": "stream",
     "text": [
      "2\n",
      "4\n",
      "6\n",
      "8\n",
      "10\n"
     ]
    }
   ],
   "source": [
    "nums = [1,2,3,4,5,6,7,8,9,10]\n",
    "for num in nums:\n",
    "    # 2で割って余りが0，つまり偶数のみが出力されます\n",
    "    if num % 2 == 0:\n",
    "        print(num)"
   ]
  },
  {
   "cell_type": "code",
   "execution_count": 7,
   "metadata": {},
   "outputs": [
    {
     "name": "stdout",
     "output_type": "stream",
     "text": [
      "odd  : 1\n",
      "even : 2\n",
      "odd  : 3\n",
      "even : 4\n",
      "odd  : 5\n",
      "even : 6\n",
      "odd  : 7\n",
      "even : 8\n",
      "odd  : 9\n",
      "even : 10\n"
     ]
    }
   ],
   "source": [
    "# 偶数か，奇数かを明示して出力します\n",
    "nums = [1,2,3,4,5,6,7,8,9,10]\n",
    "for num in nums:\n",
    "    if num % 2 == 0:\n",
    "        print('even : {num}'.format(num=num))\n",
    "    else:\n",
    "        print('odd  : {num}'.format(num=num))"
   ]
  },
  {
   "cell_type": "code",
   "execution_count": 8,
   "metadata": {},
   "outputs": [
    {
     "name": "stdout",
     "output_type": "stream",
     "text": [
      "55\n"
     ]
    }
   ],
   "source": [
    "# numsリスト内の整数の合計を計算します．\n",
    "nums = [1,2,3,4,5,6,7,8,9,10]\n",
    "list_sum = 0 \n",
    "for num in nums:\n",
    "    # list_sum = list_sum + num\n",
    "    list_sum += num\n",
    "\n",
    "print(list_sum)"
   ]
  },
  {
   "cell_type": "markdown",
   "metadata": {},
   "source": [
    "## 文字列の例\n",
    "\n",
    "文字列をinの後に渡すことで，一文字ずつ文字列を巡回することができます．"
   ]
  },
  {
   "cell_type": "code",
   "execution_count": 9,
   "metadata": {},
   "outputs": [
    {
     "name": "stdout",
     "output_type": "stream",
     "text": [
      "T\n",
      "h\n",
      "i\n",
      "s\n",
      " \n",
      "i\n",
      "s\n",
      " \n",
      "a\n",
      " \n",
      "s\n",
      "t\n",
      "r\n",
      "i\n",
      "n\n",
      "g\n",
      ".\n"
     ]
    }
   ],
   "source": [
    "for letter in 'This is a string.':\n",
    "    print(letter)"
   ]
  },
  {
   "cell_type": "markdown",
   "metadata": {},
   "source": [
    "## tupleの例\n",
    "\n",
    "タプルの例になります．"
   ]
  },
  {
   "cell_type": "code",
   "execution_count": 10,
   "metadata": {},
   "outputs": [
    {
     "name": "stdout",
     "output_type": "stream",
     "text": [
      "(2, 4)\n",
      "(6, 8)\n",
      "(10, 12)\n"
     ]
    }
   ],
   "source": [
    "tup_values = [(2,4),(6,8),(10,12)]\n",
    "for tup_value in tup_values:\n",
    "    print(tup_value)"
   ]
  },
  {
   "cell_type": "markdown",
   "metadata": {},
   "source": [
    "タプル内の要素を展開することもできます．これを**unpacking**と呼びます．"
   ]
  },
  {
   "cell_type": "code",
   "execution_count": 11,
   "metadata": {},
   "outputs": [
    {
     "name": "stdout",
     "output_type": "stream",
     "text": [
      "2 4\n",
      "6 8\n",
      "10 12\n"
     ]
    }
   ],
   "source": [
    "tup_values = [(2,4),(6,8),(10,12)]\n",
    "for (t1, t2) in tup_values:\n",
    "    print(t1, t2)"
   ]
  },
  {
   "cell_type": "code",
   "execution_count": 12,
   "metadata": {},
   "outputs": [
    {
     "name": "stdout",
     "output_type": "stream",
     "text": [
      "2 4\n",
      "6 8\n",
      "10 12\n"
     ]
    }
   ],
   "source": [
    "# こう書いても良い\n",
    "tup_values = [(2,4),(6,8),(10,12)]\n",
    "for t1, t2 in tup_values:\n",
    "    print(t1, t2)"
   ]
  },
  {
   "cell_type": "markdown",
   "metadata": {},
   "source": [
    "## ディクショナリの例\n",
    "\n",
    "ディクショナリを巡回させたとき，keyを巡回します．しかしながら，下記の書き方はわかりづらいので，やらないほうがいいでしょう．"
   ]
  },
  {
   "cell_type": "code",
   "execution_count": 13,
   "metadata": {},
   "outputs": [
    {
     "name": "stdout",
     "output_type": "stream",
     "text": [
      "k1\n",
      "k2\n",
      "k3\n"
     ]
    }
   ],
   "source": [
    "# dictionaryをinの後に置くと，keyの巡回が行われる．\n",
    "d = {'k1':1,'k2':2,'k3':3}\n",
    "for item in d:\n",
    "    print(item)"
   ]
  },
  {
   "cell_type": "markdown",
   "metadata": {},
   "source": [
    "ディクショナリのkeyをforループで巡回させる時は，keys()関数を使用します．"
   ]
  },
  {
   "cell_type": "code",
   "execution_count": 14,
   "metadata": {},
   "outputs": [
    {
     "name": "stdout",
     "output_type": "stream",
     "text": [
      "k1\n",
      "k2\n",
      "k3\n"
     ]
    }
   ],
   "source": [
    "d = {'k1':1,'k2':2,'k3':3}\n",
    "# d.keys() ---> ['k1', 'k2', 'k3']\n",
    "for item in d.keys():\n",
    "    print(item)"
   ]
  },
  {
   "cell_type": "markdown",
   "metadata": {},
   "source": [
    "ディクショナリのvalueをforループで巡回させる時は，values()関数を使用します．"
   ]
  },
  {
   "cell_type": "code",
   "execution_count": 15,
   "metadata": {},
   "outputs": [
    {
     "name": "stdout",
     "output_type": "stream",
     "text": [
      "1\n",
      "2\n",
      "3\n"
     ]
    }
   ],
   "source": [
    "d = {'k1':1,'k2':2,'k3':3}\n",
    "# d.values() ---> [1, 2, 3]\n",
    "for item in d.values():\n",
    "    print(item)"
   ]
  },
  {
   "cell_type": "markdown",
   "metadata": {},
   "source": [
    "keyとvalueの両方をforループで巡回したい時は，items()関数を使用します．itemsは(key, value)のタプルのリストを返します．"
   ]
  },
  {
   "cell_type": "code",
   "execution_count": 16,
   "metadata": {},
   "outputs": [
    {
     "name": "stdout",
     "output_type": "stream",
     "text": [
      "key : k1, value : 1\n",
      "key : k2, value : 2\n",
      "key : k3, value : 3\n"
     ]
    }
   ],
   "source": [
    "d = {'k1':1,'k2':2,'k3':3}\n",
    "# d.items() ---> [('k1', 1), ('k2', 2), ('k3', 3)]\n",
    "for k,v in d.items():\n",
    "    print(\"key : {}, value : {}\".format(k, v))"
   ]
  },
  {
   "cell_type": "markdown",
   "metadata": {},
   "source": [
    "# whileループ\n",
    "\n",
    "while文は下記のような仕様にて記載できます．\n",
    "\n",
    "    while 条件:\n",
    "        statement\n",
    "    else:\n",
    "        最終的なstatement\n",
    "\n",
    "else文はwhileの条件が偽(False)になり，whileループを抜けるとき，必ず実行されるstatementになります．しかしながら，あまり使わないでしょう．"
   ]
  },
  {
   "cell_type": "markdown",
   "metadata": {},
   "source": [
    "## 導入的な例\n",
    "\n",
    "まずは下記の例を確認してください．初期値0でx < 10ならば，1をxに足しこみます．"
   ]
  },
  {
   "cell_type": "code",
   "execution_count": 17,
   "metadata": {},
   "outputs": [
    {
     "name": "stdout",
     "output_type": "stream",
     "text": [
      "x is currently: 0, so x < 10, adding 1 to x\n",
      "x is currently: 1, so x < 10, adding 1 to x\n",
      "x is currently: 2, so x < 10, adding 1 to x\n",
      "x is currently: 3, so x < 10, adding 1 to x\n",
      "x is currently: 4, so x < 10, adding 1 to x\n",
      "x is currently: 5, so x < 10, adding 1 to x\n",
      "x is currently: 6, so x < 10, adding 1 to x\n",
      "x is currently: 7, so x < 10, adding 1 to x\n",
      "x is currently: 8, so x < 10, adding 1 to x\n",
      "x is currently: 9, so x < 10, adding 1 to x\n"
     ]
    }
   ],
   "source": [
    "x = 0\n",
    "while x < 10:\n",
    "    print('x is currently: {}, so x < 10, adding 1 to x'.format(x))\n",
    "    x += 1"
   ]
  },
  {
   "cell_type": "markdown",
   "metadata": {},
   "source": [
    "## elseを使う例"
   ]
  },
  {
   "cell_type": "code",
   "execution_count": 18,
   "metadata": {},
   "outputs": [
    {
     "name": "stdout",
     "output_type": "stream",
     "text": [
      "x is currently: 0, so x < 10, adding 1 to x\n",
      "x is currently: 1, so x < 10, adding 1 to x\n",
      "x is currently: 2, so x < 10, adding 1 to x\n",
      "x is currently: 3, so x < 10, adding 1 to x\n",
      "x is currently: 4, so x < 10, adding 1 to x\n",
      "x is currently: 5, so x < 10, adding 1 to x\n",
      "x is currently: 6, so x < 10, adding 1 to x\n",
      "x is currently: 7, so x < 10, adding 1 to x\n",
      "x is currently: 8, so x < 10, adding 1 to x\n",
      "x is currently: 9, so x < 10, adding 1 to x\n",
      "All Done!\n"
     ]
    }
   ],
   "source": [
    "x = 0\n",
    "while x < 10:\n",
    "    print('x is currently: {}, so x < 10, adding 1 to x'.format(x))\n",
    "    x += 1\n",
    "else:\n",
    "    print('All Done!')"
   ]
  },
  {
   "cell_type": "markdown",
   "metadata": {},
   "source": [
    "## break, continue, pass\n",
    "\n",
    "for, whileループは途中で抜け出したり，途中まででループ処理を終えることができます．下記がそれを実行する文になります．\n",
    "\n",
    "    break    : 現在の場所から最も近い閉じられたループの終端に抜け出す．\n",
    "    continue : 最も近い閉じられたループの開始場所へ移動します．\n",
    "    pass     : なにもしません．\n",
    "    \n",
    "例えば，下記のように使用します．\n",
    "\n",
    "    while test: \n",
    "        code statement\n",
    "        \n",
    "        if test1: \n",
    "            continue\n",
    "            \n",
    "        if test2: \n",
    "            break \n",
    "    else:\n",
    "        code statement\n",
    "\n",
    "上記の例では，testが真(True)である限りwhileループ内のコードが実行されますが，test1が真であるとwhileループの先頭に戻り，test2が真(True)であると，whileループを抜けるので，else内のコードが実行されます．\n",
    "\n",
    "上記のbreak, continue, passはfor文でも使用できます．passはむしろ，コードを仮作成する時に使用することが多いです．下記に実行例を示します"
   ]
  },
  {
   "cell_type": "code",
   "execution_count": 19,
   "metadata": {},
   "outputs": [
    {
     "name": "stdout",
     "output_type": "stream",
     "text": [
      "1 is skipped from summation!\n",
      "2 is skipped from summation!\n",
      "3 is added.\n",
      "4 is added.\n",
      "5 is added.\n",
      "Summation of i >= 3 is 12!\n"
     ]
    }
   ],
   "source": [
    "# continueの例 : [1,2,3,4,5]の3以上の数値の合計を計算します．\n",
    "num_sum = 0\n",
    "for i in [1,2,3,4,5]:\n",
    "    if i < 3:\n",
    "        print(\"{} is skipped from summation!\".format(i))\n",
    "        continue\n",
    "    print(\"{} is added.\".format(i))\n",
    "    num_sum += i\n",
    "\n",
    "print(\"Summation of i >= 3 is {}!\".format(num_sum))"
   ]
  },
  {
   "cell_type": "code",
   "execution_count": 20,
   "metadata": {},
   "outputs": [
    {
     "name": "stdout",
     "output_type": "stream",
     "text": [
      "When x is 3, this code will break while loop!\n",
      "x is currently: 0, so x < 10, adding 1 to x\n",
      "continuing...\n",
      "x is currently: 1, so x < 10, adding 1 to x\n",
      "continuing...\n",
      "x is currently: 2, so x < 10, adding 1 to x\n",
      "x ==　3 --> break while loop!\n",
      "code is finished!\n"
     ]
    }
   ],
   "source": [
    "# breakの例 : x=0の初期値を与え，x < 10ならばxに1を足します．ただし，xが3の時にループを脱出します．\n",
    "x = 0\n",
    "print(\"When x is 3, this code will break while loop!\")\n",
    "while x < 10:\n",
    "    print('x is currently: {}, so x < 10, adding 1 to x'.format(x))\n",
    "    x += 1\n",
    "    if x == 3:\n",
    "        print('x ==　3 --> break while loop!')\n",
    "        break\n",
    "\n",
    "    print('continuing...')\n",
    "    \n",
    "print('code is finished!')"
   ]
  },
  {
   "cell_type": "code",
   "execution_count": 21,
   "metadata": {},
   "outputs": [
    {
     "name": "stdout",
     "output_type": "stream",
     "text": [
      "odd value : 1\n",
      "odd value : 3\n"
     ]
    }
   ],
   "source": [
    "# passの例 : リスト内の数値の偶数は出力しません．\n",
    "for x in [1,2,3,4]:\n",
    "    if x % 2 == 0:\n",
    "        pass\n",
    "    else:\n",
    "        print(\"odd value : {}\".format(x))"
   ]
  }
 ],
 "metadata": {
  "kernelspec": {
   "display_name": "Python 3",
   "language": "python",
   "name": "python3"
  },
  "language_info": {
   "codemirror_mode": {
    "name": "ipython",
    "version": 3
   },
   "file_extension": ".py",
   "mimetype": "text/x-python",
   "name": "python",
   "nbconvert_exporter": "python",
   "pygments_lexer": "ipython3",
   "version": "3.6.3"
  },
  "toc": {
   "nav_menu": {},
   "number_sections": true,
   "sideBar": true,
   "skip_h1_title": false,
   "toc_cell": true,
   "toc_position": {},
   "toc_section_display": "block",
   "toc_window_display": false
  }
 },
 "nbformat": 4,
 "nbformat_minor": 1
}

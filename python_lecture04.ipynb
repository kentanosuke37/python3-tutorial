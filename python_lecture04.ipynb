{
 "cells": [
  {
   "cell_type": "markdown",
   "metadata": {
    "toc": true
   },
   "source": [
    "<h1>Table of Contents<span class=\"tocSkip\"></span></h1>\n",
    "<div class=\"toc\" style=\"margin-top: 1em;\"><ul class=\"toc-item\"><li><span><a href=\"#リスト\" data-toc-modified-id=\"リスト-1\"><span class=\"toc-item-num\">1&nbsp;&nbsp;</span>リスト</a></span><ul class=\"toc-item\"><li><span><a href=\"#indexingとslicing\" data-toc-modified-id=\"indexingとslicing-1.1\"><span class=\"toc-item-num\">1.1&nbsp;&nbsp;</span>indexingとslicing</a></span></li><li><span><a href=\"#要素の追加\" data-toc-modified-id=\"要素の追加-1.2\"><span class=\"toc-item-num\">1.2&nbsp;&nbsp;</span>要素の追加</a></span></li><li><span><a href=\"#繰り返しのリストは乗算で生成する\" data-toc-modified-id=\"繰り返しのリストは乗算で生成する-1.3\"><span class=\"toc-item-num\">1.3&nbsp;&nbsp;</span>繰り返しのリストは乗算で生成する</a></span></li><li><span><a href=\"#listの関数紹介\" data-toc-modified-id=\"listの関数紹介-1.4\"><span class=\"toc-item-num\">1.4&nbsp;&nbsp;</span>listの関数紹介</a></span></li><li><span><a href=\"#多次元配列-:-行列での例\" data-toc-modified-id=\"多次元配列-:-行列での例-1.5\"><span class=\"toc-item-num\">1.5&nbsp;&nbsp;</span>多次元配列 : 行列での例</a></span></li></ul></li></ul></div>"
   ]
  },
  {
   "cell_type": "markdown",
   "metadata": {},
   "source": [
    "# リスト\n",
    "\n",
    "一般的な言語での配列のようなものです．"
   ]
  },
  {
   "cell_type": "code",
   "execution_count": 5,
   "metadata": {},
   "outputs": [
    {
     "name": "stdout",
     "output_type": "stream",
     "text": [
      "[1, 2, 3]\n"
     ]
    }
   ],
   "source": [
    "# int my_list[] = {1, 2, 3}\n",
    "my_list = [1, 2, 3]\n",
    "print(my_list)"
   ]
  },
  {
   "cell_type": "markdown",
   "metadata": {},
   "source": [
    "リスト内に**どんな変数**をいれてもいいのが，他の言語と違うところ．"
   ]
  },
  {
   "cell_type": "code",
   "execution_count": 6,
   "metadata": {},
   "outputs": [
    {
     "name": "stdout",
     "output_type": "stream",
     "text": [
      "['string', 23, 1.2, 'o']\n"
     ]
    }
   ],
   "source": [
    "my_list = ['string', 23, 1.2, 'o']\n",
    "print(my_list)"
   ]
  },
  {
   "cell_type": "markdown",
   "metadata": {},
   "source": [
    "配列の大きさはlen関数で取得する"
   ]
  },
  {
   "cell_type": "code",
   "execution_count": 7,
   "metadata": {},
   "outputs": [
    {
     "name": "stdout",
     "output_type": "stream",
     "text": [
      "['string', 23, 1.2, 'o'] : it's size ---> 4\n"
     ]
    }
   ],
   "source": [
    "print(\"{} : it's size ---> {}\".format(my_list, len(my_list)))"
   ]
  },
  {
   "cell_type": "markdown",
   "metadata": {},
   "source": [
    "## indexingとslicing\n",
    "\n",
    "基本的には文字列と同様．indexは0から開始します．'[start:end:step]'という意味で使用する．endは含まないので注意．stepはdefault設定では1．"
   ]
  },
  {
   "cell_type": "code",
   "execution_count": 8,
   "metadata": {},
   "outputs": [
    {
     "name": "stdout",
     "output_type": "stream",
     "text": [
      "one\n",
      "['two', 'three', 4, 5]\n",
      "['one', 'two', 'three']\n"
     ]
    }
   ],
   "source": [
    "my_list = ['one', 'two', 'three', 4, 5]\n",
    "\n",
    "# [start:end:step]\n",
    "print(my_list[0])\n",
    "print(my_list[1:])\n",
    "print(my_list[:3])"
   ]
  },
  {
   "cell_type": "markdown",
   "metadata": {},
   "source": [
    "## 要素の追加\n",
    "\n",
    "以下の3種類を紹介．\n",
    "\n",
    "1. すでにあるlistにlistを追加し，新たにlistを生成する方法（'+'演算子を使う）\n",
    "2. すでにあるlistにlistを追加して，list自身をupdateする方法(extendを使う）\n",
    "3. すでにあるlistに1要素を追加する．(appendを使う方法）"
   ]
  },
  {
   "cell_type": "code",
   "execution_count": 9,
   "metadata": {},
   "outputs": [
    {
     "name": "stdout",
     "output_type": "stream",
     "text": [
      "my_list : ['one', 'two', 'three', 4, 5]\n",
      "new_list : ['one', 'two', 'three', 4, 5, 'new item', 'new item 2']\n"
     ]
    }
   ],
   "source": [
    "# + 演算子を使う方法\n",
    "my_list = ['one', 'two', 'three', 4, 5]\n",
    "print('my_list : {}'.format(my_list))\n",
    "\n",
    "new_list = my_list + ['new item', 'new item 2']\n",
    "print('new_list : {}'.format(new_list))"
   ]
  },
  {
   "cell_type": "code",
   "execution_count": 10,
   "metadata": {},
   "outputs": [
    {
     "name": "stdout",
     "output_type": "stream",
     "text": [
      "my_list : ['one', 'two', 'three', 4, 5]\n",
      "my_list : ['one', 'two', 'three', 4, 5, 'new_list', 'new item 2']\n"
     ]
    }
   ],
   "source": [
    "# extendを使う方法 : 自身のリストが変更される\n",
    "my_list = ['one', 'two', 'three', 4, 5]\n",
    "print('my_list : {}'.format(my_list))\n",
    "\n",
    "my_list.extend(['new_list', 'new item 2'])\n",
    "print('my_list : {}'.format(my_list))"
   ]
  },
  {
   "cell_type": "code",
   "execution_count": 11,
   "metadata": {},
   "outputs": [
    {
     "name": "stdout",
     "output_type": "stream",
     "text": [
      "my_list : ['one', 'two', 'three', 4, 5]\n",
      "my_list : ['one', 'two', 'three', 4, 5, 8]\n"
     ]
    }
   ],
   "source": [
    "# appendを使う方法 : 自身のリストが変更され，1要素を追加する\n",
    "my_list = ['one', 'two', 'three', 4, 5]\n",
    "print('my_list : {}'.format(my_list))\n",
    "\n",
    "my_list.append(8)\n",
    "print('my_list : {}'.format(my_list))"
   ]
  },
  {
   "cell_type": "code",
   "execution_count": 12,
   "metadata": {},
   "outputs": [
    {
     "name": "stdout",
     "output_type": "stream",
     "text": [
      "a : ['one', 'two', 'three', 4, 5, 8, '8']\n",
      "b : ['one', 'two', 'three', 4, 5, 8, '8']\n"
     ]
    }
   ],
   "source": [
    "# appendと同様なことを行う\n",
    "a = my_list + ['8']\n",
    "print(\"a : {}\".format(a))\n",
    "\n",
    "b = my_list\n",
    "b.extend(['8'])\n",
    "print(\"b : {}\".format(b))"
   ]
  },
  {
   "cell_type": "markdown",
   "metadata": {},
   "source": [
    "## 繰り返しのリストは乗算で生成する"
   ]
  },
  {
   "cell_type": "code",
   "execution_count": 13,
   "metadata": {},
   "outputs": [
    {
     "name": "stdout",
     "output_type": "stream",
     "text": [
      "['one', 'two', 'three', 4, 5, 8, '8', 'one', 'two', 'three', 4, 5, 8, '8']\n"
     ]
    }
   ],
   "source": [
    "print(my_list*2)"
   ]
  },
  {
   "cell_type": "markdown",
   "metadata": {},
   "source": [
    "## listの関数紹介\n",
    "\n",
    "1. pop : list内の要素を引き抜く．引数を渡すことでどの要素を引き抜くかを指定できる．\n",
    "2. reverse : list内の要素を逆順に変更．\n",
    "3. sort : list内の要素を並び替える．"
   ]
  },
  {
   "cell_type": "code",
   "execution_count": 14,
   "metadata": {},
   "outputs": [
    {
     "name": "stdout",
     "output_type": "stream",
     "text": [
      "Before pop : ['one', 'two', 'three', 4, 5]\n",
      "poped value : 5\n",
      "After pop : ['one', 'two', 'three', 4]\n",
      "poped value : one\n",
      "After pop : ['two', 'three', 4]\n"
     ]
    }
   ],
   "source": [
    "# popの使用例\n",
    "\n",
    "my_list = ['one', 'two', 'three', 4, 5]\n",
    "\n",
    "print(\"Before pop : {}\".format(my_list))\n",
    "\n",
    "# defaultは末尾の要素を引き抜く\n",
    "poped_value = my_list.pop()\n",
    "\n",
    "print(\"poped value : {}\".format(poped_value))\n",
    "print(\"After pop : {}\".format(my_list))\n",
    "\n",
    "poped_value = my_list.pop(0)\n",
    "print(\"poped value : {}\".format(poped_value))\n",
    "print(\"After pop : {}\".format(my_list))"
   ]
  },
  {
   "cell_type": "code",
   "execution_count": 15,
   "metadata": {},
   "outputs": [
    {
     "name": "stdout",
     "output_type": "stream",
     "text": [
      "['c', 'b', 'x', 'e', 'a']\n"
     ]
    }
   ],
   "source": [
    "# reverseの使用例 : list自身が変更されるので，注意．\n",
    "\n",
    "new_list = ['a', 'e', 'x', 'b', 'c']\n",
    "new_list.reverse()\n",
    "print(new_list)"
   ]
  },
  {
   "cell_type": "code",
   "execution_count": 16,
   "metadata": {},
   "outputs": [
    {
     "name": "stdout",
     "output_type": "stream",
     "text": [
      "['a', 'b', 'c', 'e', 'x']\n",
      "['x', 'e', 'c', 'b', 'a']\n"
     ]
    }
   ],
   "source": [
    "# sortの使用例 : list自身が変更されるので，注意．\n",
    "\n",
    "# default設定は昇順\n",
    "new_list.sort()\n",
    "print(new_list)\n",
    "\n",
    "# 降順に変更．\n",
    "new_list.sort(reverse=True)\n",
    "print(new_list)"
   ]
  },
  {
   "cell_type": "markdown",
   "metadata": {},
   "source": [
    "## 多次元配列 : 行列での例\n",
    "\n",
    "list内にlistを構成することで2次元のlistを実現する．"
   ]
  },
  {
   "cell_type": "code",
   "execution_count": 17,
   "metadata": {},
   "outputs": [
    {
     "name": "stdout",
     "output_type": "stream",
     "text": [
      "[[1, 2, 3], [4, 5, 6], [7, 8, 9]]\n"
     ]
    }
   ],
   "source": [
    "l_1 = [1, 2, 3]\n",
    "l_2 = [4, 5, 6]\n",
    "l_3 = [7, 8, 9]\n",
    "matrix = [l_1, l_2, l_3]\n",
    "print(matrix)"
   ]
  },
  {
   "cell_type": "markdown",
   "metadata": {},
   "source": [
    "一つ目のindexは行，２つ目のindexは列を表す．"
   ]
  },
  {
   "cell_type": "code",
   "execution_count": 18,
   "metadata": {},
   "outputs": [
    {
     "name": "stdout",
     "output_type": "stream",
     "text": [
      "[1, 2, 3]\n",
      "3\n",
      "2\n",
      "5\n"
     ]
    }
   ],
   "source": [
    "print(matrix[0])\n",
    "print(matrix[0][2])\n",
    "print(matrix[0][1])\n",
    "print(matrix[1][1])"
   ]
  },
  {
   "cell_type": "markdown",
   "metadata": {},
   "source": [
    "ある列を取得するにはlist comprehension（list内包）を使用する．これは後ほど説明する．"
   ]
  },
  {
   "cell_type": "code",
   "execution_count": 19,
   "metadata": {},
   "outputs": [
    {
     "name": "stdout",
     "output_type": "stream",
     "text": [
      "[1, 4, 7]\n"
     ]
    }
   ],
   "source": [
    "# list comprehension\n",
    "\n",
    "first_col = [ row[0] for row in matrix ]\n",
    "print(first_col)"
   ]
  },
  {
   "cell_type": "markdown",
   "metadata": {},
   "source": [
    "listの先頭に'*'をつけることで，リスト内の要素を展開することができる．unpackというが，これも後ほど説明予定．"
   ]
  },
  {
   "cell_type": "code",
   "execution_count": 20,
   "metadata": {},
   "outputs": [
    {
     "name": "stdout",
     "output_type": "stream",
     "text": [
      "3,1,2\n"
     ]
    }
   ],
   "source": [
    "# unpackとformatの連携例\n",
    "my_list = [1, 2, 3]\n",
    "\n",
    "# 要素の2, 0, 1番目の要素がそれぞれformat関数にて展開される．\n",
    "s = \"{2},{0},{1}\".format(*my_list)\n",
    "print(s)"
   ]
  }
 ],
 "metadata": {
  "kernelspec": {
   "display_name": "Python 3",
   "language": "python",
   "name": "python3"
  },
  "language_info": {
   "codemirror_mode": {
    "name": "ipython",
    "version": 3
   },
   "file_extension": ".py",
   "mimetype": "text/x-python",
   "name": "python",
   "nbconvert_exporter": "python",
   "pygments_lexer": "ipython3",
   "version": "3.6.3"
  },
  "toc": {
   "nav_menu": {},
   "number_sections": true,
   "sideBar": true,
   "skip_h1_title": false,
   "toc_cell": true,
   "toc_position": {
    "height": "718px",
    "left": "0px",
    "right": "1706px",
    "top": "111px",
    "width": "100px"
   },
   "toc_section_display": "block",
   "toc_window_display": false
  }
 },
 "nbformat": 4,
 "nbformat_minor": 2
}

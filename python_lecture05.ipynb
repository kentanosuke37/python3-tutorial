{
 "cells": [
  {
   "cell_type": "markdown",
   "metadata": {
    "toc": true
   },
   "source": [
    "<h1>Table of Contents<span class=\"tocSkip\"></span></h1>\n",
    "<div class=\"toc\" style=\"margin-top: 1em;\"><ul class=\"toc-item\"><li><span><a href=\"#ディクショナリ\" data-toc-modified-id=\"ディクショナリ-1\"><span class=\"toc-item-num\">1&nbsp;&nbsp;</span>ディクショナリ</a></span><ul class=\"toc-item\"><li><span><a href=\"#性質および一般的な使い方\" data-toc-modified-id=\"性質および一般的な使い方-1.1\"><span class=\"toc-item-num\">1.1&nbsp;&nbsp;</span>性質および一般的な使い方</a></span></li><li><span><a href=\"#ネストされたディクショナリのアクセス\" data-toc-modified-id=\"ネストされたディクショナリのアクセス-1.2\"><span class=\"toc-item-num\">1.2&nbsp;&nbsp;</span>ネストされたディクショナリのアクセス</a></span></li><li><span><a href=\"#ディクショナリを利用する上で重要な関数\" data-toc-modified-id=\"ディクショナリを利用する上で重要な関数-1.3\"><span class=\"toc-item-num\">1.3&nbsp;&nbsp;</span>ディクショナリを利用する上で重要な関数</a></span></li><li><span><a href=\"#ディクショナリの利用例-:-sparse行列を表現して行列演算に利用\" data-toc-modified-id=\"ディクショナリの利用例-:-sparse行列を表現して行列演算に利用-1.4\"><span class=\"toc-item-num\">1.4&nbsp;&nbsp;</span>ディクショナリの利用例 : sparse行列を表現して行列演算に利用</a></span></li></ul></li><li><span><a href=\"#タプル\" data-toc-modified-id=\"タプル-2\"><span class=\"toc-item-num\">2&nbsp;&nbsp;</span>タプル</a></span></li><li><span><a href=\"#ファイル\" data-toc-modified-id=\"ファイル-3\"><span class=\"toc-item-num\">3&nbsp;&nbsp;</span>ファイル</a></span><ul class=\"toc-item\"><li><span><a href=\"#読込\" data-toc-modified-id=\"読込-3.1\"><span class=\"toc-item-num\">3.1&nbsp;&nbsp;</span>読込</a></span></li><li><span><a href=\"#ファイルの書込み\" data-toc-modified-id=\"ファイルの書込み-3.2\"><span class=\"toc-item-num\">3.2&nbsp;&nbsp;</span>ファイルの書込み</a></span></li><li><span><a href=\"#binaryファイルの読込みおよび書込み\" data-toc-modified-id=\"binaryファイルの読込みおよび書込み-3.3\"><span class=\"toc-item-num\">3.3&nbsp;&nbsp;</span>binaryファイルの読込みおよび書込み</a></span><ul class=\"toc-item\"><li><span><a href=\"#書込みの流れ\" data-toc-modified-id=\"書込みの流れ-3.3.1\"><span class=\"toc-item-num\">3.3.1&nbsp;&nbsp;</span>書込みの流れ</a></span></li><li><span><a href=\"#読込みの流れ\" data-toc-modified-id=\"読込みの流れ-3.3.2\"><span class=\"toc-item-num\">3.3.2&nbsp;&nbsp;</span>読込みの流れ</a></span></li><li><span><a href=\"#binaryのformat一覧\" data-toc-modified-id=\"binaryのformat一覧-3.3.3\"><span class=\"toc-item-num\">3.3.3&nbsp;&nbsp;</span>binaryのformat一覧</a></span></li></ul></li><li><span><a href=\"#ピクルス(pickle)の作り方\" data-toc-modified-id=\"ピクルス(pickle)の作り方-3.4\"><span class=\"toc-item-num\">3.4&nbsp;&nbsp;</span>ピクルス(pickle)の作り方</a></span></li></ul></li></ul></div>"
   ]
  },
  {
   "cell_type": "markdown",
   "metadata": {},
   "source": [
    "# ディクショナリ\n",
    "\n",
    "## 性質および一般的な使い方\n",
    "\n",
    "下記はリストの例．リストは負ではない整数をindexにして値を取得するが，ディクショナリは違う．"
   ]
  },
  {
   "cell_type": "code",
   "execution_count": 55,
   "metadata": {},
   "outputs": [
    {
     "name": "stdout",
     "output_type": "stream",
     "text": [
      "[1, 2, 3]\n",
      "1\n"
     ]
    }
   ],
   "source": [
    "l = [1, 2, 3]\n",
    "print(l)\n",
    "print(l[0])"
   ]
  },
  {
   "cell_type": "markdown",
   "metadata": {},
   "source": [
    "ディクショナリはkeyとvalueで構成されるデータ構造です．ディクショナリは中括弧\"{}\"を使って，keyとvalueを\":\"で区切って宣言します．"
   ]
  },
  {
   "cell_type": "code",
   "execution_count": 56,
   "metadata": {},
   "outputs": [
    {
     "name": "stdout",
     "output_type": "stream",
     "text": [
      "{'key1': 'value', 'key2': 'value2'}\n"
     ]
    }
   ],
   "source": [
    "my_dict = {'key1' : 'value', 'key2': 'value2'}\n",
    "print(my_dict)"
   ]
  },
  {
   "cell_type": "markdown",
   "metadata": {},
   "source": [
    "値を取得するには，大括弧\"[]\"にkeyを代入することでvalueを取得します.下記の例では，keyに0がないので，エラーになります．"
   ]
  },
  {
   "cell_type": "code",
   "execution_count": 57,
   "metadata": {},
   "outputs": [
    {
     "ename": "KeyError",
     "evalue": "0",
     "output_type": "error",
     "traceback": [
      "\u001b[1;31m---------------------------------------------------------------------------\u001b[0m",
      "\u001b[1;31mKeyError\u001b[0m                                  Traceback (most recent call last)",
      "\u001b[1;32m<ipython-input-57-2e042f7087f7>\u001b[0m in \u001b[0;36m<module>\u001b[1;34m()\u001b[0m\n\u001b[1;32m----> 1\u001b[1;33m \u001b[0mmy_dict\u001b[0m\u001b[1;33m[\u001b[0m\u001b[1;36m0\u001b[0m\u001b[1;33m]\u001b[0m\u001b[1;33m\u001b[0m\u001b[0m\n\u001b[0m",
      "\u001b[1;31mKeyError\u001b[0m: 0"
     ]
    }
   ],
   "source": [
    "my_dict[0]"
   ]
  },
  {
   "cell_type": "markdown",
   "metadata": {},
   "source": [
    "keyが存在する場合は，valueを取得できます．"
   ]
  },
  {
   "cell_type": "code",
   "execution_count": 58,
   "metadata": {},
   "outputs": [
    {
     "name": "stdout",
     "output_type": "stream",
     "text": [
      "value\n",
      "value2\n"
     ]
    }
   ],
   "source": [
    "print(my_dict['key1'])\n",
    "print(my_dict['key2'])"
   ]
  },
  {
   "cell_type": "markdown",
   "metadata": {},
   "source": [
    "keyとvalueにはどんな値を設定してもOKです．型が異なるものを設定したものが下記の例．"
   ]
  },
  {
   "cell_type": "code",
   "execution_count": 59,
   "metadata": {},
   "outputs": [
    {
     "name": "stdout",
     "output_type": "stream",
     "text": [
      "{'k1': 123, 'k2': 3.4, 'k3': 'string'}\n",
      "123\n",
      "3.4\n",
      "string\n"
     ]
    }
   ],
   "source": [
    "my_dict = {'k1': 123, 'k2': 3.4,  'k3': 'string'}\n",
    "print(my_dict)\n",
    "print(my_dict['k1'])\n",
    "print(my_dict['k2'])\n",
    "print(my_dict['k3'])"
   ]
  },
  {
   "cell_type": "markdown",
   "metadata": {},
   "source": [
    "valueの要素にもアクセスが可能です．また，immutableな変数ではないので，個々の要素の変更が可能です．"
   ]
  },
  {
   "cell_type": "code",
   "execution_count": 60,
   "metadata": {},
   "outputs": [
    {
     "name": "stdout",
     "output_type": "stream",
     "text": [
      "s\n",
      "3\n",
      "3\n"
     ]
    }
   ],
   "source": [
    "my_dict = {'k1': 123, 'k2': 3.4,  'k3': 'string'}\n",
    "\n",
    "# 'string'の0番目の文字にアクセス．\n",
    "print(my_dict['k3'][0])\n",
    "\n",
    "# 123 - 120\n",
    "print(my_dict['k1']-120)\n",
    "\n",
    "# immutableではない ---> 変更可能なデータ構造\n",
    "my_dict['k1'] = my_dict['k1'] - 120\n",
    "print(my_dict['k1'])"
   ]
  },
  {
   "cell_type": "markdown",
   "metadata": {},
   "source": [
    "複合演算子(\"+=\", \"-=\", \"\\*=\")を利用可能です．"
   ]
  },
  {
   "cell_type": "code",
   "execution_count": 61,
   "metadata": {},
   "outputs": [
    {
     "name": "stdout",
     "output_type": "stream",
     "text": [
      "126\n",
      "123\n",
      "369\n"
     ]
    }
   ],
   "source": [
    "my_dict = {'k1': 123, 'k2': 3.4,  'k3': 'string'}\n",
    "\n",
    "# my_dict['k1'] = my_dict['k1'] + 3と同じ\n",
    "my_dict['k1'] += 3\n",
    "print(my_dict['k1'])\n",
    "\n",
    "# my_dict['k1'] = my_dict['k1'] - 3と同じ\n",
    "my_dict['k1'] -= 3\n",
    "print(my_dict['k1'])\n",
    "\n",
    "# my_dict['k1'] = 3*my_dict['k1']\n",
    "my_dict['k1'] *= 3\n",
    "print(my_dict['k1'])"
   ]
  },
  {
   "cell_type": "markdown",
   "metadata": {},
   "source": [
    "一般的には空のディクショナリを宣言してから，keyとvalueを入れて，使用する．"
   ]
  },
  {
   "cell_type": "code",
   "execution_count": 62,
   "metadata": {},
   "outputs": [
    {
     "name": "stdout",
     "output_type": "stream",
     "text": [
      "{'animal': 'Dog', 'answer': 42}\n"
     ]
    }
   ],
   "source": [
    "d = {}\n",
    "d['animal'] = 'Dog'\n",
    "d['answer'] = 42\n",
    "print(d)"
   ]
  },
  {
   "cell_type": "markdown",
   "metadata": {},
   "source": [
    "keyは重複を許さない．指定したkeyが存在する場合，代入を行うとvalueが上書きされます．"
   ]
  },
  {
   "cell_type": "code",
   "execution_count": 63,
   "metadata": {},
   "outputs": [
    {
     "name": "stdout",
     "output_type": "stream",
     "text": [
      "{'animal': 'cat', 'answer': 42}\n"
     ]
    }
   ],
   "source": [
    "d['animal'] = 'cat'\n",
    "print(d)"
   ]
  },
  {
   "cell_type": "markdown",
   "metadata": {},
   "source": [
    "## ネストされたディクショナリのアクセス\n",
    "\n",
    "ディクショナリのvalueにディクショナリが設定された場合，下記のような動作をする．"
   ]
  },
  {
   "cell_type": "code",
   "execution_count": 64,
   "metadata": {},
   "outputs": [
    {
     "name": "stdout",
     "output_type": "stream",
     "text": [
      "{'nestkey': {'subnestkey': 'value'}}\n",
      "{'subnestkey': 'value'}\n",
      "value\n"
     ]
    }
   ],
   "source": [
    "d = {'k1': {'nestkey': {'subnestkey': 'value'}}}\n",
    "\n",
    "# value ---> {'nestkey' : {'subnestkey': 'value'}}}\n",
    "print(d['k1'])\n",
    "\n",
    "# value ---> {'subnestkey': 'value'}\n",
    "print(d['k1']['nestkey'])\n",
    "\n",
    "# value ---> 'value'\n",
    "print(d['k1']['nestkey']['subnestkey'])"
   ]
  },
  {
   "cell_type": "markdown",
   "metadata": {},
   "source": [
    "## ディクショナリを利用する上で重要な関数\n",
    "\n",
    "下記に示すkeys(), values(), items()はディクショナリのkey，value，keyとvalueのタプルのリストをそれぞれ返す．"
   ]
  },
  {
   "cell_type": "code",
   "execution_count": 10,
   "metadata": {},
   "outputs": [
    {
     "name": "stdout",
     "output_type": "stream",
     "text": [
      "dict_keys(['k1', 'k2', 'k3'])\n",
      "dict_values([1, 2, 3])\n",
      "dict_items([('k1', 1), ('k2', 2), ('k3', 3)])\n"
     ]
    }
   ],
   "source": [
    "d = {}\n",
    "d['k1'] = 1\n",
    "d['k2'] = 2\n",
    "d['k3'] = 3\n",
    "# keyのリストを返す\n",
    "print(d.keys())\n",
    "\n",
    "# valueのリストを返す\n",
    "print(d.values())\n",
    "\n",
    "# (key, value)のリストを返す\n",
    "print(d.items())"
   ]
  },
  {
   "cell_type": "markdown",
   "metadata": {},
   "source": [
    "実際にはforループと一緒に下記のように使用する．"
   ]
  },
  {
   "cell_type": "code",
   "execution_count": 11,
   "metadata": {},
   "outputs": [
    {
     "name": "stdout",
     "output_type": "stream",
     "text": [
      "key : k1, value : 1\n",
      "key : k2, value : 2\n",
      "key : k3, value : 3\n"
     ]
    }
   ],
   "source": [
    "# keyのリストを取得して，valueを取得する\n",
    "for key in d.keys():\n",
    "    print(\"key : {}, value : {}\".format(key, d[key]))"
   ]
  },
  {
   "cell_type": "code",
   "execution_count": 12,
   "metadata": {},
   "outputs": [
    {
     "name": "stdout",
     "output_type": "stream",
     "text": [
      "value : 1\n",
      "value : 2\n",
      "value : 3\n"
     ]
    }
   ],
   "source": [
    "# valueのリストを取得してループで処理\n",
    "for value in d.values():\n",
    "    print(\"value : {}\".format(value))"
   ]
  },
  {
   "cell_type": "code",
   "execution_count": 13,
   "metadata": {},
   "outputs": [
    {
     "name": "stdout",
     "output_type": "stream",
     "text": [
      "key : k1, value : 1\n",
      "key : k2, value : 2\n",
      "key : k3, value : 3\n"
     ]
    }
   ],
   "source": [
    "# (key, value)のリストを取得してループで処理\n",
    "for key, value in d.items():\n",
    "     print(\"key : {}, value : {}\".format(key, value))"
   ]
  },
  {
   "cell_type": "markdown",
   "metadata": {},
   "source": [
    "1変数のタプルで受け取ることも可能．その際は，0番目にkey，1番目にvalueが格納される．タプルは後ほど説明する．"
   ]
  },
  {
   "cell_type": "code",
   "execution_count": 14,
   "metadata": {},
   "outputs": [
    {
     "name": "stdout",
     "output_type": "stream",
     "text": [
      "key : k1, value : 1\n",
      "key : k2, value : 2\n",
      "key : k3, value : 3\n"
     ]
    }
   ],
   "source": [
    "# 1変数のタプルでkeyとvalueを受け取る例\n",
    "for t in d.items():\n",
    "    print(\"key : {}, value : {}\".format(t[0], t[1]))"
   ]
  },
  {
   "cell_type": "markdown",
   "metadata": {},
   "source": [
    "## ディクショナリの利用例 : sparse行列を表現して行列演算に利用\n",
    "\n",
    "下記はリストを使用して行列演算を行う例．"
   ]
  },
  {
   "cell_type": "code",
   "execution_count": 1,
   "metadata": {},
   "outputs": [
    {
     "name": "stdout",
     "output_type": "stream",
     "text": [
      "[8, 1, 2]\n"
     ]
    }
   ],
   "source": [
    "A = [[0, 1, 2],\n",
    "     [1, 0, 0],\n",
    "     [0, 1, 0]]\n",
    "x = [1, 2, 3]\n",
    "Ax = [0, 0, 0]\n",
    "\n",
    "for i in range(3):\n",
    "    for j in range(3):\n",
    "        Ax[i] += A[i][j]*x[j] # Ax[i] = AX[i] + A[i][j]*x[j]\n",
    "    \n",
    "print(Ax)"
   ]
  },
  {
   "cell_type": "markdown",
   "metadata": {},
   "source": [
    "一方でディクショナリを使用すると，0の部分は保持しないで済ますことができる．下記がその例．"
   ]
  },
  {
   "cell_type": "code",
   "execution_count": 6,
   "metadata": {},
   "outputs": [
    {
     "name": "stdout",
     "output_type": "stream",
     "text": [
      "(0, 1) 0 1\n",
      "(0, 2) 0 2\n",
      "(1, 0) 1 0\n",
      "(2, 1) 2 1\n",
      "[8, 1, 2]\n"
     ]
    }
   ],
   "source": [
    "#A = [[0, 1, 2],\n",
    "#     [1, 0, 0],\n",
    "#     [0, 1, 0]]\n",
    "\n",
    "A = {}\n",
    "A[(0,1)] = 1\n",
    "A[(0,2)] = 2\n",
    "A[(1,0)] = 1\n",
    "A[(2,1)] = 1\n",
    "x = [1, 2, 3]\n",
    "\n",
    "Ax = [0, 0, 0]\n",
    "for key in A.keys():\n",
    "    i, j = key\n",
    "    Ax[i] += A[(i, j)]*x[j]\n",
    "    \n",
    "print(Ax)"
   ]
  },
  {
   "cell_type": "markdown",
   "metadata": {},
   "source": [
    "# タプル\n",
    "\n",
    "リストとほぼ同じですが，immutableな変数です．小括弧\"()\"にて表現する．"
   ]
  },
  {
   "cell_type": "code",
   "execution_count": 70,
   "metadata": {},
   "outputs": [
    {
     "name": "stdout",
     "output_type": "stream",
     "text": [
      "[1, 2, 3]\n",
      "(1, 2, 3)\n"
     ]
    }
   ],
   "source": [
    "# こちらがリスト\n",
    "l = [1, 2, 3]\n",
    "print(l)\n",
    "\n",
    "# こちらがタプル\n",
    "t = (1, 2, 3)\n",
    "print(t)"
   ]
  },
  {
   "cell_type": "markdown",
   "metadata": {},
   "source": [
    "アクセス方法はリストと同じ．だが，immutableな変数なので，変更はできない．これがリストと違うところ．"
   ]
  },
  {
   "cell_type": "code",
   "execution_count": 71,
   "metadata": {},
   "outputs": [
    {
     "name": "stdout",
     "output_type": "stream",
     "text": [
      "1\n"
     ]
    },
    {
     "ename": "TypeError",
     "evalue": "'tuple' object does not support item assignment",
     "output_type": "error",
     "traceback": [
      "\u001b[1;31m---------------------------------------------------------------------------\u001b[0m",
      "\u001b[1;31mTypeError\u001b[0m                                 Traceback (most recent call last)",
      "\u001b[1;32m<ipython-input-71-ce297ff0c305>\u001b[0m in \u001b[0;36m<module>\u001b[1;34m()\u001b[0m\n\u001b[0;32m      1\u001b[0m \u001b[0mprint\u001b[0m\u001b[1;33m(\u001b[0m\u001b[0mt\u001b[0m\u001b[1;33m[\u001b[0m\u001b[1;36m0\u001b[0m\u001b[1;33m]\u001b[0m\u001b[1;33m)\u001b[0m\u001b[1;33m\u001b[0m\u001b[0m\n\u001b[1;32m----> 2\u001b[1;33m \u001b[0mt\u001b[0m\u001b[1;33m[\u001b[0m\u001b[1;36m0\u001b[0m\u001b[1;33m]\u001b[0m \u001b[1;33m=\u001b[0m \u001b[1;36m4\u001b[0m\u001b[1;33m\u001b[0m\u001b[0m\n\u001b[0m",
      "\u001b[1;31mTypeError\u001b[0m: 'tuple' object does not support item assignment"
     ]
    }
   ],
   "source": [
    "print(t[0])\n",
    "t[0] = 4"
   ]
  },
  {
   "cell_type": "markdown",
   "metadata": {},
   "source": [
    "immutableな点を除いては，アクセス方法はリストと同じ．"
   ]
  },
  {
   "cell_type": "code",
   "execution_count": 72,
   "metadata": {},
   "outputs": [
    {
     "name": "stdout",
     "output_type": "stream",
     "text": [
      "3\n",
      "1\n",
      "2\n",
      "3\n"
     ]
    }
   ],
   "source": [
    "t = (1,2,3)\n",
    "\n",
    "# 配列の数を返す\n",
    "print(len(t))\n",
    "\n",
    "# 0番目の値を返す\n",
    "print(t[0])\n",
    "\n",
    "# 1番目の値を返す\n",
    "print(t[1])\n",
    "\n",
    "# 後ろから1番目の値を返す\n",
    "print(t[-1])"
   ]
  },
  {
   "cell_type": "markdown",
   "metadata": {},
   "source": [
    "基本，リストと振る舞いは同じだが，実装されている関数がリストより少ない．ただし，indexおよびcount関数が存在する．indexは引数で渡された値がリストに存在したら，そのindexを返す．coutは引数で渡された値がリスト，あるいはタプル内にいくつあるかを返す．"
   ]
  },
  {
   "cell_type": "code",
   "execution_count": 73,
   "metadata": {},
   "outputs": [
    {
     "name": "stdout",
     "output_type": "stream",
     "text": [
      "0\n",
      "2\n",
      "2\n"
     ]
    }
   ],
   "source": [
    "t = (1, 2, 3, 3)\n",
    "\n",
    "# 0番目のindexを返す．\n",
    "print(t.index(1))\n",
    "\n",
    "# 2番目のindexを返す．indexが若い方を返す．\n",
    "print(t.index(3))\n",
    "\n",
    "# 3は2つ存在するので，2を返す．\n",
    "print(t.count(3))"
   ]
  },
  {
   "cell_type": "markdown",
   "metadata": {},
   "source": [
    "タプルをリストにはlist関数，リストをタプルにするにはtuple関数を使用する．"
   ]
  },
  {
   "cell_type": "code",
   "execution_count": 74,
   "metadata": {},
   "outputs": [
    {
     "name": "stdout",
     "output_type": "stream",
     "text": [
      "[1, 2, 3, 3]\n",
      "(1, 2, 3, 3)\n"
     ]
    }
   ],
   "source": [
    "t = (1, 2, 3, 3)\n",
    "\n",
    "# listに変換\n",
    "l = list(t)\n",
    "\n",
    "# tupleに変換\n",
    "t = tuple(l)\n",
    "print(l)\n",
    "print(t)"
   ]
  },
  {
   "cell_type": "markdown",
   "metadata": {},
   "source": [
    "# ファイル\n",
    "\n",
    "## 読込\n",
    "\n",
    "カレントディレクトリにtest.txtが存在し，下記の内容で存在するとしましょう．これをopen文を使用して読み込みます．\n",
    "\n",
    "```\n",
    "test line1\n",
    "test line2\n",
    "test line3\n",
    "```"
   ]
  },
  {
   "cell_type": "code",
   "execution_count": 3,
   "metadata": {},
   "outputs": [
    {
     "name": "stdout",
     "output_type": "stream",
     "text": [
      "test line1\n",
      "test line2\n",
      "test line3\n",
      "['test line1', 'test line2', 'test line3']\n"
     ]
    }
   ],
   "source": [
    "# open文にfileのパス，読込を示す'r'を引数で渡す．\n",
    "f = open('test.txt', 'r')\n",
    "\n",
    "# すべてを読み込み，sに代入\n",
    "s = f.read()\n",
    "print(s)\n",
    "\n",
    "# 最後にcloseする\n",
    "f.close()\n",
    "\n",
    "# 一行ずつのリストにするには，split関数を使用し，'\\n'で分割\n",
    "lines = s.split('\\n')\n",
    "print(lines)"
   ]
  },
  {
   "cell_type": "markdown",
   "metadata": {},
   "source": [
    "一行ずつ読み込むにはreadline関数を使用します．"
   ]
  },
  {
   "cell_type": "code",
   "execution_count": null,
   "metadata": {},
   "outputs": [],
   "source": [
    "# open文にfileのパス，読込を示す'r'を引数で渡す．\n",
    "f = open('test.txt', 'r')\n",
    "\n",
    "# 1行読込\n",
    "print(f.readline())\n",
    "print(f.readline())\n",
    "print(f.readline())\n",
    "\n",
    "# 最後にcloseする\n",
    "f.close()"
   ]
  },
  {
   "cell_type": "markdown",
   "metadata": {},
   "source": [
    "ファイルの内容を一行ずつのリストにするreadlines関数がある．これの利用例が下記の通りだが，おそらく速度が遅いので利用は非推奨です．"
   ]
  },
  {
   "cell_type": "code",
   "execution_count": 76,
   "metadata": {},
   "outputs": [
    {
     "name": "stdout",
     "output_type": "stream",
     "text": [
      "['test line1\\n', 'test line2\\n', 'test line3']\n"
     ]
    }
   ],
   "source": [
    "f = open('test.txt', 'r')\n",
    "lines = f.readlines()\n",
    "print(lines)\n",
    "f.close()"
   ]
  },
  {
   "cell_type": "markdown",
   "metadata": {},
   "source": [
    "for文を利用して一行ずつファイルを取得することも可能．その時はclose文はいらない．"
   ]
  },
  {
   "cell_type": "code",
   "execution_count": 77,
   "metadata": {},
   "outputs": [
    {
     "name": "stdout",
     "output_type": "stream",
     "text": [
      "test line1\n",
      "test line2\n",
      "test line3"
     ]
    }
   ],
   "source": [
    "for line in open('test.txt', 'r'):\n",
    "    print(line, end='')"
   ]
  },
  {
   "cell_type": "markdown",
   "metadata": {},
   "source": [
    "実際に一番使用するのは，リスト内包(list comprehension)で一行ずつのリストを得る方法．この方法は簡便でかつ，実行速度が速い．一番，この方法を使用するので，推奨です．"
   ]
  },
  {
   "cell_type": "code",
   "execution_count": 78,
   "metadata": {},
   "outputs": [
    {
     "name": "stdout",
     "output_type": "stream",
     "text": [
      "['test line1\\n', 'test line2\\n', 'test line3']\n"
     ]
    }
   ],
   "source": [
    "lines = [line for line in open('test.txt', 'r')]\n",
    "print(lines)"
   ]
  },
  {
   "cell_type": "markdown",
   "metadata": {},
   "source": [
    "まだリスト内包については詳しく説明していないですが，やっていることは下記のことと同じです．"
   ]
  },
  {
   "cell_type": "code",
   "execution_count": 79,
   "metadata": {},
   "outputs": [
    {
     "name": "stdout",
     "output_type": "stream",
     "text": [
      "['test line1\\n', 'test line2\\n', 'test line3']\n"
     ]
    }
   ],
   "source": [
    "lines = []\n",
    "for line in open('test.txt', 'r'):\n",
    "    lines.append(line)\n",
    "print(lines)"
   ]
  },
  {
   "cell_type": "markdown",
   "metadata": {},
   "source": [
    "withを使用する方法もcloseがいりません．下記がその例になります．ただし，fileオブジェクトのfはwith文のindentを下げた領域内でしか有効ではないことに注意．"
   ]
  },
  {
   "cell_type": "code",
   "execution_count": 7,
   "metadata": {},
   "outputs": [
    {
     "name": "stdout",
     "output_type": "stream",
     "text": [
      "test line1\n",
      "test line2\n",
      "test line3\n",
      "test line1\n",
      "test line2\n",
      "test line3"
     ]
    }
   ],
   "source": [
    "# 一気に読み込む\n",
    "with open('test.txt', 'r') as f:\n",
    "    print(f.read())\n",
    "\n",
    "# 一行ずつ読み込む\n",
    "with open('test.txt', 'r') as f:\n",
    "    print(f.readline(),end='')\n",
    "    print(f.readline(),end='')\n",
    "    print(f.readline(),end='')"
   ]
  },
  {
   "cell_type": "markdown",
   "metadata": {},
   "source": [
    "読込位置を戻す時はseek関数を使用する．引数は開始文字列の位置を示す．"
   ]
  },
  {
   "cell_type": "code",
   "execution_count": 1,
   "metadata": {},
   "outputs": [
    {
     "name": "stdout",
     "output_type": "stream",
     "text": [
      "test line1\n",
      "test line2\n",
      "test line3\n",
      "test line1\n",
      "test line2\n",
      "test line3\n"
     ]
    }
   ],
   "source": [
    "# 戻す\n",
    "with open('test.txt', 'r') as f:\n",
    "    print(f.read())\n",
    "    \n",
    "    # 読込開始位置に読込を戻す\n",
    "    f.seek(0)\n",
    "    \n",
    "    print(f.read())\n"
   ]
  },
  {
   "cell_type": "markdown",
   "metadata": {},
   "source": [
    "## ファイルの書込み\n",
    "\n",
    "open文に'r'ではなく，'w'を渡すと書込みモードになる．書込みはwrite関数を使用し，書き込みたい文字列を引数に渡す．writeモードではread関数は使用できないので，注意すること．"
   ]
  },
  {
   "cell_type": "code",
   "execution_count": 1,
   "metadata": {},
   "outputs": [],
   "source": [
    "with open('test_write.txt', 'w') as f:\n",
    "    f.write('line1\\n')\n",
    "    f.write('line2\\n')\n",
    "    f.write('line3\\n')"
   ]
  },
  {
   "cell_type": "markdown",
   "metadata": {},
   "source": [
    "追加書込みはopen文に'a'を指定する．"
   ]
  },
  {
   "cell_type": "code",
   "execution_count": 2,
   "metadata": {},
   "outputs": [],
   "source": [
    "with open('test_write.txt', 'a') as f:\n",
    "    f.write('line4\\n')\n",
    "    "
   ]
  },
  {
   "cell_type": "markdown",
   "metadata": {},
   "source": [
    "open文で'r+'あるいは，'w+'とすると，読み書きを同時に行えます．"
   ]
  },
  {
   "cell_type": "code",
   "execution_count": 8,
   "metadata": {},
   "outputs": [
    {
     "name": "stdout",
     "output_type": "stream",
     "text": [
      "line1\n",
      "line2\n",
      "line3\n",
      "line4\n"
     ]
    }
   ],
   "source": [
    "# まずファイルを作成\n",
    "with open('test_read_write.txt', 'w') as f:\n",
    "    f.write('line1\\n')\n",
    "    f.write('line2\\n')\n",
    "    f.write('line3\\n')\n",
    "\n",
    "with open('test_read_write.txt', 'r+') as f:\n",
    "    file_content = f.read()\n",
    "    file_content += 'line4'\n",
    "    f.seek(0)\n",
    "    f.write(file_content)\n",
    "    print(file_content)"
   ]
  },
  {
   "cell_type": "code",
   "execution_count": 9,
   "metadata": {},
   "outputs": [
    {
     "name": "stdout",
     "output_type": "stream",
     "text": [
      "line1\n",
      "line2\n",
      "line3\n",
      "\n"
     ]
    }
   ],
   "source": [
    "with open('test_write_read.txt', 'w+') as f:\n",
    "    f.write('line1\\n')\n",
    "    f.write('line2\\n')\n",
    "    f.write('line3\\n')\n",
    "    f.seek(0)\n",
    "    file_content = f.read()\n",
    "    print(file_content)"
   ]
  },
  {
   "cell_type": "markdown",
   "metadata": {},
   "source": [
    "## binaryファイルの読込みおよび書込み\n",
    "\n",
    "先にbinaryファイルの作成について説明し，作成したbinaryファイルを読み込む形で説明を行う．binaryファイルを読込む，あるいは書き込むにはstructモジュールを使用する．例に先立って，大まかな流れを説明する．\n",
    "\n",
    "### 書込みの流れ\n",
    "\n",
    "1. 書込みたいデータに文字列がある時は，byte型に変換する．\n",
    "2. struct.Struct(...)にてbinaryファイルのフォーマットを定義する．\n",
    "3. 作成したformatインスタンスのunpack関数を使用して，データをbinary化する．\n",
    "4. ファイルに書き込む．\n",
    "\n",
    "### 読込みの流れ\n",
    "\n",
    "1. binaryデータを読み込む．\n",
    "2. struct.Struct(...)にてbinaryファイルのフォーマットを定義する．\n",
    "3. 作成したformatインスタンスのpack関数を使用して，読み込んだbinaryデータをpythonのデータ型に変換する．\n"
   ]
  },
  {
   "cell_type": "markdown",
   "metadata": {},
   "source": [
    "### binaryのformat一覧\n",
    "\n",
    "formatは下記の表の通り．formatの開始にはリトルエンディアンだったら'<'，ビックエンディアンだったら'>'で開始する．\n",
    "\n",
    "<table border=\"1\" class=\"docutils\">\n",
    "<colgroup>\n",
    "<col width=\"10%\">\n",
    "<col width=\"32%\">\n",
    "<col width=\"24%\">\n",
    "<col width=\"20%\">\n",
    "<col width=\"15%\">\n",
    "</colgroup>\n",
    "<thead valign=\"bottom\">\n",
    "<tr class=\"row-odd\"><th class=\"head\">フォーマット</th>\n",
    "<th class=\"head\">C の型</th>\n",
    "<th class=\"head\">Python の型</th>\n",
    "<th class=\"head\">標準のサイズ</th>\n",
    "<th class=\"head\">注釈</th>\n",
    "</tr>\n",
    "</thead>\n",
    "<tbody valign=\"top\">\n",
    "<tr class=\"row-even\"><td><code class=\"docutils literal\"><span class=\"pre\">x</span></code></td>\n",
    "<td>パディングバイト</td>\n",
    "<td>値なし</td>\n",
    "<td>&nbsp;</td>\n",
    "<td>&nbsp;</td>\n",
    "</tr>\n",
    "<tr class=\"row-odd\"><td><code class=\"docutils literal\"><span class=\"pre\">c</span></code></td>\n",
    "<td><code class=\"xref c c-type docutils literal\"><span class=\"pre\">char</span></code></td>\n",
    "<td>長さ 1 のバイト列</td>\n",
    "<td>1</td>\n",
    "<td>&nbsp;</td>\n",
    "</tr>\n",
    "<tr class=\"row-even\"><td><code class=\"docutils literal\"><span class=\"pre\">b</span></code></td>\n",
    "<td><code class=\"xref c c-type docutils literal\"><span class=\"pre\">signed</span> <span class=\"pre\">char</span></code></td>\n",
    "<td>整数</td>\n",
    "<td>1</td>\n",
    "<td>(1),(3)</td>\n",
    "</tr>\n",
    "<tr class=\"row-odd\"><td><code class=\"docutils literal\"><span class=\"pre\">B</span></code></td>\n",
    "<td><code class=\"xref c c-type docutils literal\"><span class=\"pre\">unsigned</span> <span class=\"pre\">char</span></code></td>\n",
    "<td>整数</td>\n",
    "<td>1</td>\n",
    "<td>(3)</td>\n",
    "</tr>\n",
    "<tr class=\"row-even\"><td><code class=\"docutils literal\"><span class=\"pre\">?</span></code></td>\n",
    "<td><code class=\"xref c c-type docutils literal\"><span class=\"pre\">_Bool</span></code></td>\n",
    "<td>真偽値型(bool)</td>\n",
    "<td>1</td>\n",
    "<td>(1)</td>\n",
    "</tr>\n",
    "<tr class=\"row-odd\"><td><code class=\"docutils literal\"><span class=\"pre\">h</span></code></td>\n",
    "<td><code class=\"xref c c-type docutils literal\"><span class=\"pre\">short</span></code></td>\n",
    "<td>整数</td>\n",
    "<td>2</td>\n",
    "<td>(3)</td>\n",
    "</tr>\n",
    "<tr class=\"row-even\"><td><code class=\"docutils literal\"><span class=\"pre\">H</span></code></td>\n",
    "<td><code class=\"xref c c-type docutils literal\"><span class=\"pre\">unsigned</span> <span class=\"pre\">short</span></code></td>\n",
    "<td>整数</td>\n",
    "<td>2</td>\n",
    "<td>(3)</td>\n",
    "</tr>\n",
    "<tr class=\"row-odd\"><td><code class=\"docutils literal\"><span class=\"pre\">i</span></code></td>\n",
    "<td><code class=\"xref c c-type docutils literal\"><span class=\"pre\">int</span></code></td>\n",
    "<td>整数</td>\n",
    "<td>4</td>\n",
    "<td>(3)</td>\n",
    "</tr>\n",
    "<tr class=\"row-even\"><td><code class=\"docutils literal\"><span class=\"pre\">I</span></code></td>\n",
    "<td><code class=\"xref c c-type docutils literal\"><span class=\"pre\">unsigned</span> <span class=\"pre\">int</span></code></td>\n",
    "<td>整数</td>\n",
    "<td>4</td>\n",
    "<td>(3)</td>\n",
    "</tr>\n",
    "<tr class=\"row-odd\"><td><code class=\"docutils literal\"><span class=\"pre\">l</span></code></td>\n",
    "<td><code class=\"xref c c-type docutils literal\"><span class=\"pre\">long</span></code></td>\n",
    "<td>整数</td>\n",
    "<td>4</td>\n",
    "<td>(3)</td>\n",
    "</tr>\n",
    "<tr class=\"row-even\"><td><code class=\"docutils literal\"><span class=\"pre\">L</span></code></td>\n",
    "<td><code class=\"xref c c-type docutils literal\"><span class=\"pre\">unsigned</span> <span class=\"pre\">long</span></code></td>\n",
    "<td>整数</td>\n",
    "<td>4</td>\n",
    "<td>(3)</td>\n",
    "</tr>\n",
    "<tr class=\"row-odd\"><td><code class=\"docutils literal\"><span class=\"pre\">q</span></code></td>\n",
    "<td><code class=\"xref c c-type docutils literal\"><span class=\"pre\">long</span> <span class=\"pre\">long</span></code></td>\n",
    "<td>整数</td>\n",
    "<td>8</td>\n",
    "<td>(2), (3)</td>\n",
    "</tr>\n",
    "<tr class=\"row-even\"><td><code class=\"docutils literal\"><span class=\"pre\">Q</span></code></td>\n",
    "<td><code class=\"xref c c-type docutils literal\"><span class=\"pre\">unsigned</span> <span class=\"pre\">long</span>\n",
    "<span class=\"pre\">long</span></code></td>\n",
    "<td>整数</td>\n",
    "<td>8</td>\n",
    "<td>(2), (3)</td>\n",
    "</tr>\n",
    "<tr class=\"row-odd\"><td><code class=\"docutils literal\"><span class=\"pre\">n</span></code></td>\n",
    "<td><code class=\"xref c c-type docutils literal\"><span class=\"pre\">ssize_t</span></code></td>\n",
    "<td>整数</td>\n",
    "<td>&nbsp;</td>\n",
    "<td>(4)</td>\n",
    "</tr>\n",
    "<tr class=\"row-even\"><td><code class=\"docutils literal\"><span class=\"pre\">N</span></code></td>\n",
    "<td><code class=\"xref c c-type docutils literal\"><span class=\"pre\">size_t</span></code></td>\n",
    "<td>整数</td>\n",
    "<td>&nbsp;</td>\n",
    "<td>(4)</td>\n",
    "</tr>\n",
    "<tr class=\"row-odd\"><td><code class=\"docutils literal\"><span class=\"pre\">e</span></code></td>\n",
    "<td>(7)</td>\n",
    "<td>浮動小数点数</td>\n",
    "<td>2</td>\n",
    "<td>(5)</td>\n",
    "</tr>\n",
    "<tr class=\"row-even\"><td><code class=\"docutils literal\"><span class=\"pre\">f</span></code></td>\n",
    "<td><code class=\"xref c c-type docutils literal\"><span class=\"pre\">float</span></code></td>\n",
    "<td>浮動小数点数</td>\n",
    "<td>4</td>\n",
    "<td>(5)</td>\n",
    "</tr>\n",
    "<tr class=\"row-odd\"><td><code class=\"docutils literal\"><span class=\"pre\">d</span></code></td>\n",
    "<td><code class=\"xref c c-type docutils literal\"><span class=\"pre\">double</span></code></td>\n",
    "<td>浮動小数点数</td>\n",
    "<td>8</td>\n",
    "<td>(5)</td>\n",
    "</tr>\n",
    "<tr class=\"row-even\"><td><code class=\"docutils literal\"><span class=\"pre\">s</span></code></td>\n",
    "<td><code class=\"xref c c-type docutils literal\"><span class=\"pre\">char[]</span></code></td>\n",
    "<td>bytes</td>\n",
    "<td>&nbsp;</td>\n",
    "<td>&nbsp;</td>\n",
    "</tr>\n",
    "<tr class=\"row-odd\"><td><code class=\"docutils literal\"><span class=\"pre\">p</span></code></td>\n",
    "<td><code class=\"xref c c-type docutils literal\"><span class=\"pre\">char[]</span></code></td>\n",
    "<td>bytes</td>\n",
    "<td>&nbsp;</td>\n",
    "<td>&nbsp;</td>\n",
    "</tr>\n",
    "<tr class=\"row-even\"><td><code class=\"docutils literal\"><span class=\"pre\">P</span></code></td>\n",
    "<td><code class=\"xref c c-type docutils literal\"><span class=\"pre\">void</span> <span class=\"pre\">*</span></code></td>\n",
    "<td>整数</td>\n",
    "<td>&nbsp;</td>\n",
    "<td>(6)</td>\n",
    "</tr>\n",
    "</tbody>\n",
    "</table>"
   ]
  },
  {
   "cell_type": "code",
   "execution_count": 4,
   "metadata": {},
   "outputs": [
    {
     "name": "stdout",
     "output_type": "stream",
     "text": [
      "(1, b'string', 2.700000047683716)\n"
     ]
    }
   ],
   "source": [
    "import struct\n",
    "\n",
    "# 文字列はbyte型に事前に変更が必要．\n",
    "values = [1, b'string', 2.7]\n",
    "\n",
    "# 順にリトルエンディアン，4byte整数，6文字の文字列(6byte)，4byte浮動小数を示している\n",
    "binary_format = struct.Struct(\"<i6sf\")\n",
    "\n",
    "# データをbinary化．packed_values = binary_format.pack(values[0], values[1], values[2])と同じ．\n",
    "packed_values = binary_format.pack(*values)\n",
    "\n",
    "# 'wb'でbinary書込み\n",
    "with open('test_write.bin', 'wb') as f:\n",
    "    f.write(packed_values)\n",
    "    \n",
    "# 'rb'でbinary読込み\n",
    "with open(\"test_write.bin\", 'rb') as f:\n",
    "    packed_values = f.read()\n",
    "\n",
    "# binaryデータをpythonデータに変換．\n",
    "unpacked_values = binary_format.unpack(packed_values)\n",
    "\n",
    "# 終了!\n",
    "print(unpacked_values)\n",
    "\n"
   ]
  },
  {
   "cell_type": "markdown",
   "metadata": {},
   "source": [
    "下記はbyteごとに読み込む例．binaryの読み込みでは，read関数の引数に読込byte数を渡すことができる．"
   ]
  },
  {
   "cell_type": "code",
   "execution_count": 5,
   "metadata": {},
   "outputs": [
    {
     "name": "stdout",
     "output_type": "stream",
     "text": [
      "[1,b'string',2.700000047683716]\n"
     ]
    }
   ],
   "source": [
    "# byte数に応じて順次に読み込む\n",
    "with open(\"test_write.bin\", 'rb') as f:\n",
    "    packed_value1 = f.read(4)\n",
    "    packed_value2 = f.read(6)\n",
    "    packed_value3 = f.read(4)\n",
    "\n",
    "# unpackはタプルで返ってくるので，空文字を','以降で捨てているので注意！\n",
    "value1, = struct.unpack('<i', packed_value1)\n",
    "value2, = struct.unpack('<6s', packed_value2)\n",
    "value3, = struct.unpack('<f', packed_value3)\n",
    "\n",
    "# 終了!\n",
    "values = [value1, value2, value3]\n",
    "print(\"[{},{},{}]\".format(*values))"
   ]
  },
  {
   "cell_type": "markdown",
   "metadata": {},
   "source": [
    "一般的な文字列（str型）はencodeでbyte型に，decodeでstr型に変換できる．引数には文字コードを渡す．"
   ]
  },
  {
   "cell_type": "code",
   "execution_count": 6,
   "metadata": {},
   "outputs": [
    {
     "name": "stdout",
     "output_type": "stream",
     "text": [
      "b'\\xe3\\x81\\x84\\xe3\\x81\\xac'\n",
      "いぬ\n"
     ]
    }
   ],
   "source": [
    "# str ---> byte, \"\\x\"は16進数表記を示している．\n",
    "byte_str = 'いぬ'.encode('utf-8')\n",
    "print(byte_str)\n",
    "\n",
    "# byte --> str\n",
    "string = byte_str.decode('utf-8')\n",
    "print(string)"
   ]
  },
  {
   "cell_type": "markdown",
   "metadata": {},
   "source": [
    "## ピクルス(pickle)の作り方\n",
    "\n",
    "binaryファイルの読み書きについてやりましたので，ついでにピクルスの作り方と読み込方をついでに説明します．pickleモジュールを使用すると，pythonのどんなオブジェクトもbinary化してファイルに保存できます．また，その読み込みも簡単です．\n",
    "\n",
    "下記がその具体的な例になります．pickleモジュールを使用して，ディクショナリの変数をbinaryファイルに出力し，出力したファイルを読み込んで再生している例になります．"
   ]
  },
  {
   "cell_type": "code",
   "execution_count": 7,
   "metadata": {},
   "outputs": [
    {
     "name": "stdout",
     "output_type": "stream",
     "text": [
      "{'name': 'Tom', 'age': 11}\n"
     ]
    }
   ],
   "source": [
    "import pickle\n",
    "\n",
    "# この変数をピクルスにする\n",
    "person = {'name': 'Tom', 'age': 11}\n",
    "\n",
    "# ピクルスとしてbinaryファイルに保存\n",
    "with open('test_pickle.bin', 'wb') as f:\n",
    "    pickle.dump(person, f)\n",
    "    \n",
    "# ピクルス化した\n",
    "with open('test_pickle.bin', 'rb') as f:\n",
    "    person = pickle.load(f)\n",
    "    \n",
    "print(person)"
   ]
  }
 ],
 "metadata": {
  "kernelspec": {
   "display_name": "Python 3",
   "language": "python",
   "name": "python3"
  },
  "language_info": {
   "codemirror_mode": {
    "name": "ipython",
    "version": 3
   },
   "file_extension": ".py",
   "mimetype": "text/x-python",
   "name": "python",
   "nbconvert_exporter": "python",
   "pygments_lexer": "ipython3",
   "version": "3.6.3"
  },
  "toc": {
   "nav_menu": {},
   "number_sections": true,
   "sideBar": true,
   "skip_h1_title": false,
   "toc_cell": true,
   "toc_position": {},
   "toc_section_display": "block",
   "toc_window_display": false
  }
 },
 "nbformat": 4,
 "nbformat_minor": 2
}

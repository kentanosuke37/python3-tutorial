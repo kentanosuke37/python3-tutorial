{
 "cells": [
  {
   "cell_type": "markdown",
   "metadata": {},
   "source": [
    "# class関連の問題\n"
   ]
  },
  {
   "cell_type": "markdown",
   "metadata": {},
   "source": [
    "## Sphereクラスの作成 : classの作成方法とmethodの定義を確かめる\n",
    "\n",
    "    (1) クラス名Sphereという何もしないクラスを作成しなさい．\n",
    "    (2) __init__ methodを定義して，半径rをコンストラクタで受け取り，クラス変数に保持するようなプログラムを書いてください．\n",
    "    (3) (2)で実装したクラスに表面積を計算してその値を返すget_surface_area，および体積を計算してその値を返すget_volumeの二つのmethodを実装しなさい．\n",
    "    (4) (3)で実装したmethodが正しいことを具体例にて検証しなさい．"
   ]
  },
  {
   "cell_type": "code",
   "execution_count": 1,
   "metadata": {},
   "outputs": [],
   "source": [
    "# (1) Solution\n",
    "class Sphere:\n",
    "    pass"
   ]
  },
  {
   "cell_type": "code",
   "execution_count": 2,
   "metadata": {},
   "outputs": [],
   "source": [
    "# (2) Solution\n",
    "class Sphere:\n",
    "    \n",
    "    def __init__(self, r):\n",
    "        self.r = r"
   ]
  },
  {
   "cell_type": "code",
   "execution_count": 3,
   "metadata": {},
   "outputs": [],
   "source": [
    "# (3) Solution\n",
    "class Sphere:\n",
    "    \n",
    "    pi = 3.14159265359\n",
    "    \n",
    "    def __init__(self, r):\n",
    "        self.r = r\n",
    "        \n",
    "    def get_surface_area(self):\n",
    "        return 4.0*self.pi*self.r**2\n",
    "    \n",
    "    def get_volume(self):\n",
    "        return 4.0/3.0*self.pi*self.r**3       "
   ]
  },
  {
   "cell_type": "code",
   "execution_count": 4,
   "metadata": {},
   "outputs": [],
   "source": [
    "# (4) Solution\n",
    "r = 3\n",
    "pi = 3.14159265359\n",
    "tiny = 1e-8\n",
    "sph = Sphere(r)\n",
    "\n",
    "expected_suf_area = 4.0*pi*r**2\n",
    "actual_suf_area = sph.get_surface_area()\n",
    "result = abs(actual_suf_area - expected_suf_area) < tiny\n",
    "assert result, 'compuation of surface area is wrong!'\n",
    "\n",
    "expected_volume = 4.0/3.0*pi*r**3\n",
    "actual_volume = sph.get_volume()\n",
    "result = abs(actual_volume - expected_volume) < tiny\n",
    "assert result, 'compuation of volume is wrong!'"
   ]
  },
  {
   "cell_type": "markdown",
   "metadata": {},
   "source": [
    "## Circleクラスの改変 : 継承を使い，classを拡張する\n",
    "\n",
    "    (1) classの講義で説明したCircleクラスを継承したCircle_newクラスを作成しなさい．\n",
    "    (2) __init__ methodを定義して，半径rおよび中心座標(x, y)を引数にしてクラスを初期化するように変更しなさい．\n",
    "    (3) __repr__ methodを実装して半径および中心座標がprint文で出力されるようにclassを変更しなさい．\n",
    "    (4) change_center methodを実装して中心座標を変更できるようにし，その結果を(4)で実装した__repr__ methodを利用して確認しなさい．\n",
    "    (5) すでに定義済みのmethod(get_radius, get_area, get_circumference)が正常に動作するかを具体的に例を示して，検証しなさい．"
   ]
  },
  {
   "cell_type": "code",
   "execution_count": 5,
   "metadata": {},
   "outputs": [],
   "source": [
    "# (1) Solution\n",
    "import math\n",
    "class Circle:\n",
    "    \n",
    "    pi = math.pi\n",
    "    \n",
    "    def __init__(self, r=1):\n",
    "        self.r = r \n",
    "        self.area = r * r * Circle.pi\n",
    "\n",
    "    def get_radius(self):\n",
    "        return self.r\n",
    "    \n",
    "    def get_area(self):\n",
    "        return self.area\n",
    "    \n",
    "    def set_radius(self, r):\n",
    "        self.r = r\n",
    "        self.area = r * r * self.pi\n",
    "\n",
    "    def get_circumference(self):\n",
    "        return 2 * self.r * self.pi\n",
    "    \n",
    "class Circle_new(Circle):\n",
    "    pass"
   ]
  },
  {
   "cell_type": "code",
   "execution_count": 6,
   "metadata": {},
   "outputs": [],
   "source": [
    "# (2) Solution\n",
    "class Circle_new(Circle):\n",
    "    \n",
    "    def __init__(self, r, x, y):\n",
    "        super().__init__(r)\n",
    "        self.x = x\n",
    "        self.y = y"
   ]
  },
  {
   "cell_type": "code",
   "execution_count": 7,
   "metadata": {},
   "outputs": [],
   "source": [
    "# (3) Solution\n",
    "class Circle_new(Circle):\n",
    "    \n",
    "    def __init__(self, r, x, y):\n",
    "        super().__init__(r)\n",
    "        self.x = x\n",
    "        self.y = y\n",
    "    \n",
    "    def __repr__(self):\n",
    "        return \"r = {}, center = ({}, {})\".format(self.r, self.x, self.y)"
   ]
  },
  {
   "cell_type": "code",
   "execution_count": 8,
   "metadata": {},
   "outputs": [
    {
     "name": "stdout",
     "output_type": "stream",
     "text": [
      "Before change : r = 1, center = (0, 0)\n",
      "After change  : r = 1, center = (1, 1)\n"
     ]
    }
   ],
   "source": [
    "# (4) Solution\n",
    "class Circle_new(Circle):\n",
    "    \n",
    "    def __init__(self, r, x, y):\n",
    "        super().__init__(r)\n",
    "        self.x = x\n",
    "        self.y = y\n",
    "    \n",
    "    def __repr__(self):\n",
    "        return \"r = {}, center = ({}, {})\".format(self.r, self.x, self.y)\n",
    "    \n",
    "    def change_center(self, x, y):\n",
    "        self.x = x\n",
    "        self.y = y\n",
    "        \n",
    "circle = Circle_new(1, 0, 0)\n",
    "print(\"Before change : {}\".format(circle))\n",
    "\n",
    "circle.change_center(1, 1)\n",
    "print(\"After change  : {}\".format(circle))"
   ]
  },
  {
   "cell_type": "code",
   "execution_count": 9,
   "metadata": {},
   "outputs": [],
   "source": [
    "# (5) Solution\n",
    "import math\n",
    "r = 3\n",
    "x = 0\n",
    "y = 0\n",
    "pi = math.pi\n",
    "tiny = 1e-8\n",
    "circle = Circle_new(r, x, y)\n",
    "\n",
    "expected_r = r\n",
    "actual_r = circle.get_radius()\n",
    "assert math.isclose(actual_r, expected_r), 'get_radius is wrong!'\n",
    "\n",
    "expected_area = pi*r**2\n",
    "actual_area = circle.get_area()\n",
    "assert math.isclose(actual_area, expected_area), 'get_area is wrong!'\n",
    "\n",
    "expected_circumference = 2*pi*r\n",
    "actual_circumference = circle.get_circumference()\n",
    "assert math.isclose(actual_circumference, expected_circumference), 'get_circumference is wrong!'"
   ]
  },
  {
   "cell_type": "markdown",
   "metadata": {},
   "source": [
    "## Vec3dクラスの作成 : special method，classmethodおよびstaticmethodを使えるようにする\n",
    "\n",
    "    (1) classの講義で説明したVec2dを参考に同じmethod名で3次元のVec3dクラスを作成しなさい．また，その動作を確認せよ．\n",
    "    (2) ベクトルにスカラーをかけたベクトルを返す__mul__ methodを定義しなさい．また，その動作を確認せよ．\n",
    "    (3) 外積演算をしてVec3dクラスを返すouter_productと内積演算をして値を返すinnter_productをclassmethodあるいはstaticmethodとして定義しなさい．\n",
    "    (4) (3)で作成した外積演算をするouter_productを__mod__ methodに実装して，v = v1%v2でv1 x v2の外積の結果が代入される演算子を作成しなさい．"
   ]
  },
  {
   "cell_type": "code",
   "execution_count": 10,
   "metadata": {},
   "outputs": [],
   "source": [
    "# (1) solution\n",
    "\n",
    "class Vec3d:\n",
    "    \n",
    "    def __init__(self, x, y, z):\n",
    "        self.x = x\n",
    "        self.y = y\n",
    "        self.z = z\n",
    "        \n",
    "    def __str__(self):\n",
    "        return \"(x, y, z) = ({},{},{})\".format(self.x, self.y, self.z)\n",
    "    \n",
    "    def __getitem__(self, i):\n",
    "        if i == 0:\n",
    "            return self.x\n",
    "        elif i == 1:\n",
    "            return self.y\n",
    "        elif i == 2:\n",
    "            return self.z\n",
    "    \n",
    "        return None\n",
    "    \n",
    "    def __iter__(self):\n",
    "        for i in range(3):\n",
    "            yield self[i]\n",
    "            \n",
    "    def __add__(self, other):\n",
    "        x = self.x + other.x\n",
    "        y = self.y + other.y\n",
    "        z = self.z + other.z\n",
    "        return Vec3d(x, y, z)\n",
    "    \n",
    "    def __sub__(self, other):\n",
    "        x = self.x - other.x\n",
    "        y = self.y - other.y\n",
    "        z = self.z - other.z\n",
    "        return Vec3d(x, y, z)    "
   ]
  },
  {
   "cell_type": "code",
   "execution_count": 11,
   "metadata": {},
   "outputs": [
    {
     "name": "stdout",
     "output_type": "stream",
     "text": [
      "x vector           ===>  (x, y, z) = (1,1,1)\n",
      "y vector           ===>  (x, y, z) = (0,1,1)\n",
      "s (= x + y) vector ===>  (x, y, z) = (1,2,2)\n",
      "t (= x - y) vector ===>  (x, y, z) = (1,0,0)\n",
      "iterating x elements in for loop : \n",
      "1\n",
      "1\n",
      "1\n",
      "direct access of y element: \n",
      "y[0] = 0\n",
      "y[1] = 1\n",
      "y[2] = 1\n"
     ]
    }
   ],
   "source": [
    "# (1) Solution\n",
    "x = Vec3d(1, 1, 1)\n",
    "y = Vec3d(0, 1, 1)\n",
    "s = x + y\n",
    "t = x - y\n",
    "print('x vector           ===> ', x)\n",
    "print('y vector           ===> ', y)\n",
    "print('s (= x + y) vector ===> ', s)\n",
    "print('t (= x - y) vector ===> ', t)\n",
    "print('iterating x elements in for loop : ')\n",
    "for value in x:\n",
    "    print(value)\n",
    "    \n",
    "print('direct access of y element: ')\n",
    "for i in range(3):\n",
    "    print('y[{}] = {}'.format(i, y[i]))"
   ]
  },
  {
   "cell_type": "code",
   "execution_count": 12,
   "metadata": {},
   "outputs": [],
   "source": [
    "# (2) solution\n",
    "class Vec3d_rev(Vec3d):\n",
    "    \n",
    "    def __mul__(self, scalar):\n",
    "        x = self.x * scalar\n",
    "        y = self.y * scalar\n",
    "        z = self.z * scalar\n",
    "        return Vec3d_rev(x, y, z)\n",
    "    \n",
    "    def __rmul__(self, scalar):\n",
    "        x = self.x * scalar\n",
    "        y = self.y * scalar\n",
    "        z = self.z * scalar\n",
    "        return Vec3d_rev(x, y, z)"
   ]
  },
  {
   "cell_type": "code",
   "execution_count": 13,
   "metadata": {},
   "outputs": [
    {
     "name": "stdout",
     "output_type": "stream",
     "text": [
      "(x, y, z) = (2,4,6)\n",
      "(x, y, z) = (3,6,9)\n"
     ]
    }
   ],
   "source": [
    "# (2) solution\n",
    "v = Vec3d_rev(1, 2, 3)\n",
    "v2 = 2*v\n",
    "print(v2)\n",
    "v2 = v*3\n",
    "print(v2)"
   ]
  },
  {
   "cell_type": "code",
   "execution_count": 14,
   "metadata": {},
   "outputs": [],
   "source": [
    "# (3) solution\n",
    "class Vec3d_rev2(Vec3d):\n",
    "    \n",
    "    @classmethod\n",
    "    def outer_product(cls, vec1, vec2):\n",
    "        x = vec1[1]*vec2[2] - vec1[2]*vec2[1]\n",
    "        y = vec1[2]*vec2[0] - vec1[0]*vec2[2]\n",
    "        z = vec1[0]*vec2[1] - vec1[1]*vec2[0]\n",
    "        return cls(x, y, z) \n",
    "    \n",
    "    @staticmethod\n",
    "    def inner_product(vec1, vec2):\n",
    "        s = 0\n",
    "        for i in range(3):\n",
    "            s += vec1[i]*vec2[i]\n",
    "        return s"
   ]
  },
  {
   "cell_type": "code",
   "execution_count": 15,
   "metadata": {},
   "outputs": [],
   "source": [
    "# (3) solution\n",
    "import math\n",
    "\n",
    "v1 = Vec3d_rev2(1, 0, 0)\n",
    "v2 = Vec3d_rev2(0, 1, 0)\n",
    "actual_v3 = Vec3d_rev2.outer_product(v1, v2)\n",
    "expected_v3 = Vec3d_rev2(0, 0, 1)\n",
    "\n",
    "assert math.isclose(expected_v3[0], actual_v3[0]), 'outer vector in x is wrong!'\n",
    "assert math.isclose(expected_v3[1], actual_v3[1]), 'outer vector in y is wrong!'\n",
    "assert math.isclose(expected_v3[2], actual_v3[2]), 'outer vector in z is wrong!'\n",
    "\n",
    "actual =  Vec3d_rev2.inner_product(v1, v2)\n",
    "expected = 0\n",
    "assert math.isclose(actual, expected), 'inner product is wrong!'"
   ]
  },
  {
   "cell_type": "code",
   "execution_count": 16,
   "metadata": {},
   "outputs": [],
   "source": [
    "# (4) solution\n",
    "class Vec3d_rev3(Vec3d):\n",
    "     \n",
    "    def __mod__(self, other):\n",
    "        x = self[1]*other[2] - self[2]*other[1]\n",
    "        y = self[2]*other[0] - self[0]*other[2]\n",
    "        z = self[0]*other[1] - self[1]*other[0]\n",
    "        return Vec3d_rev3(x, y, z)"
   ]
  },
  {
   "cell_type": "code",
   "execution_count": 17,
   "metadata": {},
   "outputs": [],
   "source": [
    "# (4) solution\n",
    "import math\n",
    "\n",
    "v1 = Vec3d_rev3(1, 0, 0)\n",
    "v2 = Vec3d_rev3(0, 1, 0)\n",
    "actual_v3 = v1 % v2\n",
    "expected_v3 = Vec3d_rev3(0, 0, 1)\n",
    "\n",
    "assert math.isclose(expected_v3[0], actual_v3[0]), 'outer vector in x is wrong!'\n",
    "assert math.isclose(expected_v3[1], actual_v3[1]), 'outer vector in y is wrong!'\n",
    "assert math.isclose(expected_v3[2], actual_v3[2]), 'outer vector in z is wrong!'"
   ]
  }
 ],
 "metadata": {
  "kernelspec": {
   "display_name": "Python 3",
   "language": "python",
   "name": "python3"
  },
  "language_info": {
   "codemirror_mode": {
    "name": "ipython",
    "version": 3
   },
   "file_extension": ".py",
   "mimetype": "text/x-python",
   "name": "python",
   "nbconvert_exporter": "python",
   "pygments_lexer": "ipython3",
   "version": "3.7.0"
  },
  "toc": {
   "nav_menu": {},
   "number_sections": true,
   "sideBar": true,
   "skip_h1_title": false,
   "toc_cell": false,
   "toc_position": {},
   "toc_section_display": "block",
   "toc_window_display": false
  }
 },
 "nbformat": 4,
 "nbformat_minor": 2
}

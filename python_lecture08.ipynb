{
 "cells": [
  {
   "cell_type": "markdown",
   "metadata": {
    "toc": true
   },
   "source": [
    "<h1>Table of Contents<span class=\"tocSkip\"></span></h1>\n",
    "<div class=\"toc\" style=\"margin-top: 1em;\"><ul class=\"toc-item\"><li><span><a href=\"#Range\" data-toc-modified-id=\"Range-1\"><span class=\"toc-item-num\">1&nbsp;&nbsp;</span>Range</a></span><ul class=\"toc-item\"><li><span><a href=\"#generatorについて\" data-toc-modified-id=\"generatorについて-1.1\"><span class=\"toc-item-num\">1.1&nbsp;&nbsp;</span>generatorについて</a></span></li><li><span><a href=\"#enumerate\" data-toc-modified-id=\"enumerate-1.2\"><span class=\"toc-item-num\">1.2&nbsp;&nbsp;</span>enumerate</a></span></li><li><span><a href=\"#zip\" data-toc-modified-id=\"zip-1.3\"><span class=\"toc-item-num\">1.3&nbsp;&nbsp;</span>zip</a></span></li></ul></li><li><span><a href=\"#リスト内包\" data-toc-modified-id=\"リスト内包-2\"><span class=\"toc-item-num\">2&nbsp;&nbsp;</span>リスト内包</a></span><ul class=\"toc-item\"><li><span><a href=\"#if文の導入\" data-toc-modified-id=\"if文の導入-2.1\"><span class=\"toc-item-num\">2.1&nbsp;&nbsp;</span>if文の導入</a></span></li><li><span><a href=\"#performace\" data-toc-modified-id=\"performace-2.2\"><span class=\"toc-item-num\">2.2&nbsp;&nbsp;</span>performace</a></span></li><li><span><a href=\"#二重ループの場合\" data-toc-modified-id=\"二重ループの場合-2.3\"><span class=\"toc-item-num\">2.3&nbsp;&nbsp;</span>二重ループの場合</a></span></li><li><span><a href=\"#ディクショナリ内包\" data-toc-modified-id=\"ディクショナリ内包-2.4\"><span class=\"toc-item-num\">2.4&nbsp;&nbsp;</span>ディクショナリ内包</a></span></li><li><span><a href=\"#generator内包\" data-toc-modified-id=\"generator内包-2.5\"><span class=\"toc-item-num\">2.5&nbsp;&nbsp;</span>generator内包</a></span></li></ul></li></ul></div>"
   ]
  },
  {
   "cell_type": "markdown",
   "metadata": {},
   "source": [
    "# Range\n",
    "\n",
    "下記のような書式でgeratorを返します．\n",
    "\n",
    "    range(start, stop, step)\n",
    "    \n",
    "generatorはまだfunctionを説明していないので，完全に説明できませんが，とりあえずはリストのようなものと捉えてください．startが開始の値，stopが終端の値，stepが刻み幅で開始値を含み，step幅での値を生成するリストのようなもの（generator)を返します．**stop**の値は含まないので，注意してください．下記に実例を示します．"
   ]
  },
  {
   "cell_type": "code",
   "execution_count": 1,
   "metadata": {},
   "outputs": [
    {
     "name": "stdout",
     "output_type": "stream",
     "text": [
      "0\n",
      "1\n",
      "2\n",
      "3\n",
      "4\n",
      "5\n",
      "6\n",
      "7\n",
      "8\n",
      "9\n"
     ]
    }
   ],
   "source": [
    "# x = range(start=0, stop=10, step=1)と指定したのと同じ\n",
    "# start = 0, step = 1はdefault設定のため，省略できる．\n",
    "x = range(10)\n",
    "for i in x:\n",
    "    print(i)"
   ]
  },
  {
   "cell_type": "code",
   "execution_count": 10,
   "metadata": {},
   "outputs": [
    {
     "name": "stdout",
     "output_type": "stream",
     "text": [
      "1\n",
      "3\n",
      "5\n",
      "7\n",
      "9\n",
      "11\n",
      "13\n",
      "15\n",
      "17\n",
      "19\n"
     ]
    }
   ],
   "source": [
    "# 刻み幅を変えた場合の例\n",
    "for i in range(1, 20, 2):\n",
    "    print(i)"
   ]
  },
  {
   "cell_type": "code",
   "execution_count": 5,
   "metadata": {},
   "outputs": [
    {
     "name": "stdout",
     "output_type": "stream",
     "text": [
      "0\n",
      "1\n",
      "2\n",
      "3\n",
      "4\n",
      "5\n",
      "6\n",
      "7\n",
      "8\n",
      "9\n"
     ]
    }
   ],
   "source": [
    "# リストにするには，list()関数を使用する．\n",
    "x = list(range(10))\n",
    "for i in x:\n",
    "    print(i)"
   ]
  },
  {
   "cell_type": "markdown",
   "metadata": {},
   "source": [
    "## generatorについて\n",
    "\n",
    "generatorとは，評価された時に初めてメモリーが取得されるものです．したがって，range()関数が使用されただけでは，まだ変数は確保されていません．range()関数はあたかもリストを返しているように振る舞いますが，forループ内で評価されて初めて評価に必要な式の変数だけを確保します．つまり，必要最小限度の変数だけ確保してループを実行します．\n",
    "\n",
    "一方でrange()からリストを作成するには，list()関数に渡して配列を作成する必要があります．作成したリストをfor文に使用してもあたかも同じ振る舞いをしますが，pythonでlistを確保するのは，計算負荷が重い操作になります．したがって，generatorを利用するほうが，メモリー使用上でも計算の高速化の面でも良いです．\n",
    "\n",
    "計算が高速化されることについては，下記の例にて実際に検証しましょう．"
   ]
  },
  {
   "cell_type": "code",
   "execution_count": 18,
   "metadata": {},
   "outputs": [
    {
     "name": "stdout",
     "output_type": "stream",
     "text": [
      "0\n",
      "10000\n",
      "20000\n",
      "30000\n",
      "40000\n",
      "50000\n",
      "60000\n",
      "70000\n",
      "80000\n",
      "90000\n",
      "range(100000) : 0.012033224105834961 sec\n"
     ]
    }
   ],
   "source": [
    "# generatorの例\n",
    "from time import time\n",
    "\n",
    "t_begin = time()\n",
    "\n",
    "big_num = 100000\n",
    "for i in range(big_num):\n",
    "    if i % 10000 == 0:\n",
    "        print(i)\n",
    "        \n",
    "t_end = time()\n",
    "t = t_end - t_begin\n",
    "print(\"range({num}) : {time} sec\".format(num=big_num, time=t))"
   ]
  },
  {
   "cell_type": "code",
   "execution_count": 19,
   "metadata": {},
   "outputs": [
    {
     "name": "stdout",
     "output_type": "stream",
     "text": [
      "0\n",
      "10000\n",
      "20000\n",
      "30000\n",
      "40000\n",
      "50000\n",
      "60000\n",
      "70000\n",
      "80000\n",
      "90000\n",
      "range(100000) : 0.022058486938476562 sec\n"
     ]
    }
   ],
   "source": [
    "# listへの変換例\n",
    "from time import time\n",
    "\n",
    "t_begin = time()\n",
    "\n",
    "big_num = 100000\n",
    "for i in list(range(big_num)):\n",
    "    if i % 10000 == 0:\n",
    "        print(i)\n",
    "        \n",
    "t_end = time()\n",
    "t = t_end - t_begin\n",
    "print(\"range({num}) : {time} sec\".format(num=big_num, time=t))"
   ]
  },
  {
   "cell_type": "markdown",
   "metadata": {},
   "source": [
    "## enumerate\n",
    "\n",
    "リストでindexが必要な時には，enumerate()関数を使用してループを回します．ループ回数をカウントして，値とのタプルを返します．下記の例を参考にしてください．"
   ]
  },
  {
   "cell_type": "code",
   "execution_count": 20,
   "metadata": {},
   "outputs": [
    {
     "name": "stdout",
     "output_type": "stream",
     "text": [
      "x[0] = 1\n",
      "x[1] = 2\n",
      "x[2] = 3\n"
     ]
    }
   ],
   "source": [
    "x = [1, 2, 3]\n",
    "for i, num in enumerate(x):\n",
    "    print(\"x[{}] = {}\".format(i, num))"
   ]
  },
  {
   "cell_type": "code",
   "execution_count": 20,
   "metadata": {},
   "outputs": [
    {
     "name": "stdout",
     "output_type": "stream",
     "text": [
      "x[0] = 1\n",
      "x[1] = 2\n",
      "x[2] = 3\n"
     ]
    }
   ],
   "source": [
    "for i, num in enumerate(range(1, 4)):\n",
    "    print(\"x[{}] = {}\".format(i, num))"
   ]
  },
  {
   "cell_type": "markdown",
   "metadata": {},
   "source": [
    "## zip\n",
    "\n",
    "複数のリストを同時にループで回したい時にzip関数を使用します．zip(list1, list2, ...)と渡すことで，タプルのgeneratorを返します．リストの数が合わない時は，最小の大きさのものに合わせて，ループが実行されます．下記では，2つのリストの例を示していますが，3つでも4つでも可能です．"
   ]
  },
  {
   "cell_type": "code",
   "execution_count": 2,
   "metadata": {},
   "outputs": [
    {
     "name": "stdout",
     "output_type": "stream",
     "text": [
      "x = 1, y = a\n",
      "x = 2, y = b\n",
      "x = 3, y = c\n"
     ]
    }
   ],
   "source": [
    "x_values = [1, 2, 3]\n",
    "y_values = ['a','b', 'c']\n",
    "for x, y in zip(x_values, y_values):\n",
    "    print(\"x = {}, y = {}\".format(x,y))"
   ]
  },
  {
   "cell_type": "code",
   "execution_count": 3,
   "metadata": {},
   "outputs": [
    {
     "name": "stdout",
     "output_type": "stream",
     "text": [
      "x = 1, y = a\n",
      "x = 2, y = b\n",
      "x = 3, y = c\n"
     ]
    }
   ],
   "source": [
    "x_values = [1, 2, 3, 4, 5]\n",
    "y_values = ['a','b', 'c']\n",
    "for x, y in zip(x_values, y_values):\n",
    "    print(\"x = {}, y = {}\".format(x,y))"
   ]
  },
  {
   "cell_type": "markdown",
   "metadata": {},
   "source": [
    "# リスト内包\n",
    "\n",
    "一般的な考えでは，forループを使用して下記のように配列を作成するかもしれませんが，pythonでは一般的に下記の方法でリストを作成しません．"
   ]
  },
  {
   "cell_type": "code",
   "execution_count": 4,
   "metadata": {},
   "outputs": [
    {
     "name": "stdout",
     "output_type": "stream",
     "text": [
      "[0, 1, 2, 3, 4, 5, 6, 7, 8, 9, 10]\n"
     ]
    }
   ],
   "source": [
    "nums = []\n",
    "for num in range(11):\n",
    "    nums.append(num)\n",
    "        \n",
    "print(nums)"
   ]
  },
  {
   "cell_type": "markdown",
   "metadata": {},
   "source": [
    "pythonでは，一般的にリスト内包を使用してリスト作成を行います．下記のような書式でリストを作成する方法です．\n",
    "\n",
    "    list = [ valueを用いた値（用いなくても良いが...） for value in objs ]\n",
    "    \n",
    "上記の例と全く同じことをしているのですが，計算速度がforループを真面目に書いたよりも高速に処理されます．また，慣れてくると非常に簡潔な表現なので，リスト内包は積極的に利用しましょう．下記に具体例を示します．"
   ]
  },
  {
   "cell_type": "code",
   "execution_count": 5,
   "metadata": {},
   "outputs": [
    {
     "name": "stdout",
     "output_type": "stream",
     "text": [
      "[0, 1, 2, 3, 4, 5, 6, 7, 8, 9, 10]\n"
     ]
    }
   ],
   "source": [
    "nums = [num for num in range(11)]\n",
    "print(nums)"
   ]
  },
  {
   "cell_type": "code",
   "execution_count": 6,
   "metadata": {},
   "outputs": [
    {
     "name": "stdout",
     "output_type": "stream",
     "text": [
      "[0, 1, 4, 9, 16, 25, 36, 49, 64, 81]\n"
     ]
    }
   ],
   "source": [
    "x2_values = [x**2 for x in range(10)]\n",
    "print(x2_values)"
   ]
  },
  {
   "cell_type": "code",
   "execution_count": 7,
   "metadata": {},
   "outputs": [
    {
     "name": "stdout",
     "output_type": "stream",
     "text": [
      "[32.0, 50.0, 68.18, 94.1]\n"
     ]
    }
   ],
   "source": [
    "celsius = [0, 10, 20.1, 34.5]\n",
    "fahrenheit = [temp*(9/5.0)+32 for temp in celsius]\n",
    "print(fahrenheit)"
   ]
  },
  {
   "cell_type": "code",
   "execution_count": 8,
   "metadata": {},
   "outputs": [
    {
     "name": "stdout",
     "output_type": "stream",
     "text": [
      "['w', 'o', 'r', 'd']\n"
     ]
    }
   ],
   "source": [
    "word = 'word'\n",
    "chars = [char for char in word]\n",
    "print(chars)"
   ]
  },
  {
   "cell_type": "markdown",
   "metadata": {},
   "source": [
    "## if文の導入"
   ]
  },
  {
   "cell_type": "code",
   "execution_count": 9,
   "metadata": {},
   "outputs": [
    {
     "name": "stdout",
     "output_type": "stream",
     "text": [
      "[0, 2, 4, 6, 8, 10]\n"
     ]
    }
   ],
   "source": [
    "evens = []\n",
    "for num in range(11):\n",
    "    if num % 2 == 0:\n",
    "        evens.append(num)\n",
    "        \n",
    "print(evens)"
   ]
  },
  {
   "cell_type": "code",
   "execution_count": 10,
   "metadata": {},
   "outputs": [
    {
     "name": "stdout",
     "output_type": "stream",
     "text": [
      "[0, 2, 4, 6, 8, 10]\n"
     ]
    }
   ],
   "source": [
    "evens = [num for num in range(11) if num % 2 == 0]\n",
    "print(evens)"
   ]
  },
  {
   "cell_type": "markdown",
   "metadata": {},
   "source": [
    "## performace"
   ]
  },
  {
   "cell_type": "code",
   "execution_count": 34,
   "metadata": {},
   "outputs": [
    {
     "name": "stdout",
     "output_type": "stream",
     "text": [
      "elapsed_time in for loop case 0.0030083656311035156 sec\n"
     ]
    }
   ],
   "source": [
    "from time import time\n",
    "\n",
    "time_start = time()\n",
    "\n",
    "big_value = 10000\n",
    "evens = []\n",
    "for num in range(big_value):\n",
    "    if num % 2 == 0:\n",
    "        evens.append(num)\n",
    "        \n",
    "time_end = time()\n",
    "elapsed_time = time_end - time_start\n",
    "print(\"elapsed_time in for loop case {} sec\".format(elapsed_time))"
   ]
  },
  {
   "cell_type": "code",
   "execution_count": 35,
   "metadata": {},
   "outputs": [
    {
     "name": "stdout",
     "output_type": "stream",
     "text": [
      "elapsed_time in list comprehension case 0.0015034675598144531 sec\n"
     ]
    }
   ],
   "source": [
    "from time import time\n",
    "\n",
    "time_start = time()\n",
    "\n",
    "big_value = 10000\n",
    "evens = [num for num in range(big_value) if num % 2 == 0]\n",
    "        \n",
    "time_end = time()\n",
    "elapsed_time = time_end - time_start\n",
    "print(\"elapsed_time in list comprehension case {} sec\".format(elapsed_time))"
   ]
  },
  {
   "cell_type": "markdown",
   "metadata": {},
   "source": [
    "## 二重ループの場合"
   ]
  },
  {
   "cell_type": "code",
   "execution_count": 44,
   "metadata": {},
   "outputs": [
    {
     "name": "stdout",
     "output_type": "stream",
     "text": [
      "[(0, 0), (0, 1), (0, 2), (0, 3), (1, 0), (1, 1), (1, 2), (1, 3), (2, 0), (2, 1), (2, 2), (2, 3), (3, 0), (3, 1), (3, 2), (3, 3)]\n"
     ]
    }
   ],
   "source": [
    "ij_values = []\n",
    "for i in range(4):\n",
    "    for j in range(4):\n",
    "        ij_values.append((i, j))\n",
    "print(ij_values)"
   ]
  },
  {
   "cell_type": "code",
   "execution_count": 45,
   "metadata": {},
   "outputs": [
    {
     "name": "stdout",
     "output_type": "stream",
     "text": [
      "[(0, 0), (0, 1), (0, 2), (0, 3), (1, 0), (1, 1), (1, 2), (1, 3), (2, 0), (2, 1), (2, 2), (2, 3), (3, 0), (3, 1), (3, 2), (3, 3)]\n"
     ]
    }
   ],
   "source": [
    "ij_values = [(i,j) for i in range(4) for j in range(4)]\n",
    "print(ij_values)"
   ]
  },
  {
   "cell_type": "markdown",
   "metadata": {},
   "source": [
    "## ディクショナリ内包"
   ]
  },
  {
   "cell_type": "code",
   "execution_count": 12,
   "metadata": {},
   "outputs": [
    {
     "name": "stdout",
     "output_type": "stream",
     "text": [
      "{'key0': 0, 'key1': 1, 'key2': 2}\n"
     ]
    }
   ],
   "source": [
    "dic = { \"key{}\".format(i) : i for i in range(3)}\n",
    "print(dic)"
   ]
  },
  {
   "cell_type": "markdown",
   "metadata": {},
   "source": [
    "## generator内包\n",
    "\n"
   ]
  },
  {
   "cell_type": "code",
   "execution_count": 14,
   "metadata": {},
   "outputs": [
    {
     "name": "stdout",
     "output_type": "stream",
     "text": [
      "<generator object <genexpr> at 0x000002065162DBA0>\n",
      "[0, 1, 2, 3, 4, 5, 6, 7, 8, 9]\n"
     ]
    }
   ],
   "source": [
    "generator = ( i for i in range(10) )\n",
    "print(generator)\n",
    "print(list(generator))"
   ]
  }
 ],
 "metadata": {
  "kernelspec": {
   "display_name": "Python 3",
   "language": "python",
   "name": "python3"
  },
  "language_info": {
   "codemirror_mode": {
    "name": "ipython",
    "version": 3
   },
   "file_extension": ".py",
   "mimetype": "text/x-python",
   "name": "python",
   "nbconvert_exporter": "python",
   "pygments_lexer": "ipython3",
   "version": "3.6.3"
  },
  "toc": {
   "nav_menu": {},
   "number_sections": true,
   "sideBar": true,
   "skip_h1_title": false,
   "toc_cell": true,
   "toc_position": {
    "height": "521px",
    "left": "0px",
    "right": "1066.67px",
    "top": "110px",
    "width": "212px"
   },
   "toc_section_display": "block",
   "toc_window_display": false
  }
 },
 "nbformat": 4,
 "nbformat_minor": 2
}

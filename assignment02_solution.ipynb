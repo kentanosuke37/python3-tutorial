{
 "cells": [
  {
   "cell_type": "markdown",
   "metadata": {},
   "source": [
    "### split()およびif文を使用して，'s'から始まる単語を出力するコードを作成せよ．"
   ]
  },
  {
   "cell_type": "code",
   "execution_count": 3,
   "metadata": {},
   "outputs": [],
   "source": [
    "words = 'Print only the words that start with s in this sentence'"
   ]
  },
  {
   "cell_type": "code",
   "execution_count": 5,
   "metadata": {},
   "outputs": [
    {
     "name": "stdout",
     "output_type": "stream",
     "text": [
      "start\n",
      "s\n",
      "sentence\n"
     ]
    }
   ],
   "source": [
    "# ここにコード\n",
    "words = 'Print only the words that start with s in this sentence'\n",
    "for word in words.split():\n",
    "    if word[0] == 's':\n",
    "        print(word)"
   ]
  },
  {
   "cell_type": "markdown",
   "metadata": {},
   "source": [
    "-----\n"
   ]
  },
  {
   "cell_type": "markdown",
   "metadata": {},
   "source": [
    "### range()を使用して，－10から10までのすべての偶数を出力せよ．"
   ]
  },
  {
   "cell_type": "code",
   "execution_count": 6,
   "metadata": {},
   "outputs": [
    {
     "name": "stdout",
     "output_type": "stream",
     "text": [
      "-10\n",
      "-8\n",
      "-6\n",
      "-4\n",
      "-2\n",
      "0\n",
      "2\n",
      "4\n",
      "6\n",
      "8\n",
      "10\n"
     ]
    }
   ],
   "source": [
    "# ここにコード\n",
    "for val in range(-10, 11):\n",
    "    if val % 2 == 0:\n",
    "        print(val)"
   ]
  },
  {
   "cell_type": "markdown",
   "metadata": {},
   "source": [
    "----"
   ]
  },
  {
   "cell_type": "markdown",
   "metadata": {},
   "source": [
    "### リスト内包を使用して1から100の間の数で6で割り切れる数値のリストを作成せよ．"
   ]
  },
  {
   "cell_type": "code",
   "execution_count": 7,
   "metadata": {},
   "outputs": [
    {
     "name": "stdout",
     "output_type": "stream",
     "text": [
      "6\n",
      "12\n",
      "18\n",
      "24\n",
      "30\n",
      "36\n",
      "42\n",
      "48\n",
      "54\n",
      "60\n",
      "66\n",
      "72\n",
      "78\n",
      "84\n",
      "90\n",
      "96\n"
     ]
    }
   ],
   "source": [
    "# ここにコード\n",
    "for val in range(1, 101):\n",
    "    if val % 6 == 0:\n",
    "        print(val)"
   ]
  },
  {
   "cell_type": "markdown",
   "metadata": {},
   "source": [
    "----"
   ]
  },
  {
   "cell_type": "markdown",
   "metadata": {},
   "source": [
    "### 1から100の間の数で6で割り切れる数値のリストをカンマで区切って値を連結した文字列を作成せよ．"
   ]
  },
  {
   "cell_type": "code",
   "execution_count": 8,
   "metadata": {},
   "outputs": [
    {
     "name": "stdout",
     "output_type": "stream",
     "text": [
      "1,2,3,4,5,7,8,9,10,11,13,14,15,16,17,19,20,21,22,23,25,26,27,28,29,31,32,33,34,35,37,38,39,40,41,43,44,45,46,47,49,50,51,52,53,55,56,57,58,59,61,62,63,64,65,67,68,69,70,71,73,74,75,76,77,79,80,81,82,83,85,86,87,88,89,91,92,93,94,95,97,98,99,100\n"
     ]
    }
   ],
   "source": [
    "# ここにコード\n",
    "strs = [str(val) for val in range(1, 101) if val % 6]\n",
    "s = ','.join(strs)\n",
    "print(s)"
   ]
  },
  {
   "cell_type": "markdown",
   "metadata": {},
   "source": [
    "---"
   ]
  },
  {
   "cell_type": "markdown",
   "metadata": {},
   "source": [
    "###  下記の文字列を巡回して，文字列の長さが偶数である単語に対して\"even!\"と出力せよ．"
   ]
  },
  {
   "cell_type": "code",
   "execution_count": 16,
   "metadata": {},
   "outputs": [],
   "source": [
    "words = 'Print only the words whose length is even number!'"
   ]
  },
  {
   "cell_type": "markdown",
   "metadata": {},
   "source": [
    "----\n"
   ]
  },
  {
   "cell_type": "code",
   "execution_count": 13,
   "metadata": {},
   "outputs": [
    {
     "name": "stdout",
     "output_type": "stream",
     "text": [
      "only       : length          4 ---> even!\n",
      "length     : length          6 ---> even!\n",
      "is         : length          2 ---> even!\n",
      "even       : length          4 ---> even!\n"
     ]
    }
   ],
   "source": [
    "# ここにコード\n",
    "words = 'Print only the words whose length is even number!'\n",
    "for word in words.split():\n",
    "    if len(word) % 2 == 0:\n",
    "        print(\"{:10s} : length {:10d} ---> even!\".format(word, len(word)))"
   ]
  },
  {
   "cell_type": "markdown",
   "metadata": {},
   "source": [
    "### 1から100までの数値を出力するプログラムを作成せよ．ただし，3の倍数は\"Fizz\"を，5の倍数は\"buzz\"を数値の代わりに出力せよ．3および5のどちらの倍数の時は，\"FizzBuzz\"と出力する．"
   ]
  },
  {
   "cell_type": "code",
   "execution_count": 15,
   "metadata": {},
   "outputs": [
    {
     "name": "stdout",
     "output_type": "stream",
     "text": [
      "  1 : \n",
      "  2 : \n",
      "  3 : Fizz\n",
      "  4 : \n",
      "  5 : Buzz\n",
      "  6 : Fizz\n",
      "  7 : \n",
      "  8 : \n",
      "  9 : Fizz\n",
      " 10 : Buzz\n",
      " 11 : \n",
      " 12 : Fizz\n",
      " 13 : \n",
      " 14 : \n",
      " 15 : FizzBuzz\n",
      " 16 : \n",
      " 17 : \n",
      " 18 : Fizz\n",
      " 19 : \n",
      " 20 : Buzz\n",
      " 21 : Fizz\n",
      " 22 : \n",
      " 23 : \n",
      " 24 : Fizz\n",
      " 25 : Buzz\n",
      " 26 : \n",
      " 27 : Fizz\n",
      " 28 : \n",
      " 29 : \n",
      " 30 : FizzBuzz\n",
      " 31 : \n",
      " 32 : \n",
      " 33 : Fizz\n",
      " 34 : \n",
      " 35 : Buzz\n",
      " 36 : Fizz\n",
      " 37 : \n",
      " 38 : \n",
      " 39 : Fizz\n",
      " 40 : Buzz\n",
      " 41 : \n",
      " 42 : Fizz\n",
      " 43 : \n",
      " 44 : \n",
      " 45 : FizzBuzz\n",
      " 46 : \n",
      " 47 : \n",
      " 48 : Fizz\n",
      " 49 : \n",
      " 50 : Buzz\n",
      " 51 : Fizz\n",
      " 52 : \n",
      " 53 : \n",
      " 54 : Fizz\n",
      " 55 : Buzz\n",
      " 56 : \n",
      " 57 : Fizz\n",
      " 58 : \n",
      " 59 : \n",
      " 60 : FizzBuzz\n",
      " 61 : \n",
      " 62 : \n",
      " 63 : Fizz\n",
      " 64 : \n",
      " 65 : Buzz\n",
      " 66 : Fizz\n",
      " 67 : \n",
      " 68 : \n",
      " 69 : Fizz\n",
      " 70 : Buzz\n",
      " 71 : \n",
      " 72 : Fizz\n",
      " 73 : \n",
      " 74 : \n",
      " 75 : FizzBuzz\n",
      " 76 : \n",
      " 77 : \n",
      " 78 : Fizz\n",
      " 79 : \n",
      " 80 : Buzz\n",
      " 81 : Fizz\n",
      " 82 : \n",
      " 83 : \n",
      " 84 : Fizz\n",
      " 85 : Buzz\n",
      " 86 : \n",
      " 87 : Fizz\n",
      " 88 : \n",
      " 89 : \n",
      " 90 : FizzBuzz\n",
      " 91 : \n",
      " 92 : \n",
      " 93 : Fizz\n",
      " 94 : \n",
      " 95 : Buzz\n",
      " 96 : Fizz\n",
      " 97 : \n",
      " 98 : \n",
      " 99 : Fizz\n",
      "100 : Buzz\n"
     ]
    }
   ],
   "source": [
    "# ここにコード\n",
    "for val in range(1, 101):\n",
    "    s = ''\n",
    "    if val % 3 == 0:\n",
    "        s += 'Fizz'\n",
    "    if val % 5 == 0:\n",
    "        s += 'Buzz'\n",
    "    print(\"{:3d} : {}\".format(val, s))"
   ]
  },
  {
   "cell_type": "markdown",
   "metadata": {},
   "source": [
    "---"
   ]
  },
  {
   "cell_type": "markdown",
   "metadata": {},
   "source": [
    "### リスト内包を使用して，下記の文字列より最初の一文字目のリストを作成せよ．"
   ]
  },
  {
   "cell_type": "code",
   "execution_count": 19,
   "metadata": {},
   "outputs": [],
   "source": [
    "words = 'Print only the words whose length is even number!'"
   ]
  },
  {
   "cell_type": "code",
   "execution_count": 16,
   "metadata": {},
   "outputs": [
    {
     "name": "stdout",
     "output_type": "stream",
     "text": [
      "['P', 'o', 't', 'w', 'w', 'l', 'i', 'e', 'n']\n"
     ]
    }
   ],
   "source": [
    "# ここにコード\n",
    "words = 'Print only the words whose length is even number!'\n",
    "strs = [s[0] for s in words.split()]\n",
    "print(strs)"
   ]
  },
  {
   "cell_type": "markdown",
   "metadata": {},
   "source": [
    "----"
   ]
  },
  {
   "cell_type": "markdown",
   "metadata": {},
   "source": [
    "### リスト内包を使用して，下記の文字列より最初の一文字目をvalue，該当の単語をkeyとしたdictionaryを作成せよ．"
   ]
  },
  {
   "cell_type": "code",
   "execution_count": 21,
   "metadata": {},
   "outputs": [],
   "source": [
    "words = 'Print only the words whose length is even number!'"
   ]
  },
  {
   "cell_type": "code",
   "execution_count": 18,
   "metadata": {},
   "outputs": [
    {
     "name": "stdout",
     "output_type": "stream",
     "text": [
      "{'Print': 'P', 'only': 'o', 'the': 't', 'words': 'w', 'whose': 'w', 'length': 'l', 'is': 'i', 'even': 'e', 'number!': 'n'}\n"
     ]
    }
   ],
   "source": [
    "words = 'Print only the words whose length is even number!'\n",
    "dics = { s : s[0] for s in words.split() }\n",
    "print(dics)"
   ]
  }
 ],
 "metadata": {
  "kernelspec": {
   "display_name": "Python 3",
   "language": "python",
   "name": "python3"
  },
  "language_info": {
   "codemirror_mode": {
    "name": "ipython",
    "version": 3
   },
   "file_extension": ".py",
   "mimetype": "text/x-python",
   "name": "python",
   "nbconvert_exporter": "python",
   "pygments_lexer": "ipython3",
   "version": "3.6.3"
  },
  "toc": {
   "nav_menu": {},
   "number_sections": true,
   "sideBar": true,
   "skip_h1_title": false,
   "toc_cell": false,
   "toc_position": {},
   "toc_section_display": "block",
   "toc_window_display": false
  }
 },
 "nbformat": 4,
 "nbformat_minor": 2
}

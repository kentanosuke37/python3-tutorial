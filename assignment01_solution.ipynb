{
 "cells": [
  {
   "cell_type": "markdown",
   "metadata": {},
   "source": [
    "# オブジェクトとデータ構造の理解テスト"
   ]
  },
  {
   "cell_type": "markdown",
   "metadata": {
    "collapsed": true
   },
   "source": [
    "## 型の例示 \n",
    "\n",
    "学習した次のオブジェクト型の例を示せ．"
   ]
  },
  {
   "cell_type": "code",
   "execution_count": 1,
   "metadata": {},
   "outputs": [
    {
     "name": "stdout",
     "output_type": "stream",
     "text": [
      "int value : 1\n",
      "float value : 2.0\n",
      "string value : hello\n",
      "list values : [1, 'aaa', 2]\n",
      "tuple values : (1, 'aaa', 2)\n",
      "dictionary value : {'name': 'inu', 'age': 10}\n"
     ]
    }
   ],
   "source": [
    "# 数値型\n",
    "int_value = 1\n",
    "print(\"int value : {}\".format(int_value))\n",
    "\n",
    "float_value = 2.0\n",
    "print(\"float value : {}\".format(float_value))\n",
    "\n",
    "# 文字列型\n",
    "string = 'hello'\n",
    "print(\"string value : {}\".format(string))\n",
    "\n",
    "# リスト\n",
    "list_values = [1, 'aaa', 2]\n",
    "print(\"list values : {}\".format(list_values))\n",
    "\n",
    "# タプル\n",
    "tuple_values = (1, 'aaa', 2)\n",
    "print(\"tuple values : {}\".format(tuple_values))\n",
    "\n",
    "# ディクショナリ\n",
    "dic_value = {\"name\": \"inu\", \"age\":10}\n",
    "print(\"dictionary value : {}\".format(dic_value))"
   ]
  },
  {
   "cell_type": "markdown",
   "metadata": {},
   "source": [
    "## 数値型\n",
    "\n",
    "100.1を整数にせよ．また，100を浮動小数点数にせよ．"
   ]
  },
  {
   "cell_type": "code",
   "execution_count": 3,
   "metadata": {},
   "outputs": [
    {
     "name": "stdout",
     "output_type": "stream",
     "text": [
      "int value : 100\n",
      "float value : 100.0\n"
     ]
    }
   ],
   "source": [
    "int_value = int(100.1)\n",
    "print(\"int value : {}\".format(int_value))\n",
    "\n",
    "float_value = float(100)\n",
    "print(\"float value : {}\".format(float_value))"
   ]
  },
  {
   "cell_type": "markdown",
   "metadata": {},
   "source": [
    "整数の割り算および浮動小数の割り算の例を示し，違いを示せ．"
   ]
  },
  {
   "cell_type": "code",
   "execution_count": 4,
   "metadata": {},
   "outputs": [
    {
     "name": "stdout",
     "output_type": "stream",
     "text": [
      "int value : 0\n",
      "float value : 0.5\n"
     ]
    }
   ],
   "source": [
    "int_value = 1 // 2\n",
    "print(\"int value : {}\".format(int_value))\n",
    "\n",
    "float_value = 1/2\n",
    "print(\"float value : {}\".format(float_value))"
   ]
  },
  {
   "cell_type": "markdown",
   "metadata": {},
   "source": [
    "3 - 3.0を0と評価すると，実行する環境によっては，0になったり，ならなかったりすることがある．このような微小でない浮動小点数の2つの数値がほぼ等しいことを評価するには，どうしたらいいか？例を示せ．"
   ]
  },
  {
   "cell_type": "code",
   "execution_count": 5,
   "metadata": {},
   "outputs": [
    {
     "name": "stdout",
     "output_type": "stream",
     "text": [
      "3 is almost equal to 3.0 ? ---> True\n"
     ]
    }
   ],
   "source": [
    "tiny = 1e-10\n",
    "diff = abs(3 - 3.0)\n",
    "is_almost_zero = diff < tiny\n",
    "print(\"3 is almost equal to 3.0 ? ---> {}\".format(is_almost_zero))"
   ]
  },
  {
   "cell_type": "markdown",
   "metadata": {},
   "source": [
    "数値の平方根および二乗の例を示せ．"
   ]
  },
  {
   "cell_type": "code",
   "execution_count": 6,
   "metadata": {},
   "outputs": [
    {
     "name": "stdout",
     "output_type": "stream",
     "text": [
      "The root value of 2 is 1.4142135623730951\n",
      "The squre value of 2 is 4\n"
     ]
    }
   ],
   "source": [
    "value = 2\n",
    "root_value = value**0.5\n",
    "squre_value = value**2\n",
    "print(\"The root value of {} is {}\".format(value, root_value))\n",
    "print(\"The squre value of {} is {}\".format(value, squre_value))"
   ]
  },
  {
   "cell_type": "markdown",
   "metadata": {},
   "source": [
    "## 文字列\n",
    "\n",
    "与えられた文字列'hello'に対して'e'を取得せよ．下記のコードを使用せよ．"
   ]
  },
  {
   "cell_type": "code",
   "execution_count": 7,
   "metadata": {},
   "outputs": [
    {
     "name": "stdout",
     "output_type": "stream",
     "text": [
      "e\n"
     ]
    }
   ],
   "source": [
    "s = 'hello'\n",
    "print(s[1])"
   ]
  },
  {
   "cell_type": "markdown",
   "metadata": {},
   "source": [
    "文字列'hello'を逆順の文字列にせよ．"
   ]
  },
  {
   "cell_type": "code",
   "execution_count": 8,
   "metadata": {},
   "outputs": [
    {
     "name": "stdout",
     "output_type": "stream",
     "text": [
      "olleh\n"
     ]
    }
   ],
   "source": [
    "s ='hello'\n",
    "print(s[::-1])"
   ]
  },
  {
   "cell_type": "markdown",
   "metadata": {},
   "source": [
    "文字列'hello'に対して，'o'を別の2つの方法で取得せよ．"
   ]
  },
  {
   "cell_type": "code",
   "execution_count": 9,
   "metadata": {},
   "outputs": [
    {
     "name": "stdout",
     "output_type": "stream",
     "text": [
      "o\n",
      "o\n"
     ]
    }
   ],
   "source": [
    "s ='hello'\n",
    "print(s[4])\n",
    "print(s[-1])"
   ]
  },
  {
   "cell_type": "markdown",
   "metadata": {},
   "source": [
    "## リスト"
   ]
  },
  {
   "cell_type": "markdown",
   "metadata": {},
   "source": [
    "リスト[0,0,0]を2つの別の方法で作成せよ．"
   ]
  },
  {
   "cell_type": "code",
   "execution_count": 10,
   "metadata": {},
   "outputs": [
    {
     "name": "stdout",
     "output_type": "stream",
     "text": [
      "list values 1 : [0, 0, 0]\n",
      "list values 2 : [0, 0, 0]\n"
     ]
    }
   ],
   "source": [
    "list_values1 = [0]*3\n",
    "print(\"list values 1 : {}\".format(list_values1))\n",
    "\n",
    "list_values2 = [0,0,0]\n",
    "print(\"list values 2 : {}\".format(list_values2))"
   ]
  },
  {
   "cell_type": "markdown",
   "metadata": {},
   "source": [
    "下記のリストの'good'を'goodbye'に変更せよ．"
   ]
  },
  {
   "cell_type": "code",
   "execution_count": 11,
   "metadata": {},
   "outputs": [
    {
     "name": "stdout",
     "output_type": "stream",
     "text": [
      "[1, 2, [3, 4, 'goodbye']]\n"
     ]
    }
   ],
   "source": [
    "l = [1,2,[3,4,'good']]\n",
    "l[2][2] = 'goodbye'\n",
    "print(l)"
   ]
  },
  {
   "cell_type": "markdown",
   "metadata": {},
   "source": [
    "下記のリストをsortせよ．"
   ]
  },
  {
   "cell_type": "code",
   "execution_count": 14,
   "metadata": {},
   "outputs": [
    {
     "name": "stdout",
     "output_type": "stream",
     "text": [
      "[4, 5, 6, 8, 10]\n"
     ]
    }
   ],
   "source": [
    "l = [10,4,8,5,6]\n",
    "l.sort()\n",
    "print(l)"
   ]
  },
  {
   "cell_type": "markdown",
   "metadata": {},
   "source": [
    "## ディクショナリ"
   ]
  },
  {
   "cell_type": "markdown",
   "metadata": {},
   "source": [
    "次のディクショナリから'hello'を取得せよ．"
   ]
  },
  {
   "cell_type": "code",
   "execution_count": 15,
   "metadata": {},
   "outputs": [
    {
     "name": "stdout",
     "output_type": "stream",
     "text": [
      "hello\n"
     ]
    }
   ],
   "source": [
    "d = {'simple_key':'hello'}\n",
    "\n",
    "print(d['simple_key'])"
   ]
  },
  {
   "cell_type": "code",
   "execution_count": 16,
   "metadata": {},
   "outputs": [
    {
     "name": "stdout",
     "output_type": "stream",
     "text": [
      "hello\n"
     ]
    }
   ],
   "source": [
    "d = {'k1':{'k2':'hello'}}\n",
    "\n",
    "print(d['k1']['k2'])"
   ]
  },
  {
   "cell_type": "code",
   "execution_count": 18,
   "metadata": {},
   "outputs": [
    {
     "name": "stdout",
     "output_type": "stream",
     "text": [
      "hello\n"
     ]
    }
   ],
   "source": [
    "d = {'k1':[{'nest_key':['this is deep',['hello']]}]}\n",
    "\n",
    "print(d['k1'][0]['nest_key'][1][0])"
   ]
  },
  {
   "cell_type": "code",
   "execution_count": 19,
   "metadata": {},
   "outputs": [
    {
     "name": "stdout",
     "output_type": "stream",
     "text": [
      "hello\n"
     ]
    }
   ],
   "source": [
    "d = {'k1':[1,2,{'k2':['this is tricky',{'tough':[1,2,['hello']]}]}]}\n",
    "\n",
    "print(d['k1'][2]['k2'][1]['tough'][2][0])"
   ]
  },
  {
   "cell_type": "markdown",
   "metadata": {},
   "source": [
    "次のディクショナリからkeyのリスト，valueのリスト，keyとvalueのリストを取得せよ．"
   ]
  },
  {
   "cell_type": "code",
   "execution_count": 20,
   "metadata": {},
   "outputs": [
    {
     "name": "stdout",
     "output_type": "stream",
     "text": [
      "dictionary keys : dict_keys(['name', 'age', 'moneny'])\n",
      "dictionary values : dict_values(['akira', 20, '1000yen'])\n",
      "dictionary keys & values : dict_items([('name', 'akira'), ('age', 20), ('moneny', '1000yen')])\n"
     ]
    }
   ],
   "source": [
    "d = { 'name' : 'akira', 'age' : 20, 'moneny' : '1000yen'}\n",
    "\n",
    "print(\"dictionary keys : {}\".format(d.keys()))\n",
    "print(\"dictionary values : {}\".format(d.values()))\n",
    "print(\"dictionary keys & values : {}\".format(d.items()))"
   ]
  },
  {
   "cell_type": "markdown",
   "metadata": {},
   "source": [
    "## タプル"
   ]
  },
  {
   "cell_type": "markdown",
   "metadata": {},
   "source": [
    "リストとタプルの主な違いはなんですか？"
   ]
  },
  {
   "cell_type": "markdown",
   "metadata": {
    "collapsed": true
   },
   "source": [
    "リストは自身を変更できるが，タプルはできない．タプルはimmutableな型である．"
   ]
  },
  {
   "cell_type": "markdown",
   "metadata": {},
   "source": [
    "タプルの例を示せ．"
   ]
  },
  {
   "cell_type": "code",
   "execution_count": 21,
   "metadata": {},
   "outputs": [
    {
     "name": "stdout",
     "output_type": "stream",
     "text": [
      "tuple values : (1, 2, 'bbb')\n"
     ]
    }
   ],
   "source": [
    "tuple_values = (1, 2, 'bbb')\n",
    "print(\"tuple values : {}\".format(tuple_values))"
   ]
  },
  {
   "cell_type": "markdown",
   "metadata": {},
   "source": [
    "## 集合"
   ]
  },
  {
   "cell_type": "markdown",
   "metadata": {},
   "source": [
    "集合について特有な性質はなんですか？"
   ]
  },
  {
   "cell_type": "markdown",
   "metadata": {
    "collapsed": true
   },
   "source": [
    "要素に重複がない．"
   ]
  },
  {
   "cell_type": "markdown",
   "metadata": {},
   "source": [
    "次のリストの値から重複しない値を取得するのに集合を使え．"
   ]
  },
  {
   "cell_type": "code",
   "execution_count": 22,
   "metadata": {},
   "outputs": [
    {
     "name": "stdout",
     "output_type": "stream",
     "text": [
      "set values : {1, 2, 33, 4, 3, 11, 22}\n"
     ]
    }
   ],
   "source": [
    "l = [1,2,2,33,4,4,11,22,3,3,2]\n",
    "\n",
    "set_values = set(l)\n",
    "print(\"set values : {}\".format(set_values))"
   ]
  },
  {
   "cell_type": "markdown",
   "metadata": {},
   "source": [
    "## 論理型"
   ]
  },
  {
   "cell_type": "markdown",
   "metadata": {},
   "source": [
    "次の質問に対して，比較演算子を前もって確認します．\n",
    "\n",
    "<table class=\"table table-bordered\">\n",
    "<tr>\n",
    "<th style=\"width:10%\">演算子</th><th style=\"width:45%\">説明</th><th>例</th>\n",
    "</tr>\n",
    "<tr>\n",
    "<td>==</td>\n",
    "<td align=\"left\">2つの値が等しいなら，評価は真になります．</td>\n",
    "<td align=\"left\"> (a == b)は真ではない.</td>\n",
    "</tr>\n",
    "<tr>\n",
    "<td>!=</td>\n",
    "<td align=\"left\">２つの値が等しくないなら，評価は真になります．</td>\n",
    "<td align=\"left\"></td>\n",
    "</tr>\n",
    "<tr>\n",
    "<td>&gt;</td>\n",
    "<td align=\"left\">左の値が右の値より大きいなら，評価は真となります．</td>\n",
    "<td align=\"left\"> (a &gt; b)は真ではない．</td>\n",
    "</tr>\n",
    "<tr>\n",
    "<td>&lt;</td>\n",
    "<td align=\"left\">左の値が右の値より小さいなら，評価は真となります．</td>\n",
    "<td align=\"left\"> (a &lt; b) is true.</td>\n",
    "</tr>\n",
    "<tr>\n",
    "<td>&gt;=</td>\n",
    "<td align=\"left\">左の値が右の値より大きい，あるいは等しいなら，評価は真となります．</td>\n",
    "<td align=\"left\"> (a &gt;= b)は真である. </td>\n",
    "</tr>\n",
    "<tr>\n",
    "<td>&lt;=</td>\n",
    "<td align=\"left\">左の値が右の値より小さい，あるいは等しいなら，評価は真となります．</td>\n",
    "<td align=\"left\"> (a &lt;= b)は真である. </td>\n",
    "</tr>\n",
    "</table>"
   ]
  },
  {
   "cell_type": "markdown",
   "metadata": {},
   "source": [
    "次のコードの論理型の結果は？（答えを考えてからセルを評価してください！）"
   ]
  },
  {
   "cell_type": "code",
   "execution_count": 23,
   "metadata": {},
   "outputs": [
    {
     "data": {
      "text/plain": [
       "False"
      ]
     },
     "execution_count": 23,
     "metadata": {},
     "output_type": "execute_result"
    }
   ],
   "source": [
    "# セルを評価する前に答えを考えてください\n",
    "2 > 3"
   ]
  },
  {
   "cell_type": "code",
   "execution_count": 24,
   "metadata": {},
   "outputs": [
    {
     "data": {
      "text/plain": [
       "False"
      ]
     },
     "execution_count": 24,
     "metadata": {},
     "output_type": "execute_result"
    }
   ],
   "source": [
    "# セルを評価する前に答えを考えてください\n",
    "3 <= 2"
   ]
  },
  {
   "cell_type": "code",
   "execution_count": 25,
   "metadata": {},
   "outputs": [
    {
     "data": {
      "text/plain": [
       "False"
      ]
     },
     "execution_count": 25,
     "metadata": {},
     "output_type": "execute_result"
    }
   ],
   "source": [
    "# セルを評価する前に答えを考えてください\n",
    "3 == 2.0"
   ]
  },
  {
   "cell_type": "code",
   "execution_count": 26,
   "metadata": {},
   "outputs": [
    {
     "data": {
      "text/plain": [
       "True"
      ]
     },
     "execution_count": 26,
     "metadata": {},
     "output_type": "execute_result"
    }
   ],
   "source": [
    "# セルを評価する前に答えを考えてください\n",
    "3.0 == 3"
   ]
  },
  {
   "cell_type": "code",
   "execution_count": 27,
   "metadata": {},
   "outputs": [
    {
     "data": {
      "text/plain": [
       "False"
      ]
     },
     "execution_count": 27,
     "metadata": {},
     "output_type": "execute_result"
    }
   ],
   "source": [
    "# セルを評価する前に答えを考えてください\n",
    "4**0.5 != 2"
   ]
  },
  {
   "cell_type": "markdown",
   "metadata": {},
   "source": [
    "下記のセルの論理型の出力は？"
   ]
  },
  {
   "cell_type": "code",
   "execution_count": 28,
   "metadata": {},
   "outputs": [
    {
     "data": {
      "text/plain": [
       "False"
      ]
     },
     "execution_count": 28,
     "metadata": {},
     "output_type": "execute_result"
    }
   ],
   "source": [
    "# ２つのネストされたリスト\n",
    "l_one = [1,2,[3,4]]\n",
    "l_two = [1,2,{'k1':4}]\n",
    "\n",
    "# TrueあるいはFalse?\n",
    "l_one[2][0] >= l_two[2]['k1']"
   ]
  }
 ],
 "metadata": {
  "kernelspec": {
   "display_name": "Python 3",
   "language": "python",
   "name": "python3"
  },
  "language_info": {
   "codemirror_mode": {
    "name": "ipython",
    "version": 3
   },
   "file_extension": ".py",
   "mimetype": "text/x-python",
   "name": "python",
   "nbconvert_exporter": "python",
   "pygments_lexer": "ipython3",
   "version": "3.6.3"
  },
  "toc": {
   "nav_menu": {},
   "number_sections": true,
   "sideBar": true,
   "skip_h1_title": false,
   "toc_cell": false,
   "toc_position": {},
   "toc_section_display": "block",
   "toc_window_display": false
  }
 },
 "nbformat": 4,
 "nbformat_minor": 1
}

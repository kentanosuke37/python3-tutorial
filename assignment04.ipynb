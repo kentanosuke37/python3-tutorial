{
 "cells": [
  {
   "cell_type": "markdown",
   "metadata": {},
   "source": [
    "# class関連の問題\n",
    "\n",
    "* sphereクラスを作成する．\n",
    "\n",
    "* circleクラスの改変．\n",
    "\n",
    "* vector3dクラスの作成．"
   ]
  },
  {
   "cell_type": "markdown",
   "metadata": {},
   "source": [
    "## Sphereクラスの作成 : classの作成方法とmethodの定義を確かめる\n",
    "\n",
    "    (1) クラス名Sphereという何もしないクラスを作成しなさい．\n",
    "    (2) __init__ methodを定義して，半径rをコンストラクタで受け取り，クラス変数に保持するようなプログラムを書いてください．\n",
    "    (3) 表面積を計算して，その値を返すget_surface_areおよび体積を計算して，その値を返すget_volume,それぞれのmethodを実装しなさい．\n",
    "    (4) (3)で実装したmethodが正しいことを具体例にて検証しなさい．\n",
    " "
   ]
  },
  {
   "cell_type": "markdown",
   "metadata": {},
   "source": [
    "## Circleクラスの改変 : 継承を使い，classを拡張する\n",
    "\n",
    "    (1) classの講義で説明したCircleクラスを継承したCircle_newクラスを作成しなさい．\n",
    "    (2) __init__ methodを定義して，半径rおよび中心座標(x, y)を引数にしてクラスを初期化するように変更しなさい．\n",
    "    (3) すでに定義済みのmethod(get_radius, get_area, set_radius, get_circumference)が正常に動作するかを具体的に例を示して，検証しなさい．\n",
    "    (4) 中心座標"
   ]
  }
 ],
 "metadata": {
  "kernelspec": {
   "display_name": "Python 3",
   "language": "python",
   "name": "python3"
  },
  "language_info": {
   "codemirror_mode": {
    "name": "ipython",
    "version": 3
   },
   "file_extension": ".py",
   "mimetype": "text/x-python",
   "name": "python",
   "nbconvert_exporter": "python",
   "pygments_lexer": "ipython3",
   "version": "3.6.5"
  },
  "toc": {
   "nav_menu": {},
   "number_sections": true,
   "sideBar": true,
   "skip_h1_title": false,
   "toc_cell": false,
   "toc_position": {},
   "toc_section_display": "block",
   "toc_window_display": false
  }
 },
 "nbformat": 4,
 "nbformat_minor": 2
}

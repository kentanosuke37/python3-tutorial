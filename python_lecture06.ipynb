{
 "cells": [
  {
   "cell_type": "markdown",
   "metadata": {},
   "source": [
    "# 集合と論理型変数"
   ]
  },
  {
   "cell_type": "markdown",
   "metadata": {},
   "source": [
    "## 集合"
   ]
  },
  {
   "cell_type": "code",
   "execution_count": 1,
   "metadata": {},
   "outputs": [
    {
     "name": "stdout",
     "output_type": "stream",
     "text": [
      "set()\n",
      "{1}\n",
      "{1, 2}\n"
     ]
    }
   ],
   "source": [
    "X = set()\n",
    "print(X)\n",
    "\n",
    "X.add(1)\n",
    "print(X)\n",
    "\n",
    "X.add(2)\n",
    "print(X)"
   ]
  },
  {
   "cell_type": "code",
   "execution_count": 3,
   "metadata": {},
   "outputs": [
    {
     "name": "stdout",
     "output_type": "stream",
     "text": [
      "list values : [1, 1, 1, 2, 2, 2, 2, 3, 3, 4]\n",
      "set values : {1, 2, 3, 4}\n",
      "tuple values : (1, 1, 1, 2, 2, 2, 2, 3, 3, 4)\n",
      "set values : {1, 2, 3, 4}\n"
     ]
    }
   ],
   "source": [
    "list_values = [1, 1, 1, 2, 2, 2, 2, 3, 3, 4]\n",
    "set_values = set(list_values)\n",
    "\n",
    "print(\"list values : {}\".format(list_values))\n",
    "print(\"set values : {}\".format(set_values))\n",
    "\n",
    "tuple_values = tuple(list_values)\n",
    "set_values = set(tuple_values)\n",
    "\n",
    "print(\"tuple values : {}\".format(tuple_values))\n",
    "print(\"set values : {}\".format(set_values))"
   ]
  },
  {
   "cell_type": "markdown",
   "metadata": {},
   "source": [
    "## 論理型変数"
   ]
  },
  {
   "cell_type": "code",
   "execution_count": 6,
   "metadata": {},
   "outputs": [
    {
     "name": "stdout",
     "output_type": "stream",
     "text": [
      "a = True\n",
      "True\n",
      "1 > 2\n",
      "False\n",
      "1 >= 2\n",
      "False\n",
      "11 > 2\n",
      "True\n",
      "1 < 3 < 5\n",
      "True\n",
      "1 <= 3 <= 5\n",
      "True\n",
      "1 < 3 and 3 < 5\n",
      "True\n",
      "1 == 1\n",
      "True\n",
      "1 != 2\n",
      "True\n",
      "f < 20 or f > 30\n",
      "True\n",
      "s is less than t\n",
      "True\n",
      "b = None\n",
      "None\n",
      "b = 'a'\n",
      "True\n"
     ]
    }
   ],
   "source": [
    "\n",
    "a = True\n",
    "print(\"a = True\")\n",
    "print(a)\n",
    "\n",
    "print(\"1 > 2\")\n",
    "print(1 > 2)\n",
    "\n",
    "print(\"1 >= 2\")\n",
    "print(1 >= 2)\n",
    "\n",
    "print(\"11 > 2\")\n",
    "print(11 > 2)\n",
    "\n",
    "print(\"1 < 3 < 5\")\n",
    "print(1 < 3 < 5)\n",
    "\n",
    "print(\"1 <= 3 <= 5\")\n",
    "print(1 <= 3 <= 5)\n",
    "\n",
    "\n",
    "print(\"1 < 3 and 3 < 5\")\n",
    "print(1 < 3 and 3 < 5)\n",
    "\n",
    "\n",
    "print(\"1 == 1\")\n",
    "print(1 == 1)\n",
    "\n",
    "print(\"1 != 2\")\n",
    "print(1 != 2)\n",
    "\n",
    "f = 10\n",
    "print(\"f < 20 or f > 30\")\n",
    "print(f < 20 or f > 30)\n",
    "\n",
    "s = 10\n",
    "t = 12\n",
    "s_is_less_than_t = s < t\n",
    "print(\"s is less than t\")\n",
    "print(s_is_less_than_t)\n",
    "\n",
    "print(\"b = None\")\n",
    "b = None\n",
    "print(b)\n",
    "\n",
    "print(\"b = 'a'\")\n",
    "b = 'a'\n",
    "print(a)"
   ]
  },
  {
   "cell_type": "code",
   "execution_count": 8,
   "metadata": {},
   "outputs": [
    {
     "name": "stdout",
     "output_type": "stream",
     "text": [
      "there is character a.\n",
      "True\n",
      "there is a key of name.\n",
      "True\n"
     ]
    }
   ],
   "source": [
    "string = 'abc'\n",
    "\n",
    "there_is_a = 'a' in string\n",
    "print(\"there is character a.\")\n",
    "print(there_is_a)\n",
    "\n",
    "print(\"there is a key of name.\")\n",
    "dic = {'name': 'Pola', 'mark' : 80, 'weight' : 30}\n",
    "there_is_key_of_name = 'name' in dic.keys()\n",
    "print(there_is_key_of_name)"
   ]
  }
 ],
 "metadata": {
  "kernelspec": {
   "display_name": "Python 3",
   "language": "python",
   "name": "python3"
  },
  "language_info": {
   "codemirror_mode": {
    "name": "ipython",
    "version": 3
   },
   "file_extension": ".py",
   "mimetype": "text/x-python",
   "name": "python",
   "nbconvert_exporter": "python",
   "pygments_lexer": "ipython3",
   "version": "3.6.3"
  },
  "toc": {
   "nav_menu": {},
   "number_sections": true,
   "sideBar": true,
   "skip_h1_title": false,
   "toc_cell": false,
   "toc_position": {},
   "toc_section_display": "block",
   "toc_window_display": false
  }
 },
 "nbformat": 4,
 "nbformat_minor": 2
}

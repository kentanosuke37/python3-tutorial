{
 "cells": [
  {
   "cell_type": "markdown",
   "metadata": {},
   "source": [
    "# 集合と論理型変数"
   ]
  },
  {
   "cell_type": "markdown",
   "metadata": {},
   "source": [
    "## 集合\n",
    "\n",
    "集合は要素に重複がないものオブジェクトになります．set()で集合の型を作成します．集合であることは'{}'で示されます．ディクショナリとは'{}'の中に':'がないことで区別します．add関数で要素を追加します．すでに追加された要素をadd関数で追加しても，要素に追加されません．"
   ]
  },
  {
   "cell_type": "code",
   "execution_count": 11,
   "metadata": {},
   "outputs": [
    {
     "name": "stdout",
     "output_type": "stream",
     "text": [
      "set()\n",
      "{1}\n",
      "{1, 2}\n",
      "{1, 2}\n"
     ]
    }
   ],
   "source": [
    "X = set()\n",
    "print(X)\n",
    "\n",
    "X.add(1)\n",
    "print(X)\n",
    "\n",
    "X.add(2)\n",
    "print(X)\n",
    "\n",
    "# 1はすでに追加されているので，集合に追加されない．\n",
    "X.add(1)\n",
    "print(X)"
   ]
  },
  {
   "cell_type": "markdown",
   "metadata": {},
   "source": [
    "一番の手っ取り早い利用方法はリストから**重複のない要素を取り出したい**といった用途になります．タプルから集合を作成することは可能です．下記に例を示します．"
   ]
  },
  {
   "cell_type": "code",
   "execution_count": 12,
   "metadata": {},
   "outputs": [
    {
     "name": "stdout",
     "output_type": "stream",
     "text": [
      "list values : [1, 1, 1, 2, 2, 2, 2, 3, 3, 4]\n",
      "set values : {1, 2, 3, 4}\n"
     ]
    }
   ],
   "source": [
    "# リストの例\n",
    "list_values = [1, 1, 1, 2, 2, 2, 2, 3, 3, 4]\n",
    "set_values = set(list_values)\n",
    "\n",
    "print(\"list values : {}\".format(list_values))\n",
    "print(\"set values : {}\".format(set_values))"
   ]
  },
  {
   "cell_type": "code",
   "execution_count": 13,
   "metadata": {},
   "outputs": [
    {
     "name": "stdout",
     "output_type": "stream",
     "text": [
      "tuple values : (1, 1, 1, 2, 2, 2, 2, 3, 3, 4)\n",
      "set values : {1, 2, 3, 4}\n"
     ]
    }
   ],
   "source": [
    "# タプルの例\n",
    "tuple_values = (1, 1, 1, 2, 2, 2, 2, 3, 3, 4)\n",
    "set_values = set(tuple_values)\n",
    "\n",
    "print(\"tuple values : {}\".format(tuple_values))\n",
    "print(\"set values : {}\".format(set_values))"
   ]
  },
  {
   "cell_type": "markdown",
   "metadata": {},
   "source": [
    "## 論理型変数"
   ]
  },
  {
   "cell_type": "markdown",
   "metadata": {},
   "source": [
    "論理型変数には，**True**, **False**および**None**が用意されています．論理記号が正しいときにTrueが返され，正しくない時にFalseが返されます．Noneは値の割当がないという意味の変数であり，変数を事前に確保したいときや関数の返り値として返すものがないときに利用されます．NoneはあたかもFalseに振る舞うことがありますが，詳細はif文の説明で行います．\n",
    "\n",
    "また，pythonの論理記号を下記の表にまとめます．実際に利用してみないとわからないと思うので，下記に例を列挙します．\n",
    "\n",
    "<table class=\"table table-bordered\">\n",
    "<tr>\n",
    "<th style=\"width:10%\">演算子</th><th style=\"width:45%\">説明</th><th>例</th>\n",
    "</tr>\n",
    "<tr>\n",
    "<td>==</td>\n",
    "<td align=\"left\">2つの値が等しいなら，評価は真になります．</td>\n",
    "<td align=\"left\"> (a == b)は真ではない.</td>\n",
    "</tr>\n",
    "<tr>\n",
    "<td>!=</td>\n",
    "<td align=\"left\">２つの値が等しくないなら，評価は真になります．</td>\n",
    "<td align=\"left\"></td>\n",
    "</tr>\n",
    "<tr>\n",
    "<td>&gt;</td>\n",
    "<td align=\"left\">左の値が右の値より大きいなら，評価は真となります．</td>\n",
    "<td align=\"left\"> (a &gt; b)は真ではない．</td>\n",
    "</tr>\n",
    "<tr>\n",
    "<td>&lt;</td>\n",
    "<td align=\"left\">左の値が右の値より小さいなら，評価は真となります．</td>\n",
    "<td align=\"left\"> (a &lt; b) is true.</td>\n",
    "</tr>\n",
    "<tr>\n",
    "<td>&gt;=</td>\n",
    "<td align=\"left\">左の値が右の値より大きい，あるいは等しいなら，評価は真となります．</td>\n",
    "<td align=\"left\"> (a &gt;= b)は真である. </td>\n",
    "</tr>\n",
    "<tr>\n",
    "<td>&lt;=</td>\n",
    "<td align=\"left\">左の値が右の値より小さい，あるいは等しいなら，評価は真となります．</td>\n",
    "<td align=\"left\"> (a &lt;= b)は真である. </td>\n",
    "</tr>\n",
    "</table>"
   ]
  },
  {
   "cell_type": "code",
   "execution_count": 14,
   "metadata": {},
   "outputs": [
    {
     "name": "stdout",
     "output_type": "stream",
     "text": [
      "aがTrue\n",
      "True\n"
     ]
    }
   ],
   "source": [
    "a = True\n",
    "print(\"aがTrue\")\n",
    "print(a)"
   ]
  },
  {
   "cell_type": "code",
   "execution_count": 15,
   "metadata": {},
   "outputs": [
    {
     "name": "stdout",
     "output_type": "stream",
     "text": [
      "1 > 2\n",
      "False\n"
     ]
    }
   ],
   "source": [
    "print(\"1 > 2\")\n",
    "print(1 > 2)"
   ]
  },
  {
   "cell_type": "code",
   "execution_count": 16,
   "metadata": {},
   "outputs": [
    {
     "name": "stdout",
     "output_type": "stream",
     "text": [
      "1 >= 2\n",
      "False\n"
     ]
    }
   ],
   "source": [
    "print(\"1 >= 2\")\n",
    "print(1 >= 2)"
   ]
  },
  {
   "cell_type": "code",
   "execution_count": 17,
   "metadata": {},
   "outputs": [
    {
     "name": "stdout",
     "output_type": "stream",
     "text": [
      "11 > 2\n",
      "True\n"
     ]
    }
   ],
   "source": [
    "print(\"11 > 2\")\n",
    "print(11 > 2)"
   ]
  },
  {
   "cell_type": "code",
   "execution_count": 18,
   "metadata": {},
   "outputs": [
    {
     "name": "stdout",
     "output_type": "stream",
     "text": [
      "1 < 3 < 5\n",
      "True\n"
     ]
    }
   ],
   "source": [
    "# 一行で評価できます．\n",
    "\n",
    "print(\"1 < 3 < 5\")\n",
    "print(1 < 3 < 5)"
   ]
  },
  {
   "cell_type": "code",
   "execution_count": 19,
   "metadata": {},
   "outputs": [
    {
     "name": "stdout",
     "output_type": "stream",
     "text": [
      "1 <= 3 <= 5\n",
      "True\n"
     ]
    }
   ],
   "source": [
    "print(\"1 <= 3 <= 5\")\n",
    "print(1 <= 3 <= 5)"
   ]
  },
  {
   "cell_type": "code",
   "execution_count": 20,
   "metadata": {},
   "outputs": [
    {
     "name": "stdout",
     "output_type": "stream",
     "text": [
      "1 < 3 and 3 < 5\n",
      "True\n"
     ]
    }
   ],
   "source": [
    "# 2つの論理を結合する : andの例\n",
    "\n",
    "print(\"1 < 3 and 3 < 5\")\n",
    "print(1 < 3 and 3 < 5)"
   ]
  },
  {
   "cell_type": "code",
   "execution_count": 21,
   "metadata": {},
   "outputs": [
    {
     "name": "stdout",
     "output_type": "stream",
     "text": [
      "1 == 1\n",
      "True\n"
     ]
    }
   ],
   "source": [
    "print(\"1 == 1\")\n",
    "print(1 == 1)"
   ]
  },
  {
   "cell_type": "code",
   "execution_count": 22,
   "metadata": {},
   "outputs": [
    {
     "name": "stdout",
     "output_type": "stream",
     "text": [
      "1 != 2\n",
      "True\n"
     ]
    }
   ],
   "source": [
    "print(\"1 != 2\")\n",
    "print(1 != 2)"
   ]
  },
  {
   "cell_type": "code",
   "execution_count": 23,
   "metadata": {},
   "outputs": [
    {
     "name": "stdout",
     "output_type": "stream",
     "text": [
      "f < 20 or f > 30\n",
      "True\n"
     ]
    }
   ],
   "source": [
    "# 2つの論理を結合する : orの例\n",
    "\n",
    "f = 10\n",
    "print(\"f < 20 or f > 30\")\n",
    "print(f < 20 or f > 30)"
   ]
  },
  {
   "cell_type": "code",
   "execution_count": 24,
   "metadata": {},
   "outputs": [
    {
     "name": "stdout",
     "output_type": "stream",
     "text": [
      "s is less than t\n",
      "True\n"
     ]
    }
   ],
   "source": [
    "# 論理評価の結果を変数に代入した例\n",
    "\n",
    "s = 10\n",
    "t = 12\n",
    "s_is_less_than_t = s < t\n",
    "print(\"s is less than t\")\n",
    "print(s_is_less_than_t)"
   ]
  },
  {
   "cell_type": "markdown",
   "metadata": {},
   "source": [
    "下記はNoneの例になります．変数がNoneかどうかには'is'を使用します．'not'を利用することで'None'ではないことを表現できます．"
   ]
  },
  {
   "cell_type": "code",
   "execution_count": 25,
   "metadata": {},
   "outputs": [
    {
     "name": "stdout",
     "output_type": "stream",
     "text": [
      "b = None\n",
      "None\n",
      "b is None\n",
      "True\n",
      "b is not None\n",
      "False\n"
     ]
    }
   ],
   "source": [
    "# Noneを代入する\n",
    "print(\"b = None\")\n",
    "b = None\n",
    "print(b)\n",
    "\n",
    "# 変数がNoneであるかどうかを判断\n",
    "print(\"b is None\")\n",
    "judge = b is None\n",
    "print(judge)\n",
    "\n",
    "# 変数がNoneでないかどうかを判断\n",
    "print(\"b is not None\")\n",
    "judge = b is not None\n",
    "print(judge)"
   ]
  },
  {
   "cell_type": "markdown",
   "metadata": {},
   "source": [
    "実際に論理判断を使用する例として，頻繁に用いるものを下記に紹介します．文字列の中にある文字があるかどうかを判断したり，ディクショナリのkeyにあるものがあるかどうかを判断したりすることは非常に頻繁に行います．"
   ]
  },
  {
   "cell_type": "code",
   "execution_count": 2,
   "metadata": {},
   "outputs": [
    {
     "name": "stdout",
     "output_type": "stream",
     "text": [
      "there is character 'a' in the string.\n",
      "True\n"
     ]
    }
   ],
   "source": [
    "# ある文字列があるかどうかを判断する例\n",
    "string = 'abc'\n",
    "there_is_a = 'a' in string\n",
    "print(\"there is character 'a' in the string.\")\n",
    "print(there_is_a)"
   ]
  },
  {
   "cell_type": "code",
   "execution_count": 3,
   "metadata": {},
   "outputs": [
    {
     "name": "stdout",
     "output_type": "stream",
     "text": [
      "there is a key of 'name'in the dictionary.\n",
      "True\n"
     ]
    }
   ],
   "source": [
    "# ディクショナリのkeyにあるkeyが存在するかどうかを判断する例\n",
    "print(\"there is a key of 'name'in the dictionary.\")\n",
    "dic = {'name': 'Pola', 'mark' : 80, 'weight' : 30}\n",
    "there_is_key_of_name = 'name' in dic.keys()\n",
    "print(there_is_key_of_name)"
   ]
  }
 ],
 "metadata": {
  "kernelspec": {
   "display_name": "Python 3",
   "language": "python",
   "name": "python3"
  },
  "language_info": {
   "codemirror_mode": {
    "name": "ipython",
    "version": 3
   },
   "file_extension": ".py",
   "mimetype": "text/x-python",
   "name": "python",
   "nbconvert_exporter": "python",
   "pygments_lexer": "ipython3",
   "version": "3.6.3"
  },
  "toc": {
   "nav_menu": {},
   "number_sections": true,
   "sideBar": true,
   "skip_h1_title": false,
   "toc_cell": false,
   "toc_position": {},
   "toc_section_display": "block",
   "toc_window_display": false
  }
 },
 "nbformat": 4,
 "nbformat_minor": 2
}

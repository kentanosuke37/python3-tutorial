{
 "cells": [
  {
   "cell_type": "markdown",
   "metadata": {},
   "source": [
    "# 文字列"
   ]
  },
  {
   "cell_type": "markdown",
   "metadata": {},
   "source": [
    "文字列はシングルクウォートあるいはダブルクウォートで表現します．"
   ]
  },
  {
   "cell_type": "code",
   "execution_count": 15,
   "metadata": {},
   "outputs": [
    {
     "name": "stdout",
     "output_type": "stream",
     "text": [
      "my name is 774\n",
      "my name is 774\n",
      "私は774です．\n"
     ]
    }
   ],
   "source": [
    "print('my name is 774')\n",
    "print(\"my name is 774\")\n",
    "\n",
    "# 日本語\n",
    "print(\"私は774です．\")"
   ]
  },
  {
   "cell_type": "markdown",
   "metadata": {},
   "source": [
    "シングルクウォートを使う文字列はシングルクウォートを使用するとエラーとなります．"
   ]
  },
  {
   "cell_type": "code",
   "execution_count": 16,
   "metadata": {},
   "outputs": [
    {
     "ename": "SyntaxError",
     "evalue": "invalid syntax (<ipython-input-16-948a1d22f528>, line 2)",
     "output_type": "error",
     "traceback": [
      "\u001b[1;36m  File \u001b[1;32m\"<ipython-input-16-948a1d22f528>\"\u001b[1;36m, line \u001b[1;32m2\u001b[0m\n\u001b[1;33m    'I'm a student'\u001b[0m\n\u001b[1;37m       ^\u001b[0m\n\u001b[1;31mSyntaxError\u001b[0m\u001b[1;31m:\u001b[0m invalid syntax\n"
     ]
    }
   ],
   "source": [
    "# error\n",
    "'I'm a student'"
   ]
  },
  {
   "cell_type": "code",
   "execution_count": 1,
   "metadata": {},
   "outputs": [
    {
     "data": {
      "text/plain": [
       "\"I'm a student\""
      ]
     },
     "execution_count": 1,
     "metadata": {},
     "output_type": "execute_result"
    }
   ],
   "source": [
    "\"I'm a student\""
   ]
  },
  {
   "cell_type": "markdown",
   "metadata": {},
   "source": [
    "## 代入"
   ]
  },
  {
   "cell_type": "code",
   "execution_count": 2,
   "metadata": {},
   "outputs": [
    {
     "name": "stdout",
     "output_type": "stream",
     "text": [
      "I'm a student.\n"
     ]
    }
   ],
   "source": [
    "## 代入\n",
    "s = \"I'm a student.\"\n",
    "print(s)"
   ]
  },
  {
   "cell_type": "markdown",
   "metadata": {},
   "source": [
    "## 改行とタブ\n",
    "\\nが改行文字，\\tがタブを表す文字になります．"
   ]
  },
  {
   "cell_type": "code",
   "execution_count": 3,
   "metadata": {},
   "outputs": [
    {
     "name": "stdout",
     "output_type": "stream",
     "text": [
      "I'm a student.\n",
      " aaa\t bbb\t\n"
     ]
    }
   ],
   "source": [
    "# 改行 : \\n, タブ : \\t\n",
    "s = \"I'm a student.\\n aaa\\t bbb\\t\"\n",
    "print(s)"
   ]
  },
  {
   "cell_type": "markdown",
   "metadata": {},
   "source": [
    "## indexing\n",
    "\n",
    "文字列は配列の添字は0から開始します．"
   ]
  },
  {
   "cell_type": "code",
   "execution_count": 4,
   "metadata": {},
   "outputs": [
    {
     "name": "stdout",
     "output_type": "stream",
     "text": [
      "H\n",
      "e\n"
     ]
    }
   ],
   "source": [
    "s = \"Hello World\"\n",
    "print(s[0])\n",
    "print(s[1])"
   ]
  },
  {
   "cell_type": "markdown",
   "metadata": {},
   "source": [
    "## slicing\n",
    "\n",
    "文字列は[start:end:step]で必要な部分を抽出できます．**endの文字列は含みません!**．\n",
    "stepのデフォルト値は1になります．\n",
    "\n",
    "-1は文字列末尾の文字を表し，マイナスそのものは文字列の末尾からという意味になります．"
   ]
  },
  {
   "cell_type": "code",
   "execution_count": 5,
   "metadata": {},
   "outputs": [
    {
     "name": "stdout",
     "output_type": "stream",
     "text": [
      "ello World\n",
      "Hel\n",
      "Hello World\n",
      "d\n",
      "Hello Worl\n",
      "Hello World\n",
      "HloWrd\n",
      "dlroW olleH\n"
     ]
    }
   ],
   "source": [
    "# 1文字目から末尾まで\n",
    "print(s[1:])\n",
    "\n",
    "# 最初の文字からindex２までの文字\n",
    "print(s[:3])\n",
    "\n",
    "# 文字列すべてを表示\n",
    "print(s[:]) \n",
    "\n",
    "# 文字列の末尾文字を表示\n",
    "print(s[-1])\n",
    "\n",
    "# 文字列の末尾文字を除く文字列\n",
    "print(s[:-1])\n",
    "\n",
    "# 文字列すべて\n",
    "print(s[::1])\n",
    "\n",
    "# 2文字とばしの文字列を表示\n",
    "print(s[::2])\n",
    "\n",
    "# 逆に文字列を表示\n",
    "print(s[::-1])"
   ]
  },
  {
   "cell_type": "markdown",
   "metadata": {},
   "source": [
    "## immutabability\n",
    "**文字列はそれ自身を変更できない!これをimmutableっていいます．**"
   ]
  },
  {
   "cell_type": "code",
   "execution_count": 6,
   "metadata": {},
   "outputs": [
    {
     "ename": "TypeError",
     "evalue": "'str' object does not support item assignment",
     "output_type": "error",
     "traceback": [
      "\u001b[1;31m---------------------------------------------------------------------------\u001b[0m",
      "\u001b[1;31mTypeError\u001b[0m                                 Traceback (most recent call last)",
      "\u001b[1;32m<ipython-input-6-cc37915722b8>\u001b[0m in \u001b[0;36m<module>\u001b[1;34m()\u001b[0m\n\u001b[1;32m----> 1\u001b[1;33m \u001b[0ms\u001b[0m\u001b[1;33m[\u001b[0m\u001b[1;36m0\u001b[0m\u001b[1;33m]\u001b[0m \u001b[1;33m=\u001b[0m \u001b[1;34m'A'\u001b[0m\u001b[1;33m\u001b[0m\u001b[0m\n\u001b[0m",
      "\u001b[1;31mTypeError\u001b[0m: 'str' object does not support item assignment"
     ]
    }
   ],
   "source": [
    "s[0] = 'A'"
   ]
  },
  {
   "cell_type": "markdown",
   "metadata": {},
   "source": [
    "## 連結\n",
    "連結は**'+'**で行います．"
   ]
  },
  {
   "cell_type": "code",
   "execution_count": 7,
   "metadata": {},
   "outputs": [
    {
     "name": "stdout",
     "output_type": "stream",
     "text": [
      "Hello World\n",
      "hello Tom!\n",
      "hello Cachy!\n"
     ]
    }
   ],
   "source": [
    "s2 = s + '\\nhello Tom!'\n",
    "s2 += '\\nhello Cachy!'\n",
    "print(s2)"
   ]
  },
  {
   "cell_type": "markdown",
   "metadata": {},
   "source": [
    "## よく使う関数\n",
    "\n",
    "upper(), lower(), split, replace(), len()なんかをよく使います．下記が具体的な例になります．"
   ]
  },
  {
   "cell_type": "code",
   "execution_count": 8,
   "metadata": {},
   "outputs": [
    {
     "name": "stdout",
     "output_type": "stream",
     "text": [
      "HELLO WORLD\n",
      "hello world\n",
      "['Hello', 'World']\n",
      "['Hello World', 'hello Tom!', 'hello Cachy!']\n",
      "Hello Cachy!\n",
      "11\n",
      "Hello World,hello Tom!,hello Cachy!\n",
      "Hello World_ABC_hello Tom!_ABC_hello Cachy!\n"
     ]
    }
   ],
   "source": [
    "# 大文字にする\n",
    "print(s.upper())\n",
    "\n",
    "# 小文字にする\n",
    "print(s.lower())\n",
    "\n",
    "# 空白で区切ったリストを返す\n",
    "print(s.split())\n",
    "\n",
    "# \"\\n\"で区切ったリストを返す\n",
    "print(s2.split(\"\\n\"))\n",
    "\n",
    "# 置換\n",
    "print(s.replace('World', 'Cachy!'))\n",
    "\n",
    "# 文字列数を取得する\n",
    "print(len(s))\n",
    "\n",
    "# カンマでつなげる : \n",
    "# joinは文字でつなげる\n",
    "str_list = s2.split(\"\\n\")\n",
    "print(','.join(str_list))\n",
    "print('_ABC_'.join(str_list))"
   ]
  },
  {
   "cell_type": "markdown",
   "metadata": {},
   "source": [
    "# 出力表現\n",
    "\n",
    "%sはタプルを使用する古い出力形式になります．"
   ]
  },
  {
   "cell_type": "code",
   "execution_count": 9,
   "metadata": {},
   "outputs": [
    {
     "name": "stdout",
     "output_type": "stream",
     "text": [
      "This is a string.\n",
      "This number is 100.\n"
     ]
    }
   ],
   "source": [
    "print(\"This is a string.\")\n",
    "\n",
    "# 古い形式 : こちらは使わない!\n",
    "print(\"This number is %s.\" % 100)"
   ]
  },
  {
   "cell_type": "markdown",
   "metadata": {},
   "source": [
    "普段は**format関数**を使いましょう．"
   ]
  },
  {
   "cell_type": "code",
   "execution_count": 10,
   "metadata": {},
   "outputs": [
    {
     "name": "stdout",
     "output_type": "stream",
     "text": [
      "This number is 100\n",
      "These numbers are (100, 200)\n",
      "These numbers are (100, 200)\n",
      "These numbers are (200, 100)\n"
     ]
    }
   ],
   "source": [
    "# format関数を使いましょう．表示を任せる場合．\n",
    "print(\"This number is {}\".format(100))\n",
    "print(\"These numbers are ({}, {})\".format(100, 200))\n",
    "\n",
    "# 変数で出力場所を割り当てる．\n",
    "print(\"These numbers are ({x}, {y})\".format(x=100, y=200))\n",
    "print(\"These numbers are ({y}, {x})\".format(x=100, y=200))\n",
    "\n",
    "\n"
   ]
  },
  {
   "cell_type": "markdown",
   "metadata": {},
   "source": [
    "## 数値の具体的な表示の指定"
   ]
  },
  {
   "cell_type": "code",
   "execution_count": 11,
   "metadata": {},
   "outputs": [
    {
     "name": "stdout",
     "output_type": "stream",
     "text": [
      "This number is        100\n",
      "This number is    100.000\n",
      "This number is 0000000100\n",
      "This number is  1.000e+02\n"
     ]
    }
   ],
   "source": [
    "# 10桁の整数で表示\n",
    "print(\"This number is {:10d}\".format(100))\n",
    "\n",
    "# 10桁の浮動小数で表示．小数は3桁表示する．\n",
    "print(\"This number is {:10.3f}\".format(100))\n",
    "\n",
    "# 10桁の整数で表示．空白は0で埋める．\n",
    "print(\"This number is {:010d}\".format(100))\n",
    "\n",
    "# 10桁の指数で表示して，小数部分の桁数は3桁．\n",
    "print(\"This number is {:10.3e}\".format(100))"
   ]
  },
  {
   "cell_type": "markdown",
   "metadata": {},
   "source": [
    "## 文字列の具体的な表示の指定"
   ]
  },
  {
   "cell_type": "code",
   "execution_count": 12,
   "metadata": {},
   "outputs": [
    {
     "name": "stdout",
     "output_type": "stream",
     "text": [
      "This number is 100       \n",
      "This number is    100    \n",
      "This number is        100\n"
     ]
    }
   ],
   "source": [
    "# 10文字表示で左寄せ\n",
    "print(\"This number is {:<10}\".format(100))\n",
    "\n",
    "# 10文字表示で中央寄せ\n",
    "print(\"This number is {:^10}\".format(100))\n",
    "\n",
    "# 10文字表示で右寄せ\n",
    "print(\"This number is {:>10}\".format(100))\n"
   ]
  },
  {
   "cell_type": "markdown",
   "metadata": {},
   "source": [
    "## format関数で文字列を作成する例"
   ]
  },
  {
   "cell_type": "code",
   "execution_count": 13,
   "metadata": {},
   "outputs": [
    {
     "name": "stdout",
     "output_type": "stream",
     "text": [
      "This number is        100\n",
      " Hello!\n"
     ]
    }
   ],
   "source": [
    "str_num = \"This number is {:>10}\".format(100)\n",
    "str_num += \"\\n Hello!\"\n",
    "print(str_num)"
   ]
  }
 ],
 "metadata": {
  "kernelspec": {
   "display_name": "Python 3",
   "language": "python",
   "name": "python3"
  },
  "language_info": {
   "codemirror_mode": {
    "name": "ipython",
    "version": 3
   },
   "file_extension": ".py",
   "mimetype": "text/x-python",
   "name": "python",
   "nbconvert_exporter": "python",
   "pygments_lexer": "ipython3",
   "version": "3.6.3"
  },
  "toc": {
   "nav_menu": {},
   "number_sections": true,
   "sideBar": true,
   "skip_h1_title": false,
   "toc_cell": false,
   "toc_position": {
    "height": "268px",
    "left": "0px",
    "right": "1706px",
    "top": "111px",
    "width": "100px"
   },
   "toc_section_display": "none",
   "toc_window_display": true
  }
 },
 "nbformat": 4,
 "nbformat_minor": 2
}

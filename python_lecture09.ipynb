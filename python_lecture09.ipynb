{
 "cells": [
  {
   "cell_type": "markdown",
   "metadata": {},
   "source": [
    "# Method\n",
    "\n",
    "pythonの変数はすべてobjectから構成されています．objectに付属する関数をmethodと言います．下記のような書式で使用します．\n",
    "\n",
    "    object.method(arg1, arg2, etc...)\n",
    "    \n",
    "すでにリスト，ディクショナリといった変数を格納するオブジェクトの使い方について説明を行いました．その際，変数を格納したり，取り出したりする際に使用する関数がmethodになります．\n",
    "\n",
    "リストを例に取り，methodの使用方法を改めて確認しましょう．"
   ]
  },
  {
   "cell_type": "code",
   "execution_count": 2,
   "metadata": {},
   "outputs": [
    {
     "name": "stdout",
     "output_type": "stream",
     "text": [
      "[1, 2, 3, 4, 5, 6]\n"
     ]
    }
   ],
   "source": [
    "# appendはリストオブジェクトのmethod\n",
    "values = [1, 2, 3, 4, 5]\n",
    "values.append(6)\n",
    "print(values)"
   ]
  },
  {
   "cell_type": "code",
   "execution_count": 4,
   "metadata": {},
   "outputs": [
    {
     "name": "stdout",
     "output_type": "stream",
     "text": [
      "3\n"
     ]
    }
   ],
   "source": [
    "# countはリストオブジェクトのmethod．リスト内の同一の値がいくつあるかを数えて，結果をintで返す関数\n",
    "values.count(3)\n",
    "values.append(3)\n",
    "values.append(3)\n",
    "print(values.count(3))"
   ]
  },
  {
   "cell_type": "markdown",
   "metadata": {},
   "source": [
    "help関数を使用すると，methodの使用方法を調べることができます．"
   ]
  },
  {
   "cell_type": "code",
   "execution_count": 1,
   "metadata": {},
   "outputs": [
    {
     "name": "stdout",
     "output_type": "stream",
     "text": [
      "Help on built-in function count:\n",
      "\n",
      "count(...) method of builtins.list instance\n",
      "    L.count(value) -> integer -- return number of occurrences of value\n",
      "\n"
     ]
    }
   ],
   "source": [
    "values = []\n",
    "help(values.count)"
   ]
  },
  {
   "cell_type": "code",
   "execution_count": 2,
   "metadata": {},
   "outputs": [
    {
     "name": "stdout",
     "output_type": "stream",
     "text": [
      "Help on built-in function append:\n",
      "\n",
      "append(...) method of builtins.list instance\n",
      "    L.append(object) -> None -- append object to end\n",
      "\n"
     ]
    }
   ],
   "source": [
    "help(values.append)"
   ]
  },
  {
   "cell_type": "markdown",
   "metadata": {},
   "source": [
    "# function\n",
    "\n",
    "いわゆる関数になります．主に下のような形式にて作成を行うます．"
   ]
  },
  {
   "cell_type": "code",
   "execution_count": null,
   "metadata": {},
   "outputs": [],
   "source": [
    "# 1. def宣言を書く\n",
    "# 2. 関数名を定義\n",
    "# 3. 関数の後のカッコに引数を並べる\n",
    "# 4. indentを下げて，関数の内容を記述する．\n",
    "# 5. 値を返す時は，returnにて値を返す\n",
    "def name_of_function(arg1,arg2):\n",
    "    '''\n",
    "    この部分は関数のDocument String(doc-string)を書きます\n",
    "    '''\n",
    "    # することを書く\n",
    "    #　結果を返す\n",
    "    pass"
   ]
  },
  {
   "cell_type": "markdown",
   "metadata": {},
   "source": [
    "まずは引数を取らず，値を返さない関数を作成してみます．非常に簡単な例になります．'hello'と出力するだけの関数になります．"
   ]
  },
  {
   "cell_type": "code",
   "execution_count": 3,
   "metadata": {},
   "outputs": [],
   "source": [
    "def say_hello():\n",
    "    print('hello')"
   ]
  },
  {
   "cell_type": "code",
   "execution_count": 4,
   "metadata": {},
   "outputs": [
    {
     "name": "stdout",
     "output_type": "stream",
     "text": [
      "hello\n"
     ]
    }
   ],
   "source": [
    "say_hello()"
   ]
  },
  {
   "cell_type": "markdown",
   "metadata": {},
   "source": [
    "次に引数を取った場合の例を下記に示します．nameを引数にとり，'Hello ~'と言った形で出力を行う関数です．"
   ]
  },
  {
   "cell_type": "code",
   "execution_count": 7,
   "metadata": {},
   "outputs": [],
   "source": [
    "def greeting(name):\n",
    "    print('Hello {}!'.format(name))"
   ]
  },
  {
   "cell_type": "code",
   "execution_count": 8,
   "metadata": {},
   "outputs": [
    {
     "name": "stdout",
     "output_type": "stream",
     "text": [
      "Hello Tsutaju!\n"
     ]
    }
   ],
   "source": [
    "greeting('Tsutaju')"
   ]
  },
  {
   "cell_type": "markdown",
   "metadata": {},
   "source": [
    "次に値を返す関数の例になります．２つの値を引数に取り，それを足した値を返します．値を返す時はreturn文を使用します．"
   ]
  },
  {
   "cell_type": "code",
   "execution_count": 9,
   "metadata": {},
   "outputs": [],
   "source": [
    "def add_num(num1,num2):\n",
    "    return num1+num2"
   ]
  },
  {
   "cell_type": "code",
   "execution_count": 10,
   "metadata": {},
   "outputs": [
    {
     "name": "stdout",
     "output_type": "stream",
     "text": [
      "3\n"
     ]
    }
   ],
   "source": [
    "result = add_num(1,2)\n",
    "print(result)"
   ]
  },
  {
   "cell_type": "markdown",
   "metadata": {},
   "source": [
    "おおまかな説明は完了しました．ちょっと込み入った関数を作成してみます．下記は素数かどうかを判断する関数の例になります．関数の下にコメントが書かれていますが，これをdoc-stringと呼びます．ここのコメントに関数の使用法を書きますと，help関数にてその使用法に関するコメントを参照することができます．"
   ]
  },
  {
   "cell_type": "code",
   "execution_count": 15,
   "metadata": {},
   "outputs": [],
   "source": [
    "import math\n",
    "\n",
    "def is_prime(num):\n",
    "    '''\n",
    "    素数かどうかをチェックするのにもっと良いメソッド\n",
    "    '''\n",
    "    if num % 2 == 0 and num > 2: \n",
    "        return False\n",
    "    for i in range(3, int(math.sqrt(num)) + 1, 2):\n",
    "        if num % i == 0:\n",
    "            return False\n",
    "    return True"
   ]
  },
  {
   "cell_type": "code",
   "execution_count": 17,
   "metadata": {},
   "outputs": [
    {
     "name": "stdout",
     "output_type": "stream",
     "text": [
      "This is the explanation of is_prime function : \n",
      "Help on function is_prime in module __main__:\n",
      "\n",
      "is_prime(num)\n",
      "    素数かどうかをチェックするのにもっと良いメソッド\n",
      "\n",
      "Is 3 prime? : True\n"
     ]
    }
   ],
   "source": [
    "num = 3\n",
    "print(\"This is the explanation of is_prime function : \")\n",
    "help(is_prime)\n",
    "print(\"Is {} prime? : {}\".format(num, is_prime(num)))\n"
   ]
  },
  {
   "cell_type": "markdown",
   "metadata": {},
   "source": [
    "## 引数が参照となるケース"
   ]
  },
  {
   "cell_type": "markdown",
   "metadata": {},
   "source": [
    "pythonの引数は参照渡しになりますので，関数内で値を変更しますと，その変数の値は関数の処理終了後，値が変更されます．したがって，基本的には引数の値は変更しないようにして，何かしら関数処理で値を返したい時は，新規変数を確保して目的の処理値を返すようにしたほうがプログラムの管理上，安全です．\n",
    "\n",
    "下記では，引数を変更する例を示しますが，こちらは良い例とは言えません．"
   ]
  },
  {
   "cell_type": "code",
   "execution_count": 18,
   "metadata": {},
   "outputs": [],
   "source": [
    "# これは悪い例\n",
    "def add_one(list_values):\n",
    "    for i, value in enumerate(list_values):\n",
    "        list_values[i] = value + 1"
   ]
  },
  {
   "cell_type": "code",
   "execution_count": 19,
   "metadata": {},
   "outputs": [
    {
     "name": "stdout",
     "output_type": "stream",
     "text": [
      "[2, 3, 4]\n"
     ]
    }
   ],
   "source": [
    "values = [1, 2, 3]\n",
    "add_one(values)\n",
    "print(values)"
   ]
  },
  {
   "cell_type": "markdown",
   "metadata": {},
   "source": [
    "では上記の方法ではなく，どうしたらいいか？といいますと，下記のように新規に変数を確保して，計算値を返すようにしたほうが，プログラムの管理上，バグが少なくなるかと思います．"
   ]
  },
  {
   "cell_type": "code",
   "execution_count": 20,
   "metadata": {},
   "outputs": [],
   "source": [
    "# こうした方がいい\n",
    "def add_one_revised(list_values):\n",
    "    return [value + 1 for value in list_values]"
   ]
  },
  {
   "cell_type": "code",
   "execution_count": 21,
   "metadata": {},
   "outputs": [
    {
     "name": "stdout",
     "output_type": "stream",
     "text": [
      "[2, 3, 4]\n"
     ]
    }
   ],
   "source": [
    "values = [1, 2, 3]\n",
    "values = add_one_revised(values)\n",
    "print(values)"
   ]
  },
  {
   "cell_type": "markdown",
   "metadata": {},
   "source": [
    "もう一つ例を示します．dictionaryを引数にとり，渡されたdictionaryの値に1を足す例をなります．"
   ]
  },
  {
   "cell_type": "code",
   "execution_count": 22,
   "metadata": {},
   "outputs": [],
   "source": [
    "def add_one_for_value(dic):\n",
    "    return {key : value+1 for key, value in dic.items()}"
   ]
  },
  {
   "cell_type": "code",
   "execution_count": 24,
   "metadata": {},
   "outputs": [
    {
     "name": "stdout",
     "output_type": "stream",
     "text": [
      "{'a': 2, 'b': 3, 'c': 4}\n"
     ]
    }
   ],
   "source": [
    "dic = {'a': 1, 'b':2, 'c':3}\n",
    "dic = add_one_for_value(dic)\n",
    "print(dic)"
   ]
  },
  {
   "cell_type": "markdown",
   "metadata": {},
   "source": [
    "## default引数"
   ]
  },
  {
   "cell_type": "markdown",
   "metadata": {},
   "source": [
    "引数にdefault設定の値を設定することができます．その時には，引数に'='で値を設定することによりdefault値を設定することができます．default値を設定した引数は，省略するとdefault値が引き渡されます．下記に実例を示します．"
   ]
  },
  {
   "cell_type": "code",
   "execution_count": 1,
   "metadata": {},
   "outputs": [],
   "source": [
    "# default値は'='で設定します．\n",
    "def func(a, b=1):\n",
    "    return a+b"
   ]
  },
  {
   "cell_type": "code",
   "execution_count": 2,
   "metadata": {},
   "outputs": [
    {
     "name": "stdout",
     "output_type": "stream",
     "text": [
      "3\n"
     ]
    }
   ],
   "source": [
    "# default値を使用しないケース\n",
    "a = 1\n",
    "b = 2\n",
    "print(func(a, b))"
   ]
  },
  {
   "cell_type": "code",
   "execution_count": 4,
   "metadata": {},
   "outputs": [
    {
     "name": "stdout",
     "output_type": "stream",
     "text": [
      "2\n"
     ]
    }
   ],
   "source": [
    "# default値を使用するケース\n",
    "a = 1\n",
    "print(func(a))"
   ]
  },
  {
   "cell_type": "markdown",
   "metadata": {},
   "source": [
    "## リストで引数を渡す(unpacking)"
   ]
  },
  {
   "cell_type": "markdown",
   "metadata": {},
   "source": [
    "リストを引数で関数に渡す場合，pythonでは便利な機能があります．引数をリストを展開して渡すことが可能です．つまり，リスト一つだけを引数にして，引数を少なくすることができます．これを**unpacking**と言います．その際，引数の数とリストの大きさが同じでなくてはなりません．'\\*'を引数につけて関数に渡します．まずは例を示します．"
   ]
  },
  {
   "cell_type": "code",
   "execution_count": 10,
   "metadata": {},
   "outputs": [],
   "source": [
    "def func2(a, b, c):\n",
    "    return a+b+c"
   ]
  },
  {
   "cell_type": "code",
   "execution_count": 11,
   "metadata": {},
   "outputs": [
    {
     "name": "stdout",
     "output_type": "stream",
     "text": [
      "6\n",
      "6\n"
     ]
    }
   ],
   "source": [
    "# func2のa, b, cを渡すことこを想定して，下記のリストを作成．\n",
    "vals = [1, 2, 3]\n",
    "\n",
    "# 普通の使い方だと下記のように使用すると思うが．．．\n",
    "print(func2(vals[0], vals[1], vals[2]))\n",
    "\n",
    "# '*'を使用すると，unpackingが動作し，vals[0] --> a, vals[1] --> b, vals[2] ---> cという引数展開が行われる．\n",
    "print(func2(*vals))"
   ]
  },
  {
   "cell_type": "markdown",
   "metadata": {},
   "source": [
    "## dictionaryで引数を渡す(unpacking)"
   ]
  },
  {
   "cell_type": "markdown",
   "metadata": {},
   "source": [
    "ディクショナリでも同様の機能があります．dictionaryでは，関数宣言された引数名をkey，valueに実際に引き渡す値を設定すると, unpacking機能を使用することができます．この際，関数の引数に\"\\*\\*\"を追加して，引数に渡します．上記で作成した関数を例に取り，unpackingの例を示します．"
   ]
  },
  {
   "cell_type": "code",
   "execution_count": 12,
   "metadata": {},
   "outputs": [
    {
     "name": "stdout",
     "output_type": "stream",
     "text": [
      "6\n",
      "6\n"
     ]
    }
   ],
   "source": [
    "# 引数で渡すdictionary．keyが関数の引数名，valueが実際に引き渡す値．\n",
    "dic = {'a':1, 'b':2, 'c':3}\n",
    "\n",
    "# 通常の渡し方だと，下記のように使用するが．．．\n",
    "print(func2(dic['a'], dic['b'], dic['c']))\n",
    "\n",
    "# unpackingを使用すると，**dicとしてするだけ，a=dic['a'], b=dic['b'], c=dic['c']と引数が展開される．\n",
    "# dictionaryの時は'**'を前につける．\n",
    "print(func2(**dic))"
   ]
  },
  {
   "cell_type": "markdown",
   "metadata": {},
   "source": [
    "## 引数の抽象化"
   ]
  },
  {
   "cell_type": "markdown",
   "metadata": {},
   "source": [
    "関数宣言でunpackingしたリスト，あるいはディクショナリを使用して関数を作成することができます．下記に例を示します．\n",
    "まずはlistのunpakingを引数にとった関数宣言の例です．この機能を使うと任意の数の引数を渡すことができ，関数を抽象化することが可能です．主にoption機能を後から作成したいが，interfaceを変えたくない時に重宝します．"
   ]
  },
  {
   "cell_type": "code",
   "execution_count": 16,
   "metadata": {},
   "outputs": [],
   "source": [
    "# 任意の大きさのリストを引数をとった例\n",
    "def func3(*args):\n",
    "    return args[0] + args[1]"
   ]
  },
  {
   "cell_type": "code",
   "execution_count": 17,
   "metadata": {},
   "outputs": [
    {
     "name": "stdout",
     "output_type": "stream",
     "text": [
      "3\n",
      "3\n"
     ]
    }
   ],
   "source": [
    "vals = [1, 2, 3]\n",
    "\n",
    "# 引数の数は任意．引数の１および2番目の和が返される\n",
    "print(func3(vals[0], vals[1], vals[2], vals[1]))\n",
    "\n",
    "# unpackingした例．引数の１および2番目の和が返される\n",
    "print(func3(*vals))"
   ]
  },
  {
   "cell_type": "code",
   "execution_count": 18,
   "metadata": {},
   "outputs": [],
   "source": [
    "# dictionaryのunpakingを引数に使用した例\n",
    "\n",
    "def func4(**kwargs):\n",
    "    return kwargs['a'] + kwargs['b']"
   ]
  },
  {
   "cell_type": "code",
   "execution_count": 19,
   "metadata": {},
   "outputs": [
    {
     "name": "stdout",
     "output_type": "stream",
     "text": [
      "3\n",
      "3\n"
     ]
    }
   ],
   "source": [
    "# 引数の作成\n",
    "dic = {'a':1, 'b':2, 'c':3}\n",
    "\n",
    "# こんな感じで引数渡しできる．実際に使用されるのは，keyが'a', 'b'の値でこれの和を返す．\n",
    "# いくつの引数も渡すことができる\n",
    "print(func4(a=dic['a'], b=dic['b'], c=dic['c']))\n",
    "\n",
    "# unpackingで渡す例．\n",
    "print(func4(**dic))"
   ]
  },
  {
   "cell_type": "code",
   "execution_count": 21,
   "metadata": {},
   "outputs": [],
   "source": [
    "# unpackingのリストおよびディクショナリ，どちらも使用した場合\n",
    "def func5(*args, **kwargs):\n",
    "    return args[0] + args[1] + kwargs['a'] + kwargs['b']"
   ]
  },
  {
   "cell_type": "code",
   "execution_count": 22,
   "metadata": {},
   "outputs": [
    {
     "name": "stdout",
     "output_type": "stream",
     "text": [
      "6\n",
      "6\n"
     ]
    }
   ],
   "source": [
    "#　引数設定\n",
    "vals = [1, 2, 3]\n",
    "dic = {'a':1, 'b':2, 'c':3}\n",
    "\n",
    "# わかりやすい使用イメージ\n",
    "print(func5(vals[0], vals[1], vals[2], a=dic['a'], b=dic['b'], c=dic['c']))\n",
    "\n",
    "# unpackingで使用する方法\n",
    "print(func5(*vals, **dic))"
   ]
  },
  {
   "cell_type": "markdown",
   "metadata": {},
   "source": [
    "## 再帰関数\n"
   ]
  },
  {
   "cell_type": "code",
   "execution_count": 58,
   "metadata": {},
   "outputs": [],
   "source": [
    "from glob import glob\n",
    "import os\n",
    "\n",
    "def get_files(root_dir):\n",
    "    \n",
    "    files = []\n",
    "    target = os.path.join(root_dir, '*')\n",
    "    for f in glob(target):\n",
    "        \n",
    "        if os.path.isfile(f):\n",
    "            file_path = os.path.join(root_path, f)\n",
    "            files.append(file_path)\n",
    "            \n",
    "        elif os.path.isdir(f):\n",
    "            dir_path = os.path.join(root_path, f)\n",
    "            files.extend(get_files(dir_path))\n",
    "            \n",
    "    return files\n"
   ]
  },
  {
   "cell_type": "code",
   "execution_count": 59,
   "metadata": {},
   "outputs": [
    {
     "name": "stdout",
     "output_type": "stream",
     "text": [
      "C:\\Users\\ueoka\\Desktop\\python3-tutorial\\assignment01.ipynb\n",
      "C:\\Users\\ueoka\\Desktop\\python3-tutorial\\assignment01_solution.ipynb\n",
      "C:\\Users\\ueoka\\Desktop\\python3-tutorial\\assignment02.ipynb\n",
      "C:\\Users\\ueoka\\Desktop\\python3-tutorial\\img_src\\python3_tutorial.jpg\n",
      "C:\\Users\\ueoka\\Desktop\\python3-tutorial\\img_src\\python_install.png\n",
      "C:\\Users\\ueoka\\Desktop\\python3-tutorial\\python_lecture01.ipynb\n",
      "C:\\Users\\ueoka\\Desktop\\python3-tutorial\\python_lecture02.ipynb\n",
      "C:\\Users\\ueoka\\Desktop\\python3-tutorial\\python_lecture03.ipynb\n",
      "C:\\Users\\ueoka\\Desktop\\python3-tutorial\\python_lecture04.ipynb\n",
      "C:\\Users\\ueoka\\Desktop\\python3-tutorial\\python_lecture05.ipynb\n",
      "C:\\Users\\ueoka\\Desktop\\python3-tutorial\\python_lecture06.ipynb\n",
      "C:\\Users\\ueoka\\Desktop\\python3-tutorial\\python_lecture07.ipynb\n",
      "C:\\Users\\ueoka\\Desktop\\python3-tutorial\\python_lecture08.ipynb\n",
      "C:\\Users\\ueoka\\Desktop\\python3-tutorial\\python_lecture09.ipynb\n",
      "C:\\Users\\ueoka\\Desktop\\python3-tutorial\\README.md\n",
      "C:\\Users\\ueoka\\Desktop\\python3-tutorial\\test.txt\n",
      "C:\\Users\\ueoka\\Desktop\\python3-tutorial\\test_pickle.bin\n",
      "C:\\Users\\ueoka\\Desktop\\python3-tutorial\\test_read_write.txt\n",
      "C:\\Users\\ueoka\\Desktop\\python3-tutorial\\test_write.bin\n",
      "C:\\Users\\ueoka\\Desktop\\python3-tutorial\\test_write.txt\n",
      "C:\\Users\\ueoka\\Desktop\\python3-tutorial\\test_write_read.txt\n"
     ]
    }
   ],
   "source": [
    "import os\n",
    "for f in get_files(os.getcwd()):\n",
    "    print(f)"
   ]
  },
  {
   "cell_type": "code",
   "execution_count": 50,
   "metadata": {},
   "outputs": [],
   "source": [
    "def get_det(a):\n",
    "    \n",
    "    n = len(a)\n",
    "    \n",
    "    for i in range(n):\n",
    "        msg = \"determinat error : array size is not squre size! ---> ({},{})!\".format(n, len(a[i]))\n",
    "        assert len(a) == len(a[i]), msg\n",
    "    \n",
    "    if (len(a) == len(a[0])) and (len(a) == 2):\n",
    "        return a[0][0]*a[1][1] - a[0][1]*a[1][0]\n",
    "    \n",
    "    value = 0\n",
    "    n = len(a)\n",
    "    for j in range(n):\n",
    "        value += (-1)**(0+j)*a[0][j]*get_det(make_sub_array(a, 0, j))\n",
    "        \n",
    "    return value\n",
    "    \n",
    "def make_sub_array(array, i_index, j_index): \n",
    "    \n",
    "    n = len(array)\n",
    "    assert i_index < n, 'make_sub_array error : i index is greater than array size!'\n",
    "    assert j_index < n, 'make_sub_array error : i index is greater than array size!'\n",
    "    \n",
    "    sub_array = []\n",
    "    for i in range(n):\n",
    "        \n",
    "        if i == i_index:\n",
    "            continue\n",
    "            \n",
    "        row = [array[i][j] for j in range(n) if j != j_index]\n",
    "            \n",
    "        sub_array.append(row)\n",
    "        \n",
    "    return sub_array  "
   ]
  },
  {
   "cell_type": "code",
   "execution_count": 51,
   "metadata": {},
   "outputs": [
    {
     "name": "stdout",
     "output_type": "stream",
     "text": [
      "-7\n"
     ]
    }
   ],
   "source": [
    "array = [[3,4,-1],[2,5,-2],[1,6,-4]]\n",
    "value = determinant(array)\n",
    "print(value)"
   ]
  },
  {
   "cell_type": "markdown",
   "metadata": {},
   "source": [
    "## ラムダ関数"
   ]
  },
  {
   "cell_type": "code",
   "execution_count": 60,
   "metadata": {},
   "outputs": [],
   "source": [
    "def square(num):\n",
    "    result = num**2\n",
    "    return result"
   ]
  },
  {
   "cell_type": "code",
   "execution_count": 61,
   "metadata": {},
   "outputs": [],
   "source": [
    "def square(num):\n",
    "    return num**2"
   ]
  },
  {
   "cell_type": "code",
   "execution_count": 62,
   "metadata": {},
   "outputs": [
    {
     "data": {
      "text/plain": [
       "4"
      ]
     },
     "execution_count": 62,
     "metadata": {},
     "output_type": "execute_result"
    }
   ],
   "source": [
    "square(2)"
   ]
  },
  {
   "cell_type": "code",
   "execution_count": 63,
   "metadata": {},
   "outputs": [
    {
     "data": {
      "text/plain": [
       "<function __main__.<lambda>>"
      ]
     },
     "execution_count": 63,
     "metadata": {},
     "output_type": "execute_result"
    }
   ],
   "source": [
    "lambda num: num**2"
   ]
  },
  {
   "cell_type": "code",
   "execution_count": 64,
   "metadata": {},
   "outputs": [],
   "source": [
    "square = lambda num: num**2"
   ]
  },
  {
   "cell_type": "code",
   "execution_count": 65,
   "metadata": {},
   "outputs": [
    {
     "data": {
      "text/plain": [
       "4"
      ]
     },
     "execution_count": 65,
     "metadata": {},
     "output_type": "execute_result"
    }
   ],
   "source": [
    "square(2)"
   ]
  },
  {
   "cell_type": "code",
   "execution_count": 67,
   "metadata": {},
   "outputs": [],
   "source": [
    "even = lambda x: x%2==0"
   ]
  },
  {
   "cell_type": "code",
   "execution_count": 68,
   "metadata": {},
   "outputs": [],
   "source": [
    "rev = lambda s: s[::-1]"
   ]
  },
  {
   "cell_type": "code",
   "execution_count": 69,
   "metadata": {},
   "outputs": [],
   "source": [
    "adder = lambda x,y : x+y"
   ]
  },
  {
   "cell_type": "markdown",
   "metadata": {},
   "source": [
    "## 関数のスコープについて"
   ]
  },
  {
   "cell_type": "code",
   "execution_count": 70,
   "metadata": {},
   "outputs": [
    {
     "name": "stdout",
     "output_type": "stream",
     "text": [
      "25\n",
      "50\n"
     ]
    }
   ],
   "source": [
    "x = 25\n",
    "\n",
    "def printer():\n",
    "    x = 50\n",
    "    return x\n",
    "\n",
    "print(x)\n",
    "print(printer())"
   ]
  },
  {
   "cell_type": "code",
   "execution_count": 71,
   "metadata": {},
   "outputs": [
    {
     "name": "stdout",
     "output_type": "stream",
     "text": [
      "Hello Sammy\n"
     ]
    }
   ],
   "source": [
    "name = 'This is a global name'\n",
    "\n",
    "def greet():\n",
    "    # 関数内の関数\n",
    "    name = 'Sammy'\n",
    "    \n",
    "    def hello():\n",
    "        print('Hello '+name)\n",
    "    \n",
    "    hello()\n",
    "\n",
    "greet()"
   ]
  },
  {
   "cell_type": "markdown",
   "metadata": {},
   "source": [
    "x = 50\n",
    "\n",
    "def func(x):\n",
    "    print('x is', x)\n",
    "    x = 2\n",
    "    print('Changed local x to', x)\n",
    "\n",
    "func(x)\n",
    "print('x is still', x)"
   ]
  },
  {
   "cell_type": "code",
   "execution_count": null,
   "metadata": {},
   "outputs": [],
   "source": []
  }
 ],
 "metadata": {
  "kernelspec": {
   "display_name": "Python 3",
   "language": "python",
   "name": "python3"
  },
  "language_info": {
   "codemirror_mode": {
    "name": "ipython",
    "version": 3
   },
   "file_extension": ".py",
   "mimetype": "text/x-python",
   "name": "python",
   "nbconvert_exporter": "python",
   "pygments_lexer": "ipython3",
   "version": "3.6.3"
  },
  "toc": {
   "nav_menu": {},
   "number_sections": true,
   "sideBar": true,
   "skip_h1_title": false,
   "toc_cell": false,
   "toc_position": {},
   "toc_section_display": "block",
   "toc_window_display": false
  }
 },
 "nbformat": 4,
 "nbformat_minor": 2
}

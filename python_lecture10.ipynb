{
 "cells": [
  {
   "cell_type": "markdown",
   "metadata": {
    "toc": true
   },
   "source": [
    "<h1>Table of Contents<span class=\"tocSkip\"></span></h1>\n",
    "<div class=\"toc\" style=\"margin-top: 1em;\"><ul class=\"toc-item\"><li><span><a href=\"#クラスについて\" data-toc-modified-id=\"クラスについて-1\"><span class=\"toc-item-num\">1&nbsp;&nbsp;</span>クラスについて</a></span><ul class=\"toc-item\"><li><span><a href=\"#pythonのオブジェクトはすべてclassで作成されている\" data-toc-modified-id=\"pythonのオブジェクトはすべてclassで作成されている-1.1\"><span class=\"toc-item-num\">1.1&nbsp;&nbsp;</span>pythonのオブジェクトはすべてclassで作成されている</a></span></li><li><span><a href=\"#classの宣言\" data-toc-modified-id=\"classの宣言-1.2\"><span class=\"toc-item-num\">1.2&nbsp;&nbsp;</span>classの宣言</a></span></li><li><span><a href=\"#クラスを初期化する\" data-toc-modified-id=\"クラスを初期化する-1.3\"><span class=\"toc-item-num\">1.3&nbsp;&nbsp;</span>クラスを初期化する</a></span></li><li><span><a href=\"#class-objectに変数を持たせる\" data-toc-modified-id=\"class-objectに変数を持たせる-1.4\"><span class=\"toc-item-num\">1.4&nbsp;&nbsp;</span>class objectに変数を持たせる</a></span></li><li><span><a href=\"#class-method内でclass-object変数にアクセスする\" data-toc-modified-id=\"class-method内でclass-object変数にアクセスする-1.5\"><span class=\"toc-item-num\">1.5&nbsp;&nbsp;</span>class method内でclass object変数にアクセスする</a></span></li><li><span><a href=\"#classを継承する\" data-toc-modified-id=\"classを継承する-1.6\"><span class=\"toc-item-num\">1.6&nbsp;&nbsp;</span>classを継承する</a></span></li><li><span><a href=\"#ほぼ同じ構造だが，動作の違うclassを整理する\" data-toc-modified-id=\"ほぼ同じ構造だが，動作の違うclassを整理する-1.7\"><span class=\"toc-item-num\">1.7&nbsp;&nbsp;</span>ほぼ同じ構造だが，動作の違うclassを整理する</a></span></li><li><span><a href=\"#Special-Method\" data-toc-modified-id=\"Special-Method-1.8\"><span class=\"toc-item-num\">1.8&nbsp;&nbsp;</span>Special Method</a></span><ul class=\"toc-item\"><li><span><a href=\"#比較演算子を使用した時に実行されるSpecial-Method\" data-toc-modified-id=\"比較演算子を使用した時に実行されるSpecial-Method-1.8.1\"><span class=\"toc-item-num\">1.8.1&nbsp;&nbsp;</span>比較演算子を使用した時に実行されるSpecial Method</a></span></li><li><span><a href=\"#Iteratorおよびgeratorについて\" data-toc-modified-id=\"Iteratorおよびgeratorについて-1.8.2\"><span class=\"toc-item-num\">1.8.2&nbsp;&nbsp;</span>Iteratorおよびgeratorについて</a></span></li><li><span><a href=\"#iteratorおよびindexでのアクセスを定義するSpecial-Method\" data-toc-modified-id=\"iteratorおよびindexでのアクセスを定義するSpecial-Method-1.8.3\"><span class=\"toc-item-num\">1.8.3&nbsp;&nbsp;</span>iteratorおよびindexでのアクセスを定義するSpecial Method</a></span></li></ul></li><li><span><a href=\"#classmethodとstaticmethod\" data-toc-modified-id=\"classmethodとstaticmethod-1.9\"><span class=\"toc-item-num\">1.9&nbsp;&nbsp;</span>classmethodとstaticmethod</a></span></li></ul></li></ul></div>"
   ]
  },
  {
   "cell_type": "markdown",
   "metadata": {},
   "source": [
    "# クラスについて\n",
    "\n",
    "## pythonのオブジェクトはすべてclassで作成されている\n",
    "\n",
    "pythonのオブジェクトはすべてclassにより作成されています．classとは，データの塊と関数をまとめたオブジェクトです．classを使用すると，プログラムが大きくなった際に関数名および変数名の衝突で悩まされることがなくなるので，大規模プログラムを作成する際には使用することは必須です．しかしながら，小さなプログラムでもclassでプログラムを作成した方が使い回しが効くので，基本，どんなプログラムでもclassを作成してプログラム作成を行ったほうがいいでしょう．\n",
    "\n",
    "まずは，本当にpythonオブジェクトがクラスで作成されているかをtype関数を使用して調べてみます．type関数の引数にオブジェクトを渡すとclass名を調べることができます．"
   ]
  },
  {
   "cell_type": "code",
   "execution_count": 26,
   "metadata": {},
   "outputs": [
    {
     "name": "stdout",
     "output_type": "stream",
     "text": [
      "<class 'int'>\n",
      "<class 'list'>\n",
      "<class 'tuple'>\n",
      "<class 'dict'>\n"
     ]
    }
   ],
   "source": [
    "print(type(1))\n",
    "print(type([]))\n",
    "print(type(()))\n",
    "print(type({}))"
   ]
  },
  {
   "cell_type": "markdown",
   "metadata": {},
   "source": [
    "## classの宣言\n",
    "\n",
    "では，実際にclassを作成してみます．下記のclassは何もしないclassになります．"
   ]
  },
  {
   "cell_type": "code",
   "execution_count": 27,
   "metadata": {},
   "outputs": [
    {
     "name": "stdout",
     "output_type": "stream",
     "text": [
      "<class '__main__.Sample'>\n"
     ]
    }
   ],
   "source": [
    "# 何もしないクラスを作成する\n",
    "class Sample:\n",
    "    pass\n",
    "\n",
    "# Instance of Sample\n",
    "x = Sample()\n",
    "\n",
    "print(type(x))"
   ]
  },
  {
   "cell_type": "markdown",
   "metadata": {},
   "source": [
    "classは下記のような書式にて宣言を行います．\n",
    "\n",
    "    class クラス名:\n",
    "        クラスの内容\n",
    "\n",
    "また，classは変数と同じで入れ物に過ぎないので，使用する際は，classオブジェクトを作成して使用します．例えば，下記のようにclassオブジェクトを作成します．\n",
    "\n",
    "    classオブジェクト = class名(初期化に必要な引数等)\n",
    "    \n",
    "上記の簡単な例ですと，x = Sample()というのがclassオブジェクトを作成する部分にあたります．"
   ]
  },
  {
   "cell_type": "markdown",
   "metadata": {},
   "source": [
    "## クラスを初期化する\n",
    "\n",
    "上記の例では，classに初期化すべき引数を渡していませんでした．一般的にはC++で言うところのconstructorにてクラスを初期化してclass instance（クラスを実体化した変数）を作成します．下記にその例を示します．"
   ]
  },
  {
   "cell_type": "code",
   "execution_count": 28,
   "metadata": {},
   "outputs": [],
   "source": [
    "class Dog:\n",
    "    \n",
    "    # constructor\n",
    "    def __init__(self, breed):\n",
    "        \n",
    "        # class variable\n",
    "        self.breed = breed\n"
   ]
  },
  {
   "cell_type": "markdown",
   "metadata": {},
   "source": [
    "classに\\_\\_init\\_\\_という関数でconstructorを宣言します．アンダースコアーで開始するmethodをSpecial methodといい，特殊な役割を持つものになります．今回，constructorとし\\_\\_init\\_\\_ methodを示していますが，その他にもSpecial methodは存在します．その他のものについては，必要に応じて紹介します．\n",
    "\n",
    "\\_\\_init\\_\\_ methodの第一引数にselfが渡されていますが，これはclass methodである際には，必ずselfを第一引数にします．つまり，class methodの宣言は下記のような書式で宣言します．\n",
    "\n",
    "    class xxx:\n",
    "    \n",
    "        def function(self, arg):\n",
    "            self.var1 = arg\n",
    "            ....\n",
    "        \n",
    "また，class変数はこの引数で渡されたselfにドット(.)で連結されたもので，クラス変数を宣言します．selfはc++で言うところのthisポインタであると考えると理解しやすいかと思います．\n",
    "\n",
    "では，実際にclass instanceを作成してみます．"
   ]
  },
  {
   "cell_type": "code",
   "execution_count": 29,
   "metadata": {},
   "outputs": [],
   "source": [
    "sam = Dog(breed='Lab')  \n",
    "frank = Dog(breed='Huskie')"
   ]
  },
  {
   "cell_type": "markdown",
   "metadata": {},
   "source": [
    "class変数は基本，publicなアクセス権限ですので，下記のように直接，class変数にアクセスできますが，管理上よくないです．"
   ]
  },
  {
   "cell_type": "code",
   "execution_count": 30,
   "metadata": {},
   "outputs": [
    {
     "name": "stdout",
     "output_type": "stream",
     "text": [
      "Lab\n",
      "Huskie\n"
     ]
    }
   ],
   "source": [
    "print(sam.breed)\n",
    "print(frank.breed)"
   ]
  },
  {
   "cell_type": "markdown",
   "metadata": {},
   "source": [
    "class変数をprivateなアクセス権限に設定する時は，self\\.\\_\\_(変数名)という形で実現できますが，\\_\\_をつけるのが煩わしいです．一応，下記のような感じのcodeになります．"
   ]
  },
  {
   "cell_type": "code",
   "execution_count": 31,
   "metadata": {},
   "outputs": [
    {
     "ename": "AttributeError",
     "evalue": "'Dog_private' object has no attribute 'breed'",
     "output_type": "error",
     "traceback": [
      "\u001b[1;31m---------------------------------------------------------------------------\u001b[0m",
      "\u001b[1;31mAttributeError\u001b[0m                            Traceback (most recent call last)",
      "\u001b[1;32m<ipython-input-31-c6695d0ee43d>\u001b[0m in \u001b[0;36m<module>\u001b[1;34m()\u001b[0m\n\u001b[0;32m     10\u001b[0m \u001b[1;33m\u001b[0m\u001b[0m\n\u001b[0;32m     11\u001b[0m \u001b[1;31m# エラーとなる\u001b[0m\u001b[1;33m\u001b[0m\u001b[1;33m\u001b[0m\u001b[0m\n\u001b[1;32m---> 12\u001b[1;33m \u001b[0mprint\u001b[0m\u001b[1;33m(\u001b[0m\u001b[0msam\u001b[0m\u001b[1;33m.\u001b[0m\u001b[0mbreed\u001b[0m\u001b[1;33m)\u001b[0m\u001b[1;33m\u001b[0m\u001b[0m\n\u001b[0m",
      "\u001b[1;31mAttributeError\u001b[0m: 'Dog_private' object has no attribute 'breed'"
     ]
    }
   ],
   "source": [
    "class Dog_private:\n",
    "    \n",
    "    # constructor\n",
    "    def __init__(self, breed):\n",
    "        \n",
    "        # class variable ---> private access\n",
    "        self.__breed = breed\n",
    "\n",
    "sam = Dog_private(breed='Lab')\n",
    "\n",
    "# エラーとなる\n",
    "print(sam.breed)"
   ]
  },
  {
   "cell_type": "markdown",
   "metadata": {},
   "source": [
    "おすすめとしては，基本，class変数には直接アクセスせず，必要となったときにその変数を取得する関数(getter)を宣言した方が良いでしょう．また，class変数の値を変更する必要があった時に，その値を変更する関数(setter)を作成したほうがよいでしょう．下記に例を示します．"
   ]
  },
  {
   "cell_type": "code",
   "execution_count": 32,
   "metadata": {},
   "outputs": [
    {
     "name": "stdout",
     "output_type": "stream",
     "text": [
      "A bad way to access breed : Lab\n",
      "A good way to access breed : Lab\n",
      "Changing breed : Akita\n"
     ]
    }
   ],
   "source": [
    "class Dog:\n",
    "    \n",
    "    # constructor\n",
    "    def __init__(self, breed):\n",
    "        \n",
    "        # class variable ---> public access\n",
    "        self.breed = breed\n",
    "        \n",
    "    # getter\n",
    "    def get_breed(self):\n",
    "        return self.breed\n",
    "\n",
    "    # setter\n",
    "    def change_breed(self, breed):\n",
    "        self.breed = breed\n",
    "    \n",
    "sam = Dog('Lab')\n",
    "\n",
    "# エラーとならないが，お行儀がよくないのでやらない\n",
    "print(\"A bad way to access breed : {}\".format(sam.breed))\n",
    "\n",
    "# breedの取得にはgetterを使用する\n",
    "print(\"A good way to access breed : {}\".format(sam.get_breed()))\n",
    "\n",
    "# breedの変更にはsetterを使用する\n",
    "sam.change_breed(\"Akita\")\n",
    "print(\"Changing breed : {}\".format(sam.get_breed()))"
   ]
  },
  {
   "cell_type": "markdown",
   "metadata": {},
   "source": [
    "## class objectに変数を持たせる\n",
    "\n",
    "上述の例では，class instanceにselfを利用してクラス変数を宣言しました．class objectで共通な変数を宣言することもできます．ただclass objectの変数に直接アクセスするのは，お行儀が悪いので，アクセスする関数を作成します．@classmethodをmethodの上部に宣言し，引数でclsを渡すことでclass objectにアクセスできます．これを利用してクラスオブジェクト変数にアクセスする関数を作成します．"
   ]
  },
  {
   "cell_type": "code",
   "execution_count": 33,
   "metadata": {},
   "outputs": [],
   "source": [
    "class Dog:\n",
    "    \n",
    "    # class objectに変数を持たせる\n",
    "    species = 'mammal'\n",
    "    \n",
    "    def __init__(self, breed, name):\n",
    "        self.breed = breed\n",
    "        self.name = name\n",
    "        \n",
    "    @classmethod\n",
    "    def get_species(cls):\n",
    "        return cls.species"
   ]
  },
  {
   "cell_type": "markdown",
   "metadata": {},
   "source": [
    "上記の例では，実体化したclass instanceに変数を持たせるではなく，class objectに変数を持たせる例になります．上記の例では，class objcet自体に変数を保持しているので，\\_\\_init\\_\\_ methodでclass instanceを作成してもしなくても，class objectの値は存在します．下記の例で確かめてみます．"
   ]
  },
  {
   "cell_type": "code",
   "execution_count": 34,
   "metadata": {},
   "outputs": [
    {
     "name": "stdout",
     "output_type": "stream",
     "text": [
      "== before declaretion of constructor\n",
      "class object variable   : mammal\n",
      "\n",
      "== after declaretion of constructor\n",
      "class object variable   : mammal\n",
      "class instance variable : mammal\n"
     ]
    }
   ],
   "source": [
    "print(\"== before declaretion of constructor\")\n",
    "print(\"class object variable   : {}\".format(Dog.get_species()))\n",
    "\n",
    "print(\"\")\n",
    "print(\"== after declaretion of constructor\")\n",
    "\n",
    "\n",
    "\n",
    "sam = Dog('Lab','Sam')\n",
    "print(\"class object variable   : {}\".format(Dog.get_species()))\n",
    "\n",
    "# class instanceも同じclass object変数を持つ\n",
    "print(\"class instance variable : {}\".format(sam.get_species()))"
   ]
  },
  {
   "cell_type": "markdown",
   "metadata": {},
   "source": [
    "## class method内でclass object変数にアクセスする\n",
    "\n",
    "class objectに変数を持たせる場合は，そのクラス共通で使用する値などに利用します．例えば，Circleクラスを作成してみます．円の計算には円周率が必要ですので，円周率をclass objecの変数として格納します．以下にその例を示します．"
   ]
  },
  {
   "cell_type": "code",
   "execution_count": 7,
   "metadata": {},
   "outputs": [],
   "source": [
    "class Circle:\n",
    "    \n",
    "    # これにどうのようにアクセスするかがポイント\n",
    "    pi = 3.14\n",
    "\n",
    "    # 半径を引数に円を定義するコンストラクタ．半径のデフォルト値を1に設定．\n",
    "    def __init__(self, r=1):\n",
    "        self.r = r \n",
    "        \n",
    "        # class名でアクセスする\n",
    "        self.area = r * r * Circle.pi\n",
    "\n",
    "    # 半径を取得する関数\n",
    "    def get_radius(self):\n",
    "        return self.r\n",
    "    \n",
    "    # 面積を取得する関数\n",
    "    def get_area(self):\n",
    "        return self.area\n",
    "    \n",
    "    # 半径を設定する\n",
    "    def set_radius(self, r):\n",
    "        self.r = r\n",
    "        \n",
    "        # selfでアクセスする\n",
    "        self.area = r * r * self.pi\n",
    "\n",
    "    # 周囲長を取得する関数\n",
    "    def get_circumference(self):\n",
    "        return 2 * self.r * self.pi"
   ]
  },
  {
   "cell_type": "code",
   "execution_count": 36,
   "metadata": {},
   "outputs": [
    {
     "name": "stdout",
     "output_type": "stream",
     "text": [
      "Radius is:  1\n",
      "Area is:  3.14\n",
      "Circumference is:  6.28\n",
      "\n"
     ]
    }
   ],
   "source": [
    "c = Circle()\n",
    "\n",
    "print('Radius is: ', c.get_radius())\n",
    "print('Area is: ', c.get_area())\n",
    "print('Circumference is: ',c.get_circumference())\n",
    "print('')"
   ]
  },
  {
   "cell_type": "code",
   "execution_count": 37,
   "metadata": {},
   "outputs": [
    {
     "name": "stdout",
     "output_type": "stream",
     "text": [
      "Changing radius = 2 from 1\n",
      "\n",
      "Radius is:  2\n",
      "Area is:  12.56\n",
      "Circumference is:  12.56\n"
     ]
    }
   ],
   "source": [
    "print('Changing radius = 2 from 1')\n",
    "print('')\n",
    "\n",
    "c.set_radius(2)\n",
    "print('Radius is: ', c.get_radius())\n",
    "print('Area is: ', c.get_area())\n",
    "print('Circumference is: ',c.get_circumference())"
   ]
  },
  {
   "cell_type": "markdown",
   "metadata": {},
   "source": [
    "## classを継承する\n",
    "\n",
    "pythonはオブジェクト指向の機能を持ちますので，作成したクラスを継承する機能があります．ありふれた例になりますが，Animalクラスを作成して，これをDogクラスに継承させる例を示します．"
   ]
  },
  {
   "cell_type": "code",
   "execution_count": 38,
   "metadata": {},
   "outputs": [],
   "source": [
    "class Animal:\n",
    "    def __init__(self):\n",
    "        print(\"Animal created\")\n",
    "\n",
    "    def who_am_I(self):\n",
    "        print(\"Animal\")\n",
    "\n",
    "    def eat(self):\n",
    "        print(\"Eating\")\n",
    "\n",
    "# 継承するクラスをカッコ内に宣言\n",
    "class Dog(Animal):\n",
    "    \n",
    "    def __init__(self):\n",
    "        # super().__init__で継承した親クラス（Animal)のコンストラクタを実行\n",
    "        super().__init__()\n",
    "        print(\"Dog created\")\n",
    "\n",
    "    # who_am_I methodを上書き\n",
    "    def who_am_I(self):\n",
    "        print(\"Dog\")\n",
    "\n",
    "    # bark methodを追加\n",
    "    def bark(self):\n",
    "        print(\"Woof!\")"
   ]
  },
  {
   "cell_type": "code",
   "execution_count": 39,
   "metadata": {},
   "outputs": [
    {
     "name": "stdout",
     "output_type": "stream",
     "text": [
      "=== Animal behavior ===\n",
      "Animal created\n",
      "Animal\n",
      "Eating\n"
     ]
    }
   ],
   "source": [
    "print(\"=== Animal behavior ===\")\n",
    "animal = Animal()\n",
    "animal.who_am_I()\n",
    "animal.eat()\n"
   ]
  },
  {
   "cell_type": "code",
   "execution_count": 40,
   "metadata": {},
   "outputs": [
    {
     "name": "stdout",
     "output_type": "stream",
     "text": [
      "=== Dog behavior ===\n",
      "Animal created\n",
      "Dog created\n",
      "Dog\n",
      "Eating\n",
      "Woof!\n"
     ]
    }
   ],
   "source": [
    "print(\"=== Dog behavior ===\")\n",
    "d = Dog()\n",
    "d.who_am_I()\n",
    "d.eat()\n",
    "d.bark()"
   ]
  },
  {
   "cell_type": "markdown",
   "metadata": {},
   "source": [
    "## ほぼ同じ構造だが，動作の違うclassを整理する\n",
    "\n",
    "猫と犬は似ているが，泣き方が違います．これをclassで表現してみます．"
   ]
  },
  {
   "cell_type": "code",
   "execution_count": 41,
   "metadata": {},
   "outputs": [],
   "source": [
    "class Dog:\n",
    "    def __init__(self, name):\n",
    "        self.name = name\n",
    "\n",
    "    def speak(self):\n",
    "        return '{name} says Woof!'.format(name=self.name)\n",
    "    \n",
    "class Cat:\n",
    "    def __init__(self, name):\n",
    "        self.name = name\n",
    "\n",
    "    def speak(self):\n",
    "        return '{name} says Meow!'.format(name=self.name) "
   ]
  },
  {
   "cell_type": "markdown",
   "metadata": {},
   "source": [
    "上記のクラスを使用してみます．"
   ]
  },
  {
   "cell_type": "code",
   "execution_count": 42,
   "metadata": {},
   "outputs": [
    {
     "name": "stdout",
     "output_type": "stream",
     "text": [
      "Niko says Woof!\n",
      "Felix says Meow!\n"
     ]
    }
   ],
   "source": [
    "niko = Dog('Niko') # niko != Niko\n",
    "felix = Cat('Felix')\n",
    "\n",
    "print(niko.speak())\n",
    "print(felix.speak())"
   ]
  },
  {
   "cell_type": "markdown",
   "metadata": {},
   "source": [
    "CatおよびDogクラスはspeakメソッドをどちらも持つので，下記のようにリストでまとめて動作させることが可能です．"
   ]
  },
  {
   "cell_type": "code",
   "execution_count": 43,
   "metadata": {},
   "outputs": [
    {
     "name": "stdout",
     "output_type": "stream",
     "text": [
      "Niko says Woof!\n",
      "Felix says Meow!\n"
     ]
    }
   ],
   "source": [
    "for pet in [niko,felix]:\n",
    "    print(pet.speak())"
   ]
  },
  {
   "cell_type": "markdown",
   "metadata": {},
   "source": [
    "またクラスインスタンスを引数で渡して，関数で実行することも可能です．"
   ]
  },
  {
   "cell_type": "code",
   "execution_count": 44,
   "metadata": {},
   "outputs": [
    {
     "name": "stdout",
     "output_type": "stream",
     "text": [
      "Niko says Woof!\n",
      "Felix says Meow!\n"
     ]
    }
   ],
   "source": [
    "def pet_speak(pet):\n",
    "    print(pet.speak())\n",
    "\n",
    "pet_speak(niko)\n",
    "pet_speak(felix)"
   ]
  },
  {
   "cell_type": "markdown",
   "metadata": {},
   "source": [
    "このような似た構造のクラスを作成する時，データの構造およびmethodを親クラスで作成し，継承することで重複したコードを作成せずに済みます．テンプレートとなる抽象クラスを親クラスで宣言し，具体的なクラスでその実装を行う方法になります．下記に例を示します．"
   ]
  },
  {
   "cell_type": "code",
   "execution_count": 45,
   "metadata": {},
   "outputs": [],
   "source": [
    "class Animal:\n",
    "    \n",
    "    # コンストラクタ\n",
    "    def __init__(self, name):    \n",
    "        self.name = name\n",
    "\n",
    "    # 仮想関数にあたる\n",
    "    def speak(self):              \n",
    "        raise NotImplementedError(\"Subclass must implement abstract method\")\n",
    "\n",
    "\n",
    "class Dog(Animal):\n",
    "    \n",
    "    def speak(self):\n",
    "        return '{name} says Woof!'.format(name=self.name)\n",
    "    \n",
    "class Cat(Animal):\n",
    "\n",
    "    def speak(self):\n",
    "        return '{name} says Meow!'.format(name=self.name) "
   ]
  },
  {
   "cell_type": "markdown",
   "metadata": {},
   "source": [
    "上述した例とほぼ同じですが，実際に動作させてみます．"
   ]
  },
  {
   "cell_type": "code",
   "execution_count": 46,
   "metadata": {},
   "outputs": [
    {
     "name": "stdout",
     "output_type": "stream",
     "text": [
      "Fido says Woof!\n",
      "Isis says Meow!\n"
     ]
    }
   ],
   "source": [
    "fido = Dog('Fido')\n",
    "isis = Cat('Isis')\n",
    "\n",
    "print(fido.speak())\n",
    "print(isis.speak())"
   ]
  },
  {
   "cell_type": "markdown",
   "metadata": {},
   "source": [
    "上述した例は小さな規模のクラスになりますが，大規模クラスになりますと，抽象クラスを使用する意義は重複したコードを書かずに済むので，大きなメリットになります．"
   ]
  },
  {
   "cell_type": "markdown",
   "metadata": {},
   "source": [
    "## Special Method\n",
    "\n",
    "\\_\\_init\\_\\_ではないSpeciatl Methodを紹介します．3つのSpecial methodをまず紹介します．\\_\\_str\\_\\_(\\_\\_repr\\_\\_もほぼ同じ）はクラスインスタンスが渡された時に返す文字列を定義するmethod，\\_\\_len\\_\\_はlen()関数にクラスインスタンスが渡された時に実行されるmethod，\\_\\_del\\_\\_はクラスインスタンスが破棄される時に実行されるmethodになります．まずはclassの作成例を下記に紹介します．"
   ]
  },
  {
   "cell_type": "code",
   "execution_count": 47,
   "metadata": {},
   "outputs": [],
   "source": [
    "class Book:\n",
    "    \n",
    "    # constructor \n",
    "    def __init__(self, title, author, pages):\n",
    "        print(\"A book is created\")\n",
    "        \n",
    "        self.value = {}\n",
    "        \n",
    "        self.value['title'] = title\n",
    "        self.value['author'] = author\n",
    "        self.value['pages'] = pages\n",
    "\n",
    "    # インスタンスだけが式で用いられた時は，下記の文字列を返す\n",
    "    def __str__(self):\n",
    "        return \"Title: {title}, author: {author}, pages: {pages}\".format(**self.value)\n",
    "\n",
    "        \n",
    "    # len関数の引数に渡された時の動作を記述するmethod\n",
    "    def __len__(self):\n",
    "        return self.value['pages']\n",
    "\n",
    "    # デストラクタが始動したときの動作を記述するmethod\n",
    "    def __del__(self):\n",
    "        print(\"A book is destroyed\")\n",
    "        "
   ]
  },
  {
   "cell_type": "code",
   "execution_count": 48,
   "metadata": {},
   "outputs": [
    {
     "name": "stdout",
     "output_type": "stream",
     "text": [
      "A book is created\n",
      "Title: Python Rocks!, author: Jose Portilla, pages: 159\n",
      "159\n",
      "A book is destroyed\n"
     ]
    }
   ],
   "source": [
    "# 使用例\n",
    "book = Book(\"Python Rocks!\", \"Jose Portilla\", 159)\n",
    "\n",
    "# __str__が実行される\n",
    "print(book) # print(str(book))が実行されている\n",
    "\n",
    "# __len__が実行される\n",
    "print(len(book))\n",
    "\n",
    "# __del__が実行される\n",
    "del book"
   ]
  },
  {
   "cell_type": "markdown",
   "metadata": {},
   "source": [
    "### 比較演算子を使用した時に実行されるSpecial Method\n",
    "\n",
    "不等号，あるいは等号の作用をするSpecail Methodがあります．Circle2というclassを作成して，半径の大小比較等で利用することを考えましょう．下記がその実装の例になります．"
   ]
  },
  {
   "cell_type": "code",
   "execution_count": 2,
   "metadata": {},
   "outputs": [],
   "source": [
    "class Circle2:\n",
    "    \n",
    "    pi = 3.14\n",
    "\n",
    "    def __init__(self, r=1):\n",
    "        self.r = r \n",
    "        \n",
    "    # __str__と同じ\n",
    "    def __repr__(self):\n",
    "        return \"radius = {}\".format(self.r)\n",
    "\n",
    "     # 比較を定義するmethod\n",
    "    def __lt__(self, other):\n",
    "        return self.r < other.r\n",
    "    \n",
    "     # 比較を定義するmethod\n",
    "    def __le__(self, other):\n",
    "        return self.r <= other.r\n",
    "\n",
    "    # 比較を定義するmethod\n",
    "    def __gt__(self, other):\n",
    "        return self.r > other.r\n",
    "    \n",
    "    # 比較を定義するmethod\n",
    "    def __ge__(self, other):\n",
    "        return self.r >= other.r\n",
    "    \n",
    "    # 比較を定義するmethod\n",
    "    def __eq__(self, other):\n",
    "        return self.r == other.r\n",
    "    \n",
    "    # 比較を定義するmethod\n",
    "    def __ne__(self, other):\n",
    "        return not (self == other)"
   ]
  },
  {
   "cell_type": "code",
   "execution_count": 3,
   "metadata": {},
   "outputs": [
    {
     "name": "stdout",
     "output_type": "stream",
     "text": [
      "c1 --->  radius = 3\n",
      "c2 --->  radius = 4\n",
      "comparison of radius : \n",
      "c1 >  c2 ===>  False\n",
      "c1 >= c2 ===>  False\n",
      "c1 <  c2 ===>  True\n",
      "c1 <= c2 ===>  True\n",
      "c1 == c2 ===>  False\n",
      "c1 != c2 ===>  True\n"
     ]
    }
   ],
   "source": [
    "c1 = Circle2(3)\n",
    "c2 = Circle2(4)\n",
    "\n",
    "print(\"c1 ---> \", c1)\n",
    "print(\"c2 ---> \", c2)\n",
    "\n",
    "print(\"comparison of radius : \")\n",
    "print(\"c1 >  c2 ===> \",  c1 > c2)\n",
    "print(\"c1 >= c2 ===> \",  c1 >= c2)\n",
    "print(\"c1 <  c2 ===> \",  c1 < c2)\n",
    "print(\"c1 <= c2 ===> \",  c1 <= c2)\n",
    "print(\"c1 == c2 ===> \",  c1 == c2)\n",
    "print(\"c1 != c2 ===> \",  c1 != c2)"
   ]
  },
  {
   "cell_type": "markdown",
   "metadata": {},
   "source": [
    "### Iteratorおよびgeratorについて\n",
    "\n",
    "Iteratorとは反復して要素を取り出すオブジェクトのことで，例えば，リストをforループで反復させる際に変数を入れるオブジェクトのようなものです．いわゆるfor文で宣言する１要素分の変数オブジェクトと考えれば良いです．このIteratorの中に特殊なものが存在します．これがgeneratorになります．\n",
    "\n",
    "generatorは関数の戻り値でyieldを使用して返される反復要素です．yieldはreturn同様に関数の戻り値を返す機能を持つのですが，特徴として，次の反復開始まで関数の動作が停止します．まずは下記の例を見て，動作を確認してみてください．"
   ]
  },
  {
   "cell_type": "code",
   "execution_count": 4,
   "metadata": {},
   "outputs": [
    {
     "name": "stdout",
     "output_type": "stream",
     "text": [
      "1\n",
      "2\n",
      "3\n"
     ]
    },
    {
     "ename": "StopIteration",
     "evalue": "",
     "output_type": "error",
     "traceback": [
      "\u001b[1;31m---------------------------------------------------------------------------\u001b[0m",
      "\u001b[1;31mStopIteration\u001b[0m                             Traceback (most recent call last)",
      "\u001b[1;32m<ipython-input-4-918b344849af>\u001b[0m in \u001b[0;36m<module>\u001b[1;34m()\u001b[0m\n\u001b[0;32m     18\u001b[0m \u001b[1;33m\u001b[0m\u001b[0m\n\u001b[0;32m     19\u001b[0m \u001b[1;31m# もうget_iterator()yieldはないので，エラーとなる\u001b[0m\u001b[1;33m\u001b[0m\u001b[1;33m\u001b[0m\u001b[0m\n\u001b[1;32m---> 20\u001b[1;33m \u001b[0mprint\u001b[0m\u001b[1;33m(\u001b[0m\u001b[0mnext\u001b[0m\u001b[1;33m(\u001b[0m\u001b[0miter\u001b[0m\u001b[1;33m)\u001b[0m\u001b[1;33m)\u001b[0m\u001b[1;33m\u001b[0m\u001b[0m\n\u001b[0m",
      "\u001b[1;31mStopIteration\u001b[0m: "
     ]
    }
   ],
   "source": [
    "# generatorにて1, 2, 3の値を返す関数\n",
    "def get_generator():\n",
    "    yield 1\n",
    "    yield 2\n",
    "    yield 3\n",
    "\n",
    "# generatorから値を取得するには，まずiteratorオブジェクト，ここでは関数オブジェクトを取得する\n",
    "iter = get_generator()\n",
    "\n",
    "# __next__() methodにてyieldまで関数を実行\n",
    "print(next(iter))\n",
    "\n",
    "# __next__() methodにて次のyieldまで関数を実行\n",
    "print(next(iter))\n",
    "\n",
    "# __next__() methodにて次のyieldまで関数を実行\n",
    "print(next(iter))\n",
    "\n",
    "# もうget_iterator()yieldはないので，エラーとなる\n",
    "print(next(iter))"
   ]
  },
  {
   "cell_type": "markdown",
   "metadata": {},
   "source": [
    "また，上記のコードは実を言うと，下記のforループと同様です．ただし，forループでは反復エラーとなったら，ループを抜けるような仕組みになっています．"
   ]
  },
  {
   "cell_type": "code",
   "execution_count": 5,
   "metadata": {},
   "outputs": [
    {
     "name": "stdout",
     "output_type": "stream",
     "text": [
      "1\n",
      "2\n",
      "3\n"
     ]
    }
   ],
   "source": [
    "for iter in get_generator():\n",
    "    print(iter)"
   ]
  },
  {
   "cell_type": "markdown",
   "metadata": {},
   "source": [
    "上記の詳細なプロセスを実装すると下記のようになります．try文についてはまだ説明していませんが，StopIterationの例外が生じたら，ループを抜けるような仕組みでforループの巡回が行われています．"
   ]
  },
  {
   "cell_type": "code",
   "execution_count": 6,
   "metadata": {},
   "outputs": [
    {
     "name": "stdout",
     "output_type": "stream",
     "text": [
      "1\n",
      "2\n",
      "3\n"
     ]
    }
   ],
   "source": [
    "def get_generator():\n",
    "    yield 1\n",
    "    yield 2\n",
    "    yield 3\n",
    "\n",
    "iter = get_generator()\n",
    "while True:\n",
    "    try:\n",
    "        print(next(iter))\n",
    "    except StopIteration:\n",
    "        break"
   ]
  },
  {
   "cell_type": "markdown",
   "metadata": {},
   "source": [
    "generatorを使用できると何がメリットと思うでしょうか？一番のメリットは，大きなリストを取得する必要がなくなるので，メモリ確保領域が少なくなり，多くの場合でプログラムを高速化できることにあります．リスト返す関数を使用してループ処理する場合，generatorを返す関数を使用してループ処理をする場合のパフォーマンスを比較して，generatorを使用するメリットを確かめてみます．"
   ]
  },
  {
   "cell_type": "code",
   "execution_count": 64,
   "metadata": {},
   "outputs": [],
   "source": [
    "# listで数値を取得する関数\n",
    "def get_values(start, end):\n",
    "    return [value for value in range(start, end+1)]\n",
    "\n",
    "# yieldにてgeneratorを返す関数\n",
    "def get_values_generator(start, end):\n",
    "    for value in range(start, end+1):\n",
    "        yield value"
   ]
  },
  {
   "cell_type": "code",
   "execution_count": 71,
   "metadata": {},
   "outputs": [
    {
     "name": "stdout",
     "output_type": "stream",
     "text": [
      "=== get_values ===\n",
      "1000000\n",
      "2000000\n",
      "3000000\n",
      "4000000\n",
      "5000000\n",
      "6000000\n",
      "7000000\n",
      "8000000\n",
      "9000000\n",
      "10000000\n",
      "elapsed time = 3.917539358139038 sec\n",
      "=== get_values_generator ===\n",
      "1000000\n",
      "2000000\n",
      "3000000\n",
      "4000000\n",
      "5000000\n",
      "6000000\n",
      "7000000\n",
      "8000000\n",
      "9000000\n",
      "10000000\n",
      "elapsed time = 3.779106855392456 sec\n"
     ]
    }
   ],
   "source": [
    "import time\n",
    "start_value = 1\n",
    "big_value = int(1e7)\n",
    "\n",
    "print(\"=== get_values ===\")\n",
    "t_start = time.time()\n",
    "\n",
    "for value in get_values(start_value, big_value):\n",
    "    if value % int(1e6) == 0:\n",
    "        print(value)\n",
    "        \n",
    "elapsed_time = time.time() - t_start\n",
    "\n",
    "print(\"elapsed time = {} sec\".format(elapsed_time))\n",
    "\n",
    "print(\"=== get_values_generator ===\")\n",
    "t_start = time.time()\n",
    "\n",
    "for value in get_values_generator(start_value, big_value):\n",
    "    if value % int(1e6) == 0:\n",
    "        print(value)\n",
    "        \n",
    "elapsed_time = time.time() - t_start\n",
    "\n",
    "print(\"elapsed time = {} sec\".format(elapsed_time))"
   ]
  },
  {
   "cell_type": "markdown",
   "metadata": {},
   "source": [
    "説明が長くなりましたが，classにてiteratorの動作を規定するのが，\\_\\_iter\\_\\_ methodになります．基本，forループで用いられた時に動作する内容を定義するので，値はyieldで返します．したがって，iteratorの動作というよりもgeneratorの動作を規定するmethoであることが多いです．"
   ]
  },
  {
   "cell_type": "markdown",
   "metadata": {},
   "source": [
    "### iteratorおよびindexでのアクセスを定義するSpecial Method\n",
    "\n",
    "その他のSpecial Methodの例として，iteratorの実装をする\\_\\_iter\\_\\_，indexでのアクセスを定義する\\_\\_getitem\\_\\_，和を定義する\\_\\_add\\_\\_，差を定義する\\_\\_sub\\_\\_を紹介します．下記の例は2次元のベクトルクラスを作成した例になります．まずはコメントを読み，プログラムを読んで動作内容を想像してください．"
   ]
  },
  {
   "cell_type": "code",
   "execution_count": 2,
   "metadata": {},
   "outputs": [],
   "source": [
    "class Vec2d(object):\n",
    "    def __init__(self, x, y):\n",
    "        self.x = x\n",
    "        self.y = y\n",
    "        \n",
    "    def __str__(self):\n",
    "        return \"(x, y) = ({},{})\".format(self.x, self.y)\n",
    "    \n",
    "    # []のindexアクセスを定義するmethod\n",
    "    def __getitem__(self, i):\n",
    "        if i == 0:\n",
    "            return self.x\n",
    "        elif i == 1:\n",
    "            return self.y\n",
    "        \n",
    "        return None\n",
    "    \n",
    "    # iteratorでの動作を定義するmethod\n",
    "    def __iter__(self):\n",
    "        for i in range(2):\n",
    "            yield self[i]\n",
    "\n",
    "    # 和を定義するmethod\n",
    "    def __add__(self, other):\n",
    "        x = self.x + other.x\n",
    "        y = self.y + other.y\n",
    "        return Vec2d(x, y)\n",
    "\n",
    "    # 差を定義するmethod\n",
    "    def __sub__(self, other):\n",
    "        x = self.x - other.x\n",
    "        y = self.y - other.y\n",
    "        return Vec2d(x, y)\n"
   ]
  },
  {
   "cell_type": "markdown",
   "metadata": {},
   "source": [
    "詳細な説明をするより動作例を見たほうが理解が速いでしょうから，下記の動作例でSpecail Methodの動作を確認してください．"
   ]
  },
  {
   "cell_type": "code",
   "execution_count": 11,
   "metadata": {},
   "outputs": [
    {
     "name": "stdout",
     "output_type": "stream",
     "text": [
      "(x, y) = (1,1), (x, y) = (-1,1)\n",
      "1 1\n",
      "1 1\n",
      "-1 -1\n",
      "1 1\n",
      "(x, y) = (0,2)\n",
      "(x, y) = (2,0)\n"
     ]
    }
   ],
   "source": [
    "v1 = Vec2d(1, 1)\n",
    "v2 = Vec2d(-1, 1)\n",
    "\n",
    "# __str__の動作確認\n",
    "print(\"{}, {}\".format(v1, v2))\n",
    "\n",
    "# __iter__と__getitem__の動作確認\n",
    "for i, v in enumerate(v1):\n",
    "    print(v, v1[i])　# vは__iter__で定義された値がyeildされる\n",
    "    \n",
    "# __iter__と__getitem__の動作確認    \n",
    "for i, v in enumerate(v2):\n",
    "    print(v, v2[i])　# vは__iter__で定義された値がyeildされる\n",
    "\n",
    "# __add__の動作確認\n",
    "v = v1 + v2\n",
    "print(v)\n",
    "\n",
    "# __sub__の動作確認\n",
    "v = v1 - v2\n",
    "print(v)"
   ]
  },
  {
   "cell_type": "markdown",
   "metadata": {},
   "source": [
    "## classmethodとstaticmethod\n",
    "\n",
    "一般的にclassはコンストラクタで定義された後，クラスインスタンスを使用して動作させるような使い方をするかと思います．そのような使い方しかできないと，実際に動作させるプログラムの実装を考える際，クラスの外に動作する関数，あるいはmain programが必要となってしまい，classを一つのパッケージとしてまとめることが難しくなります．\n",
    "\n",
    "上記の問題を解決するには，class内でclassオブジェクトを定義し，その動作を定義できるmethodを作成する機能が必要です．それを実現するのが，classmethodとstaticmethodの機能になります．methodの上部に@classmethod, @staticmethodと宣言を入れることで実現できます．ただし，\\@classmethodの方は第一引数にclass objectを意味するclsを引数として宣言します．\n",
    "\n",
    "まずは下記の例を見てみてください．半径のリストを引数で渡し，Circle2インスタンスを作成し，円の面積を計算して，面積のリストを返す例になります．上述の機能を利用することで，class内にオブジェクトを作成し，そのmethodを利用することでなんらかの動作を規定するmethodを作成することができます．\n"
   ]
  },
  {
   "cell_type": "code",
   "execution_count": 8,
   "metadata": {},
   "outputs": [],
   "source": [
    "class Circle2(Circle):\n",
    "    \n",
    "    @classmethod\n",
    "    def get_area_list(cls, r_list):\n",
    "        \n",
    "        area_list = []\n",
    "        for r in r_list:\n",
    "            circle = cls(r)\n",
    "            area_list.append(circle.get_area())\n",
    "            \n",
    "        return area_list\n",
    "    \n",
    "    @staticmethod\n",
    "    def get_area_list_static(r_list):\n",
    "        \n",
    "        area_list = []\n",
    "        for r in r_list:\n",
    "            circle = Circle2(r)\n",
    "            area_list.append(circle.get_area())\n",
    "            \n",
    "        return area_list    "
   ]
  },
  {
   "cell_type": "code",
   "execution_count": 9,
   "metadata": {},
   "outputs": [
    {
     "name": "stdout",
     "output_type": "stream",
     "text": [
      "[3.14, 12.56, 28.26, 50.24, 78.5, 113.04, 153.86, 200.96, 254.34]\n",
      "[3.14, 12.56, 28.26, 50.24, 78.5, 113.04, 153.86, 200.96, 254.34]\n"
     ]
    }
   ],
   "source": [
    "r_list = range(1, 10)\n",
    "\n",
    "print(Circle2.get_area_list(r_list))\n",
    "print(Circle2.get_area_list_static(r_list))"
   ]
  }
 ],
 "metadata": {
  "kernelspec": {
   "display_name": "Python 3",
   "language": "python",
   "name": "python3"
  },
  "language_info": {
   "codemirror_mode": {
    "name": "ipython",
    "version": 3
   },
   "file_extension": ".py",
   "mimetype": "text/x-python",
   "name": "python",
   "nbconvert_exporter": "python",
   "pygments_lexer": "ipython3",
   "version": "3.7.0"
  },
  "toc": {
   "nav_menu": {
    "height": "222px",
    "width": "365px"
   },
   "number_sections": true,
   "sideBar": true,
   "skip_h1_title": false,
   "toc_cell": true,
   "toc_position": {
    "height": "495px",
    "left": "0px",
    "right": "983.821px",
    "top": "111px",
    "width": "178px"
   },
   "toc_section_display": "none",
   "toc_window_display": false
  }
 },
 "nbformat": 4,
 "nbformat_minor": 2
}

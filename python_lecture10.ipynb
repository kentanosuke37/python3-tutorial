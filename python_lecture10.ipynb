{
 "cells": [
  {
   "cell_type": "markdown",
   "metadata": {},
   "source": [
    "# クラスについて\n",
    "\n",
    "## pythonのオブジェクトはすべてclassで作成されている\n",
    "\n",
    "pythonのオブジェクトはすべてclassにより作成されています．classとは，データの塊と関数をまとめたオブジェクトです．classを使用すると，プログラムが大きくなった際に関数名および変数名の衝突で悩まされることがなくなるので，大規模プログラムを作成する際には使用することは必須です．しかしながら，小さなプログラムでもclassでプログラムを作成した方が使い回しが効くので，基本，どんなプログラムでもclassを作成してプログラム作成を行ったほうがいいでしょう．\n",
    "\n",
    "まずは，本当にpythonオブジェクトがクラスで作成されているかをtype関数を使用して調べてみます．type関数の引数にオブジェクトを渡すとclass名を調べることができます．"
   ]
  },
  {
   "cell_type": "code",
   "execution_count": 2,
   "metadata": {},
   "outputs": [
    {
     "name": "stdout",
     "output_type": "stream",
     "text": [
      "<class 'int'>\n",
      "<class 'list'>\n",
      "<class 'tuple'>\n",
      "<class 'dict'>\n"
     ]
    }
   ],
   "source": [
    "print(type(1))\n",
    "print(type([]))\n",
    "print(type(()))\n",
    "print(type({}))"
   ]
  },
  {
   "cell_type": "markdown",
   "metadata": {},
   "source": [
    "## classの宣言\n",
    "\n",
    "では，実際にclassを作成してみます．下記のclassは何もしないclassになります．"
   ]
  },
  {
   "cell_type": "code",
   "execution_count": 3,
   "metadata": {},
   "outputs": [
    {
     "name": "stdout",
     "output_type": "stream",
     "text": [
      "<class '__main__.Sample'>\n"
     ]
    }
   ],
   "source": [
    "# 何もしないクラスを作成する\n",
    "class Sample:\n",
    "    pass\n",
    "\n",
    "# Instance of Sample\n",
    "x = Sample()\n",
    "\n",
    "print(type(x))"
   ]
  },
  {
   "cell_type": "markdown",
   "metadata": {},
   "source": [
    "classは下記のような書式にて宣言を行います．\n",
    "\n",
    "    class クラス名:\n",
    "        クラスの内容\n",
    "\n",
    "また，classは変数と同じで入れ物に過ぎないので，使用する際は，classオブジェクトを作成して使用します．例えば，下記のようにclassオブジェクトを作成します．\n",
    "\n",
    "    classオブジェクト = class名(初期化に必要な引数等)\n",
    "    \n",
    "上記の簡単な例ですと，x = Sample()というのがclassオブジェクトを作成する部分にあたります．"
   ]
  },
  {
   "cell_type": "markdown",
   "metadata": {},
   "source": [
    "## クラスを初期化する\n",
    "\n",
    "上記の例では，classに初期化すべき引数を渡していませんでした．一般的にはC++で言うところのconstructorにてクラスを初期化してclass instance（クラスを実体化した変数）を作成します．下記にその例を示します．"
   ]
  },
  {
   "cell_type": "code",
   "execution_count": 5,
   "metadata": {},
   "outputs": [],
   "source": [
    "class Dog:\n",
    "    \n",
    "    # constructor\n",
    "    def __init__(self, breed):\n",
    "        \n",
    "        # class variable\n",
    "        self.breed = breed\n"
   ]
  },
  {
   "cell_type": "markdown",
   "metadata": {},
   "source": [
    "classに\\_\\_init\\_\\_という関数でconstructorを宣言します．アンダースコアーで開始するmethodをSpecial methodといい，特殊な役割を持つものになります．今回，constructorとし\\_\\_init\\_\\_ methodを示していますが，その他にもSpecial methodは存在します．その他のものについては，必要に応じて紹介します．\n",
    "\n",
    "\\_\\_init\\_\\_ methodの第一引数にselfが渡されていますが，これはclass methodである際には，必ずselfを第一引数にします．つまり，class methodの宣言は下記のような書式で宣言します．\n",
    "\n",
    "    class xxx:\n",
    "    \n",
    "        def function(self, arg):\n",
    "            self.var1 = arg\n",
    "            ....\n",
    "        \n",
    "また，class変数はこの引数で渡されたselfにドット(.)で連結されたもので，クラス変数を宣言します．selfはc++で言うところのthisポインタであると考えると理解しやすいかと思います．\n",
    "\n",
    "では，実際にclass instanceを作成してみます．"
   ]
  },
  {
   "cell_type": "code",
   "execution_count": 6,
   "metadata": {},
   "outputs": [],
   "source": [
    "sam = Dog(breed='Lab')  \n",
    "frank = Dog(breed='Huskie')"
   ]
  },
  {
   "cell_type": "markdown",
   "metadata": {},
   "source": [
    "class変数は基本，publicなアクセス権限ですので，下記のように直接，class変数にアクセスできますが，管理上よくないです．"
   ]
  },
  {
   "cell_type": "code",
   "execution_count": 7,
   "metadata": {},
   "outputs": [
    {
     "name": "stdout",
     "output_type": "stream",
     "text": [
      "Lab\n",
      "Huskie\n"
     ]
    }
   ],
   "source": [
    "print(sam.breed)\n",
    "print(frank.breed)"
   ]
  },
  {
   "cell_type": "markdown",
   "metadata": {},
   "source": [
    "class変数をprivateなアクセス権限に設定する時は，self\\.\\_\\_(変数名)という形で実現できますが，\\_\\_をつけるのが煩わしいです．一応，下記のような感じのcodeになります．"
   ]
  },
  {
   "cell_type": "code",
   "execution_count": 8,
   "metadata": {},
   "outputs": [
    {
     "ename": "AttributeError",
     "evalue": "'Dog_private' object has no attribute 'breed'",
     "output_type": "error",
     "traceback": [
      "\u001b[1;31m---------------------------------------------------------------------------\u001b[0m",
      "\u001b[1;31mAttributeError\u001b[0m                            Traceback (most recent call last)",
      "\u001b[1;32m<ipython-input-8-0673e0a680ba>\u001b[0m in \u001b[0;36m<module>\u001b[1;34m()\u001b[0m\n\u001b[0;32m     14\u001b[0m \u001b[1;33m\u001b[0m\u001b[0m\n\u001b[0;32m     15\u001b[0m \u001b[1;31m# エラーとなる\u001b[0m\u001b[1;33m\u001b[0m\u001b[1;33m\u001b[0m\u001b[0m\n\u001b[1;32m---> 16\u001b[1;33m \u001b[0mprint\u001b[0m\u001b[1;33m(\u001b[0m\u001b[0msam\u001b[0m\u001b[1;33m.\u001b[0m\u001b[0mbreed\u001b[0m\u001b[1;33m)\u001b[0m\u001b[1;33m\u001b[0m\u001b[0m\n\u001b[0m",
      "\u001b[1;31mAttributeError\u001b[0m: 'Dog_private' object has no attribute 'breed'"
     ]
    }
   ],
   "source": [
    "class Dog_private:\n",
    "    \n",
    "    # constructor\n",
    "    def __init__(self, breed):\n",
    "        \n",
    "        # class variable ---> private access\n",
    "        self.__breed = breed\n",
    "\n",
    "sam = Dog_private(breed='Lab')\n",
    "\n",
    "# エラーとなる\n",
    "print(sam.breed)"
   ]
  },
  {
   "cell_type": "markdown",
   "metadata": {},
   "source": [
    "おすすめとしては，基本，class変数には直接アクセスせず，必要となったときにその変数を取得する関数(getter)を宣言した方が良いでしょう．また，class変数の値を変更する必要があった時に，その値を変更する関数(setter)を作成したほうがよいでしょう．下記に例を示します．"
   ]
  },
  {
   "cell_type": "code",
   "execution_count": 12,
   "metadata": {},
   "outputs": [
    {
     "name": "stdout",
     "output_type": "stream",
     "text": [
      "A bad way to access breed : Lab\n",
      "A good way to access breed : Lab\n",
      "Changing breed : Akita\n"
     ]
    }
   ],
   "source": [
    "class Dog:\n",
    "    \n",
    "    # constructor\n",
    "    def __init__(self, breed):\n",
    "        \n",
    "        # class variable ---> public access\n",
    "        self.breed = breed\n",
    "        \n",
    "    # getter\n",
    "    def get_breed(self):\n",
    "        return self.breed\n",
    "\n",
    "    # setter\n",
    "    def change_breed(self, breed):\n",
    "        self.breed = breed\n",
    "    \n",
    "sam = Dog('Lab')\n",
    "\n",
    "# エラーとならないが，お行儀がよくないのでやらない\n",
    "print(\"A bad way to access breed : {}\".format(sam.breed))\n",
    "\n",
    "# breedの取得にはgetterを使用する\n",
    "print(\"A good way to access breed : {}\".format(sam.get_breed()))\n",
    "\n",
    "# breedの変更にはsetterを使用する\n",
    "sam.change_breed(\"Akita\")\n",
    "print(\"Changing breed : {}\".format(sam.get_breed()))"
   ]
  },
  {
   "cell_type": "markdown",
   "metadata": {},
   "source": [
    "## class objectに変数を持たせる\n",
    "\n",
    "上述の例では，class instanceにselfを利用してクラス変数を宣言しました．class objectで共通な変数を宣言することもできます．ただclass objectの変数に直接アクセスするのは，お行儀が悪いので，アクセスする関数を作成します．@classmethodをmethodの上部に宣言し，引数でclsを渡すことでclass objectにアクセスできます．これを利用してクラスオブジェクト変数にアクセスする関数を作成します．"
   ]
  },
  {
   "cell_type": "code",
   "execution_count": 2,
   "metadata": {},
   "outputs": [],
   "source": [
    "class Dog:\n",
    "    \n",
    "    # class objectに変数を持たせる\n",
    "    species = 'mammal'\n",
    "    \n",
    "    def __init__(self, breed, name):\n",
    "        self.breed = breed\n",
    "        self.name = name\n",
    "        \n",
    "    @classmethod\n",
    "    def get_species(cls):\n",
    "        return cls.species"
   ]
  },
  {
   "cell_type": "markdown",
   "metadata": {},
   "source": [
    "上記の例では，実体化したclass instanceに変数を持たせるではなく，class objectに変数を持たせる例になります．上記の例では，class objcet自体に変数を保持しているので，\\_\\_init\\_\\_ methodでclass instanceを作成してもしなくても，class objectの値は存在します．下記の例で確かめてみます．"
   ]
  },
  {
   "cell_type": "code",
   "execution_count": 4,
   "metadata": {},
   "outputs": [
    {
     "name": "stdout",
     "output_type": "stream",
     "text": [
      "== before declaretion of constructor\n",
      "class object variable   : mammal\n",
      "\n",
      "== after declaretion of constructor\n",
      "class object variable   : mammal\n",
      "class instance variable : mammal\n"
     ]
    }
   ],
   "source": [
    "print(\"== before declaretion of constructor\")\n",
    "print(\"class object variable   : {}\".format(Dog.get_species()))\n",
    "\n",
    "print(\"\")\n",
    "print(\"== after declaretion of constructor\")\n",
    "\n",
    "\n",
    "\n",
    "sam = Dog('Lab','Sam')\n",
    "print(\"class object variable   : {}\".format(Dog.get_species()))\n",
    "\n",
    "# class instanceも同じclass object変数を持つ\n",
    "print(\"class instance variable : {}\".format(sam.get_species()))"
   ]
  },
  {
   "cell_type": "markdown",
   "metadata": {},
   "source": [
    "## class method内でclass object変数にアクセスする\n",
    "\n",
    "class objectに変数を持たせる場合は，そのクラス共通で使用する値などに利用します．例えば，Circleクラスを作成してみます．円の計算には円周率が必要ですので，円周率をclass objecの変数として格納します．以下にその例を示します．"
   ]
  },
  {
   "cell_type": "code",
   "execution_count": 6,
   "metadata": {},
   "outputs": [],
   "source": [
    "class Circle:\n",
    "    \n",
    "    # これにどうのようにアクセスするかがポイント\n",
    "    pi = 3.14\n",
    "\n",
    "    # 半径を引数に円を定義するコンストラクタ．半径のデフォルト値を1に設定．\n",
    "    def __init__(self, r=1):\n",
    "        self.r = r \n",
    "        \n",
    "        # class名でアクセスする\n",
    "        self.area = r * r * Circle.pi\n",
    "\n",
    "    # 半径を取得する関数\n",
    "    def get_radius(self):\n",
    "        return self.r\n",
    "    \n",
    "    # 面積を取得する関数\n",
    "    def get_area(self):\n",
    "        return self.area\n",
    "    \n",
    "    # 半径を設定する\n",
    "    def set_radius(self, r):\n",
    "        self.r = r\n",
    "        \n",
    "        # selfでアクセスする\n",
    "        self.area = r * r * self.pi\n",
    "\n",
    "    # 周囲長を取得する関数\n",
    "    def get_circumference(self):\n",
    "        return 2 * self.r * self.pi"
   ]
  },
  {
   "cell_type": "code",
   "execution_count": 14,
   "metadata": {},
   "outputs": [
    {
     "name": "stdout",
     "output_type": "stream",
     "text": [
      "Radius is:  1\n",
      "Area is:  3.14\n",
      "Circumference is:  6.28\n",
      "\n"
     ]
    }
   ],
   "source": [
    "c = Circle()\n",
    "\n",
    "print('Radius is: ', c.get_radius())\n",
    "print('Area is: ', c.get_area())\n",
    "print('Circumference is: ',c.get_circumference())\n",
    "print('')"
   ]
  },
  {
   "cell_type": "code",
   "execution_count": 15,
   "metadata": {},
   "outputs": [
    {
     "name": "stdout",
     "output_type": "stream",
     "text": [
      "Changing radius = 2 from 1\n",
      "\n",
      "Radius is:  2\n",
      "Area is:  12.56\n",
      "Circumference is:  12.56\n"
     ]
    }
   ],
   "source": [
    "print('Changing radius = 2 from 1')\n",
    "print('')\n",
    "\n",
    "c.set_radius(2)\n",
    "print('Radius is: ', c.get_radius())\n",
    "print('Area is: ', c.get_area())\n",
    "print('Circumference is: ',c.get_circumference())"
   ]
  },
  {
   "cell_type": "markdown",
   "metadata": {},
   "source": [
    "## classを継承する\n",
    "\n",
    "pythonはオブジェクト指向の機能を持ちますので，作成したクラスを継承する機能があります．ありふれた例になりますが，Animalクラスを作成して，これをDogクラスに継承させる例を示します．"
   ]
  },
  {
   "cell_type": "code",
   "execution_count": 11,
   "metadata": {},
   "outputs": [],
   "source": [
    "class Animal:\n",
    "    def __init__(self):\n",
    "        print(\"Animal created\")\n",
    "\n",
    "    def who_am_I(self):\n",
    "        print(\"Animal\")\n",
    "\n",
    "    def eat(self):\n",
    "        print(\"Eating\")\n",
    "\n",
    "# 継承するクラスをカッコ内に宣言\n",
    "class Dog(Animal):\n",
    "    \n",
    "    def __init__(self):\n",
    "        # super().__init__で継承した親クラス（Animal)のコンストラクタを実行\n",
    "        super().__init__()\n",
    "        print(\"Dog created\")\n",
    "\n",
    "    # who_am_I methodを上書き\n",
    "    def who_am_I(self):\n",
    "        print(\"Dog\")\n",
    "\n",
    "    # bark methodを追加\n",
    "    def bark(self):\n",
    "        print(\"Woof!\")"
   ]
  },
  {
   "cell_type": "code",
   "execution_count": 12,
   "metadata": {},
   "outputs": [
    {
     "name": "stdout",
     "output_type": "stream",
     "text": [
      "=== Animal behavior ===\n",
      "Animal created\n",
      "Animal\n",
      "Eating\n"
     ]
    }
   ],
   "source": [
    "print(\"=== Animal behavior ===\")\n",
    "animal = Animal()\n",
    "animal.who_am_I()\n",
    "animal.eat()\n"
   ]
  },
  {
   "cell_type": "code",
   "execution_count": 13,
   "metadata": {},
   "outputs": [
    {
     "name": "stdout",
     "output_type": "stream",
     "text": [
      "=== Dog behaviro ===\n",
      "Animal created\n",
      "Dog created\n",
      "Dog\n",
      "Eating\n",
      "Woof!\n"
     ]
    }
   ],
   "source": [
    "print(\"=== Dog behaviro ===\")\n",
    "d = Dog()\n",
    "d.who_am_I()\n",
    "d.eat()\n",
    "d.bark()"
   ]
  },
  {
   "cell_type": "markdown",
   "metadata": {},
   "source": [
    "## ほぼ同じ構造だが，動作の違うclassを整理する\n",
    "\n",
    "猫と犬は似ているが，泣き方が違います．これをclassで表現してみます．"
   ]
  },
  {
   "cell_type": "code",
   "execution_count": 14,
   "metadata": {},
   "outputs": [],
   "source": [
    "class Dog:\n",
    "    def __init__(self, name):\n",
    "        self.name = name\n",
    "\n",
    "    def speak(self):\n",
    "        return '{name} says Woof!'.format(name=self.name)\n",
    "    \n",
    "class Cat:\n",
    "    def __init__(self, name):\n",
    "        self.name = name\n",
    "\n",
    "    def speak(self):\n",
    "        return '{name} says Meow!'.format(name=self.name) "
   ]
  },
  {
   "cell_type": "markdown",
   "metadata": {},
   "source": [
    "上記のクラスを使用してみます．"
   ]
  },
  {
   "cell_type": "code",
   "execution_count": 15,
   "metadata": {},
   "outputs": [
    {
     "name": "stdout",
     "output_type": "stream",
     "text": [
      "Niko says Woof!\n",
      "Felix says Meow!\n"
     ]
    }
   ],
   "source": [
    "niko = Dog('Niko')\n",
    "felix = Cat('Felix')\n",
    "\n",
    "print(niko.speak())\n",
    "print(felix.speak())\n"
   ]
  },
  {
   "cell_type": "markdown",
   "metadata": {},
   "source": [
    "CatおよびDogクラスはspeakメソッドをどちらも持つので，下記のようにリストでまとめて動作させることが可能です．"
   ]
  },
  {
   "cell_type": "code",
   "execution_count": 17,
   "metadata": {},
   "outputs": [
    {
     "name": "stdout",
     "output_type": "stream",
     "text": [
      "Niko says Woof!\n",
      "Felix says Meow!\n"
     ]
    }
   ],
   "source": [
    "for pet in [niko,felix]:\n",
    "    print(pet.speak())"
   ]
  },
  {
   "cell_type": "markdown",
   "metadata": {},
   "source": [
    "またクラスインスタンスを引数で渡して，関数で実行することも可能です．"
   ]
  },
  {
   "cell_type": "code",
   "execution_count": 18,
   "metadata": {},
   "outputs": [
    {
     "name": "stdout",
     "output_type": "stream",
     "text": [
      "Niko says Woof!\n",
      "Felix says Meow!\n"
     ]
    }
   ],
   "source": [
    "def pet_speak(pet):\n",
    "    print(pet.speak())\n",
    "\n",
    "pet_speak(niko)\n",
    "pet_speak(felix)"
   ]
  },
  {
   "cell_type": "markdown",
   "metadata": {},
   "source": [
    "このような似た構造のクラスを作成する時，データの構造およびmethodを親クラスで作成し，継承することで重複したコードを作成せずに済みます．テンプレートとなる抽象クラスを親クラスで宣言し，具体的なクラスでその実装を行う方法になります．下記に例を示します．"
   ]
  },
  {
   "cell_type": "code",
   "execution_count": 20,
   "metadata": {},
   "outputs": [],
   "source": [
    "class Animal:\n",
    "    \n",
    "    # コンストラクタ\n",
    "    def __init__(self, name):    \n",
    "        self.name = name\n",
    "\n",
    "    # 仮想関数にあたる\n",
    "    def speak(self):              \n",
    "        raise NotImplementedError(\"Subclass must implement abstract method\")\n",
    "\n",
    "\n",
    "class Dog(Animal):\n",
    "    \n",
    "    def speak(self):\n",
    "        return '{name} says Woof!'.format(name=self.name)\n",
    "    \n",
    "class Cat(Animal):\n",
    "\n",
    "    def speak(self):\n",
    "        return '{name} says Meow!'.format(name=self.name) "
   ]
  },
  {
   "cell_type": "markdown",
   "metadata": {},
   "source": [
    "上述した例とほぼ同じですが，実際に動作させてみます．"
   ]
  },
  {
   "cell_type": "code",
   "execution_count": 23,
   "metadata": {},
   "outputs": [
    {
     "name": "stdout",
     "output_type": "stream",
     "text": [
      "Fido says Woof!\n",
      "Isis says Meow!\n"
     ]
    }
   ],
   "source": [
    "fido = Dog('Fido')\n",
    "isis = Cat('Isis')\n",
    "\n",
    "print(fido.speak())\n",
    "print(isis.speak())"
   ]
  },
  {
   "cell_type": "markdown",
   "metadata": {},
   "source": [
    "上述した例は小さな規模のクラスになりますが，大規模クラスになりますと，抽象クラスを使用する意義は重複したコードを書かずに済むので，大きなメリットになります．"
   ]
  },
  {
   "cell_type": "markdown",
   "metadata": {},
   "source": [
    "## Special Method"
   ]
  },
  {
   "cell_type": "code",
   "execution_count": 26,
   "metadata": {},
   "outputs": [],
   "source": [
    "class Book:\n",
    "    def __init__(self, title, author, pages):\n",
    "        print(\"A book is created\")\n",
    "        \n",
    "        self.value = {}\n",
    "        \n",
    "        self.value['title'] = title\n",
    "        self.value['author'] = author\n",
    "        self.value['pages'] = pages\n",
    "\n",
    "    # インスタンスだけが式で用いられた時は，下記の文字列を返す\n",
    "    def __str__(self):\n",
    "        return \"Title: {title}, author: {author}, pages: {pages}\".format(**self.value)\n",
    "\n",
    "    # len関数の引数に渡された時の動作を記述するmethod\n",
    "    def __len__(self):\n",
    "        return self.value['pages']\n",
    "\n",
    "    # デストラクタが始動したときの動作を記述するmethod\n",
    "    def __del__(self):\n",
    "        print(\"A book is destroyed\")\n",
    "        \n",
    "    def __lt__(self, other):\n",
    "        return self.pages < other.pages\n",
    "    \n",
    "    def __le__(self, other):\n",
    "        return self.pages <= other.pages\n",
    "\n",
    "    def __gt__(self, other):\n",
    "        return self.pages > other.pages\n",
    "    \n",
    "    def __ge__(self, other):\n",
    "        return self.pages >= other.pages\n",
    "    \n",
    "    def __eq__(self, other):\n",
    "        return self.pages == other.pages\n",
    "    \n",
    "    def __ne__(self, other):\n",
    "        return self.pages != other.pages\n",
    "    \n",
    "    def getitem(self, k):\n",
    "        if k == 0:\n",
    "            return self.title\n",
    "        elif k == 1:\n",
    "            return self.author\n",
    "        elif k == 2:\n",
    "            return self.pages\n",
    "        else:\n",
    "            return None\n"
   ]
  },
  {
   "cell_type": "code",
   "execution_count": 25,
   "metadata": {},
   "outputs": [
    {
     "name": "stdout",
     "output_type": "stream",
     "text": [
      "A book is created\n",
      "Title: Python Rocks!, author: Jose Portilla, pages: 159\n",
      "159\n",
      "A book is destroyed\n"
     ]
    }
   ],
   "source": [
    "book = Book(\"Python Rocks!\", \"Jose Portilla\", 159)\n",
    "\n",
    "# Special Methods\n",
    "print(book)\n",
    "print(len(book))\n",
    "del book"
   ]
  },
  {
   "cell_type": "markdown",
   "metadata": {},
   "source": [
    "## classmethodとstaticmethod\n",
    "\n"
   ]
  },
  {
   "cell_type": "code",
   "execution_count": null,
   "metadata": {},
   "outputs": [],
   "source": []
  }
 ],
 "metadata": {
  "kernelspec": {
   "display_name": "Python 3",
   "language": "python",
   "name": "python3"
  },
  "language_info": {
   "codemirror_mode": {
    "name": "ipython",
    "version": 3
   },
   "file_extension": ".py",
   "mimetype": "text/x-python",
   "name": "python",
   "nbconvert_exporter": "python",
   "pygments_lexer": "ipython3",
   "version": "3.6.5"
  },
  "toc": {
   "nav_menu": {},
   "number_sections": true,
   "sideBar": true,
   "skip_h1_title": false,
   "toc_cell": false,
   "toc_position": {
    "height": "495px",
    "left": "0px",
    "right": "983.821px",
    "top": "111px",
    "width": "178px"
   },
   "toc_section_display": "none",
   "toc_window_display": false
  }
 },
 "nbformat": 4,
 "nbformat_minor": 2
}

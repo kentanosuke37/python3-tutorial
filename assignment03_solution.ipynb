{
 "cells": [
  {
   "cell_type": "markdown",
   "metadata": {},
   "source": [
    "# 関数とメソッドの課題\n"
   ]
  },
  {
   "cell_type": "markdown",
   "metadata": {},
   "source": [
    "----\n"
   ]
  },
  {
   "cell_type": "markdown",
   "metadata": {},
   "source": [
    "## 数値のリストを与えて，カンマ区切りの文字列を返す関数を作成しなさい．"
   ]
  },
  {
   "cell_type": "code",
   "execution_count": 4,
   "metadata": {},
   "outputs": [
    {
     "name": "stdout",
     "output_type": "stream",
     "text": [
      "1,2,3\n"
     ]
    }
   ],
   "source": [
    "def join_comma(nums):\n",
    "    num_strs = [str(num) for num in nums]\n",
    "    return ','.join(num_strs)\n",
    "\n",
    "nums = {1, 2, 3}\n",
    "print(join_comma(nums))"
   ]
  },
  {
   "cell_type": "markdown",
   "metadata": {},
   "source": [
    "----\n"
   ]
  },
  {
   "cell_type": "markdown",
   "metadata": {},
   "source": [
    "## 上記の関数を使用して，数値の2次元リストおよびファイル名を引数にして，CSVファイルを出力する関数を作成しなさい．"
   ]
  },
  {
   "cell_type": "code",
   "execution_count": 6,
   "metadata": {},
   "outputs": [
    {
     "name": "stdout",
     "output_type": "stream",
     "text": [
      "1,2,3\n",
      "3,4,5\n",
      "\n"
     ]
    }
   ],
   "source": [
    "def join_comma(nums):\n",
    "    num_strs = [str(num) for num in nums]\n",
    "    return ','.join(num_strs)\n",
    "\n",
    "def write_num_matrix(num_list, file_path):\n",
    "    s = ''\n",
    "    for nums in num_list:\n",
    "        s += join_comma(nums) + '\\n'\n",
    "\n",
    "    with open(file_path, 'w') as f:\n",
    "        f.write(s)\n",
    "        \n",
    "num_list = [[1, 2, 3], [3, 4, 5]]\n",
    "file_path = 'num_list.txt'\n",
    "write_num_matrix(num_list, file_path)\n",
    "\n",
    "with open(file_path, 'r') as f:\n",
    "    s = f.read()\n",
    "    print(s)\n"
   ]
  },
  {
   "cell_type": "markdown",
   "metadata": {},
   "source": [
    "---\n"
   ]
  },
  {
   "cell_type": "markdown",
   "metadata": {},
   "source": [
    "## リストを引数にして，重複のないリストを返す関数を作成しなさい．"
   ]
  },
  {
   "cell_type": "code",
   "execution_count": 7,
   "metadata": {},
   "outputs": [
    {
     "name": "stdout",
     "output_type": "stream",
     "text": [
      "[1, 2, 3, 'num']\n"
     ]
    }
   ],
   "source": [
    "def drop_duplicates(list_val):\n",
    "    return list(set(list_val))\n",
    "\n",
    "list_val = [1, 1, 2, 3, 'num', 'num']\n",
    "print(drop_duplicates(list_val))"
   ]
  },
  {
   "cell_type": "markdown",
   "metadata": {},
   "source": [
    "---"
   ]
  },
  {
   "cell_type": "markdown",
   "metadata": {},
   "source": [
    "## 階乗を計算する関数を再帰関数を使用して作成しなさい．"
   ]
  },
  {
   "cell_type": "code",
   "execution_count": 9,
   "metadata": {},
   "outputs": [
    {
     "name": "stdout",
     "output_type": "stream",
     "text": [
      "0! = 1\n",
      "1! = 1\n",
      "2! = 2\n",
      "3! = 6\n",
      "4! = 24\n",
      "5! = 120\n",
      "6! = 720\n",
      "7! = 5040\n",
      "8! = 40320\n",
      "9! = 362880\n"
     ]
    }
   ],
   "source": [
    "def factorial(n):\n",
    "    if n < 0:\n",
    "        raise ValueError(\"n is not smaller than 0!\")\n",
    "    elif n == 0:\n",
    "        return 1\n",
    "    else:\n",
    "        return n*factorial(n-1)\n",
    "    \n",
    "for i in range(10):\n",
    "    print(\"{}! = {}\".format(i, factorial(i)))"
   ]
  },
  {
   "cell_type": "markdown",
   "metadata": {},
   "source": [
    "---"
   ]
  },
  {
   "cell_type": "markdown",
   "metadata": {},
   "source": [
    "## 行列とベクトルを渡して，内積を計算する関数を作成しなさい．"
   ]
  },
  {
   "cell_type": "code",
   "execution_count": 10,
   "metadata": {},
   "outputs": [
    {
     "name": "stdout",
     "output_type": "stream",
     "text": [
      "[14, 26, 44]\n"
     ]
    }
   ],
   "source": [
    "def product(A, x):\n",
    "    Ax = []\n",
    "    for row in A:\n",
    "        val = 0\n",
    "        for A_val, x_val in zip(row, x):\n",
    "            val += A_val*x_val\n",
    "        Ax.append(val)\n",
    "    return Ax\n",
    "\n",
    "A = [[1, 2, 3], [3, 4, 5], [6, 7, 8]]\n",
    "x = [1, 2, 3]\n",
    "print(product(A, x))"
   ]
  },
  {
   "cell_type": "markdown",
   "metadata": {},
   "source": [
    "---"
   ]
  },
  {
   "cell_type": "markdown",
   "metadata": {},
   "source": [
    "## unpackingリストを引数に取り，リストのすべての値を足し上げた値を返す関数を作成せよ．\n"
   ]
  },
  {
   "cell_type": "code",
   "execution_count": null,
   "metadata": {},
   "outputs": [],
   "source": []
  },
  {
   "cell_type": "markdown",
   "metadata": {},
   "source": [
    "---"
   ]
  },
  {
   "cell_type": "markdown",
   "metadata": {},
   "source": [
    "## keyword argsのディクショナリを引数にとり，keyが'a'と'b'のvalueを足して，値を返す関数を作成せよ．"
   ]
  },
  {
   "cell_type": "code",
   "execution_count": null,
   "metadata": {},
   "outputs": [],
   "source": []
  },
  {
   "cell_type": "markdown",
   "metadata": {},
   "source": [
    "----"
   ]
  },
  {
   "cell_type": "markdown",
   "metadata": {},
   "source": [
    "## unpackingリストおよびkeyword argsのディクショナリを引数に取り，リストの0および1番目の値，ディクショナリの'a'および'b'の値をすべて足した値を返す関数を作成せよ．"
   ]
  },
  {
   "cell_type": "code",
   "execution_count": null,
   "metadata": {},
   "outputs": [],
   "source": []
  },
  {
   "cell_type": "markdown",
   "metadata": {},
   "source": [
    "---"
   ]
  }
 ],
 "metadata": {
  "kernelspec": {
   "display_name": "Python 3",
   "language": "python",
   "name": "python3"
  },
  "language_info": {
   "codemirror_mode": {
    "name": "ipython",
    "version": 3
   },
   "file_extension": ".py",
   "mimetype": "text/x-python",
   "name": "python",
   "nbconvert_exporter": "python",
   "pygments_lexer": "ipython3",
   "version": "3.6.3"
  },
  "toc": {
   "nav_menu": {},
   "number_sections": true,
   "sideBar": true,
   "skip_h1_title": false,
   "toc_cell": false,
   "toc_position": {},
   "toc_section_display": "block",
   "toc_window_display": false
  }
 },
 "nbformat": 4,
 "nbformat_minor": 2
}

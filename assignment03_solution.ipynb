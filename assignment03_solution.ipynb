{
 "cells": [
  {
   "cell_type": "markdown",
   "metadata": {},
   "source": [
    "# 関数とメソッドの課題\n"
   ]
  },
  {
   "cell_type": "markdown",
   "metadata": {},
   "source": [
    "----\n"
   ]
  },
  {
   "cell_type": "markdown",
   "metadata": {},
   "source": [
    "## 数値のリストを与えて，カンマ区切りの文字列を返す関数を作成しなさい．"
   ]
  },
  {
   "cell_type": "code",
   "execution_count": 4,
   "metadata": {},
   "outputs": [
    {
     "name": "stdout",
     "output_type": "stream",
     "text": [
      "1,2,3\n"
     ]
    }
   ],
   "source": [
    "def join_comma(nums):\n",
    "    num_strs = [str(num) for num in nums]\n",
    "    return ','.join(num_strs)\n",
    "\n",
    "nums = {1, 2, 3}\n",
    "print(join_comma(nums))"
   ]
  },
  {
   "cell_type": "markdown",
   "metadata": {},
   "source": [
    "----\n"
   ]
  },
  {
   "cell_type": "markdown",
   "metadata": {},
   "source": [
    "## 上記の関数を使用して，数値の2次元リストおよびファイル名を引数にして，CSVファイルを出力する関数を作成しなさい．"
   ]
  },
  {
   "cell_type": "code",
   "execution_count": 6,
   "metadata": {},
   "outputs": [
    {
     "name": "stdout",
     "output_type": "stream",
     "text": [
      "1,2,3\n",
      "3,4,5\n",
      "\n"
     ]
    }
   ],
   "source": [
    "def join_comma(nums):\n",
    "    num_strs = [str(num) for num in nums]\n",
    "    return ','.join(num_strs)\n",
    "\n",
    "def write_num_matrix(num_list, file_path):\n",
    "    s = ''\n",
    "    for nums in num_list:\n",
    "        s += join_comma(nums) + '\\n'\n",
    "\n",
    "    with open(file_path, 'w') as f:\n",
    "        f.write(s)\n",
    "        \n",
    "num_list = [[1, 2, 3], [3, 4, 5]]\n",
    "file_path = 'num_list.txt'\n",
    "write_num_matrix(num_list, file_path)\n",
    "\n",
    "with open(file_path, 'r') as f:\n",
    "    s = f.read()\n",
    "    print(s)\n"
   ]
  },
  {
   "cell_type": "markdown",
   "metadata": {},
   "source": [
    "---\n"
   ]
  },
  {
   "cell_type": "markdown",
   "metadata": {},
   "source": [
    "## リストを引数にして，重複のないリストを返す関数を作成しなさい．"
   ]
  },
  {
   "cell_type": "code",
   "execution_count": 7,
   "metadata": {},
   "outputs": [
    {
     "name": "stdout",
     "output_type": "stream",
     "text": [
      "[1, 2, 3, 'num']\n"
     ]
    }
   ],
   "source": [
    "def drop_duplicates(list_val):\n",
    "    return list(set(list_val))\n",
    "\n",
    "list_val = [1, 1, 2, 3, 'num', 'num']\n",
    "print(drop_duplicates(list_val))"
   ]
  },
  {
   "cell_type": "markdown",
   "metadata": {},
   "source": [
    "---"
   ]
  },
  {
   "cell_type": "markdown",
   "metadata": {},
   "source": [
    "## 階乗を計算する関数を再帰関数を使用して作成しなさい．"
   ]
  },
  {
   "cell_type": "code",
   "execution_count": 9,
   "metadata": {},
   "outputs": [
    {
     "name": "stdout",
     "output_type": "stream",
     "text": [
      "0! = 1\n",
      "1! = 1\n",
      "2! = 2\n",
      "3! = 6\n",
      "4! = 24\n",
      "5! = 120\n",
      "6! = 720\n",
      "7! = 5040\n",
      "8! = 40320\n",
      "9! = 362880\n"
     ]
    }
   ],
   "source": [
    "def factorial(n):\n",
    "    if n < 0:\n",
    "        raise ValueError(\"n is not smaller than 0!\")\n",
    "    elif n == 0:\n",
    "        return 1\n",
    "    else:\n",
    "        return n*factorial(n-1)\n",
    "    \n",
    "for i in range(10):\n",
    "    print(\"{}! = {}\".format(i, factorial(i)))"
   ]
  },
  {
   "cell_type": "markdown",
   "metadata": {},
   "source": [
    "---"
   ]
  },
  {
   "cell_type": "markdown",
   "metadata": {},
   "source": [
    "## 行列AとベクトルXを渡して，行列AXを計算する関数を作成しなさい．"
   ]
  },
  {
   "cell_type": "code",
   "execution_count": 10,
   "metadata": {},
   "outputs": [
    {
     "name": "stdout",
     "output_type": "stream",
     "text": [
      "[14, 26, 44]\n"
     ]
    }
   ],
   "source": [
    "def product(A, x):\n",
    "    Ax = []\n",
    "    for row in A:\n",
    "        val = 0\n",
    "        for A_val, x_val in zip(row, x):\n",
    "            val += A_val*x_val\n",
    "        Ax.append(val)\n",
    "    return Ax\n",
    "\n",
    "A = [[1, 2, 3], [3, 4, 5], [6, 7, 8]]\n",
    "x = [1, 2, 3]\n",
    "print(product(A, x))"
   ]
  },
  {
   "cell_type": "markdown",
   "metadata": {},
   "source": [
    "---"
   ]
  },
  {
   "cell_type": "markdown",
   "metadata": {},
   "source": [
    "## unpackingリストを引数に取り，リストのすべての値を足し上げた値を返す関数を作成せよ．\n"
   ]
  },
  {
   "cell_type": "code",
   "execution_count": 1,
   "metadata": {},
   "outputs": [
    {
     "name": "stdout",
     "output_type": "stream",
     "text": [
      "21\n"
     ]
    }
   ],
   "source": [
    "def add(*args):\n",
    "    sum = 0\n",
    "    for i in args:\n",
    "        sum += i\n",
    "    return sum\n",
    "\n",
    "nums = [1, 2, 3, 4, 5, 6]\n",
    "print(add(*nums))"
   ]
  },
  {
   "cell_type": "markdown",
   "metadata": {},
   "source": [
    "---"
   ]
  },
  {
   "cell_type": "markdown",
   "metadata": {},
   "source": [
    "## keyword argsのディクショナリを引数にとり，keyが'a'と'b'のvalueを足して，値を返す関数を作成せよ．"
   ]
  },
  {
   "cell_type": "code",
   "execution_count": 2,
   "metadata": {},
   "outputs": [
    {
     "name": "stdout",
     "output_type": "stream",
     "text": [
      "300\n"
     ]
    }
   ],
   "source": [
    "def add(**kwargs):\n",
    "    return kwargs['a'] + kwargs['b']\n",
    "\n",
    "value = { 'a' : 100, 'b':200, 'c': 300}\n",
    "print(add(**value))"
   ]
  },
  {
   "cell_type": "markdown",
   "metadata": {},
   "source": [
    "----"
   ]
  },
  {
   "cell_type": "markdown",
   "metadata": {},
   "source": [
    "## unpackingリストおよびkeyword argsのディクショナリを引数に取り，リストの0および1番目の値，ディクショナリの'a'および'b'の値をすべて足した値を返す関数を作成せよ．"
   ]
  },
  {
   "cell_type": "code",
   "execution_count": 5,
   "metadata": {},
   "outputs": [
    {
     "name": "stdout",
     "output_type": "stream",
     "text": [
      "303\n"
     ]
    }
   ],
   "source": [
    "def add(*args, **kwargs):\n",
    "    return args[0] + args[1] + kwargs['a'] + kwargs['b']\n",
    "\n",
    "value = { 'a' : 100, 'b':200, 'c': 300}\n",
    "nums = [1, 2, 3, 4, 5, 6]\n",
    "print(add(*nums, **value))"
   ]
  },
  {
   "cell_type": "markdown",
   "metadata": {},
   "source": [
    "---"
   ]
  },
  {
   "cell_type": "markdown",
   "metadata": {},
   "source": [
    "## 引数の値を返す関数を返す関数を作成し，それを使用して2つ関数を作りなさい．"
   ]
  },
  {
   "cell_type": "code",
   "execution_count": 1,
   "metadata": {},
   "outputs": [
    {
     "name": "stdout",
     "output_type": "stream",
     "text": [
      "a\n",
      "aaa\n"
     ]
    }
   ],
   "source": [
    "def return_arg(value):\n",
    "    \n",
    "    def func():\n",
    "        return value\n",
    "    \n",
    "    return func\n",
    "\n",
    "return_a = return_arg('a')\n",
    "return_aaa = return_arg('aaa')\n",
    "\n",
    "print(return_a())\n",
    "print(return_aaa())"
   ]
  },
  {
   "cell_type": "markdown",
   "metadata": {},
   "source": [
    "----"
   ]
  },
  {
   "cell_type": "markdown",
   "metadata": {},
   "source": [
    "## rootディレクトリパスを引数にして，rootディレクトリ以下のディレクトリに対してtxtファイルを探索し，その探索したファイルの絶対パスのリストを返す関数を作成しなさい．"
   ]
  },
  {
   "cell_type": "code",
   "execution_count": 2,
   "metadata": {},
   "outputs": [
    {
     "name": "stdout",
     "output_type": "stream",
     "text": [
      "['C:\\\\Users\\\\ueoka\\\\Desktop\\\\python3-tutorial\\\\test.txt', 'C:\\\\Users\\\\ueoka\\\\Desktop\\\\python3-tutorial\\\\test_read_write.txt', 'C:\\\\Users\\\\ueoka\\\\Desktop\\\\python3-tutorial\\\\test_write.txt', 'C:\\\\Users\\\\ueoka\\\\Desktop\\\\python3-tutorial\\\\test_write_read.txt']\n"
     ]
    }
   ],
   "source": [
    "from glob import glob\n",
    "import os\n",
    "\n",
    "def get_txt_list(root_dir):\n",
    "    \n",
    "    txt_list = []\n",
    "    target_path = os.path.join(root_dir, '*')\n",
    "    for f in glob(target_path):\n",
    "        \n",
    "        if os.path.isfile(f):\n",
    "            basename = os.path.basename(f)\n",
    "            \n",
    "            if not '.txt' in basename:\n",
    "                continue\n",
    "                \n",
    "            file_path = os.path.join(root_dir, f)\n",
    "            txt_list.append(file_path)\n",
    "            \n",
    "        elif os.path.isdir(f):\n",
    "            dir_path = os.path.join(root_dir, f)\n",
    "            txt_list.extend(get_txt_list(dir_path))\n",
    "            \n",
    "    return txt_list\n",
    "\n",
    "print(get_txt_list(os.getcwd()))"
   ]
  },
  {
   "cell_type": "markdown",
   "metadata": {},
   "source": [
    "---\n"
   ]
  },
  {
   "cell_type": "markdown",
   "metadata": {},
   "source": [
    "## rootディレクトリパスおよびコピー先のディレクトリパスを引数にして，rootディレクトリ以下のディレクトリに対してtxtファイルを探索し，それをコピー先のディレクトリにコピーする関数を作成しなさい．"
   ]
  },
  {
   "cell_type": "code",
   "execution_count": 7,
   "metadata": {},
   "outputs": [
    {
     "name": "stdout",
     "output_type": "stream",
     "text": [
      "copy from C:\\Users\\ueoka\\Desktop\\python3-tutorial\\test.txt to aaa\\test.txt!\n",
      "copy from C:\\Users\\ueoka\\Desktop\\python3-tutorial\\test_read_write.txt to aaa\\test_read_write.txt!\n",
      "copy from C:\\Users\\ueoka\\Desktop\\python3-tutorial\\test_write.txt to aaa\\test_write.txt!\n",
      "copy from C:\\Users\\ueoka\\Desktop\\python3-tutorial\\test_write_read.txt to aaa\\test_write_read.txt!\n"
     ]
    }
   ],
   "source": [
    "from glob import glob\n",
    "import shutil\n",
    "import os\n",
    "\n",
    "def get_txt_list(root_dir):\n",
    "    \n",
    "    txt_list = []\n",
    "    target_path = os.path.join(root_dir, '*')\n",
    "    for f in glob(target_path):\n",
    "        \n",
    "        if os.path.isfile(f):\n",
    "            basename = os.path.basename(f)\n",
    "            \n",
    "            if not '.txt' in basename:\n",
    "                continue\n",
    "                \n",
    "            file_path = os.path.join(root_dir, f)\n",
    "            txt_list.append(file_path)\n",
    "            \n",
    "        elif os.path.isdir(f):\n",
    "            dir_path = os.path.join(root_dir, f)\n",
    "            txt_list.extend(get_txt_list(dir_path))\n",
    "            \n",
    "    return txt_list\n",
    "\n",
    "def copy_txt(src, dst):\n",
    "    \n",
    "    if not os.path.isdir(src):\n",
    "        print(\"copy txt error : {}(a agument directory of source files) is not a directory!\".format(src))\n",
    "        return\n",
    "    \n",
    "    if not os.path.isdir(dst):\n",
    "        print(\"copy txt error : {}(a agument directory of destination) is not a directory!\".format(dst))\n",
    "        return\n",
    "        \n",
    "    for src_path in get_txt_list(src):\n",
    "        basename = os.path.basename(src_path)\n",
    "        dst_path = os.path.join(dst, basename)\n",
    "        print(\"copy from {} to {}!\".format(src_path, dst_path))\n",
    "        shutil.copy(src_path, dst_path)\n",
    "\n",
    "if not os.path.exists('aaa'):\n",
    "    os.mkdir('aaa')\n",
    "else:\n",
    "    shutil.rmtree('aaa')\n",
    "    os.mkdir('aaa')\n",
    "    \n",
    "copy_txt(os.getcwd(), 'aaa')\n",
    "        "
   ]
  },
  {
   "cell_type": "markdown",
   "metadata": {},
   "source": [
    "---"
   ]
  },
  {
   "cell_type": "markdown",
   "metadata": {},
   "source": [
    "## rootディレクトリパス，コピー先のディレクトリパスおよびファイル拡張子を引数にして，rootディレクトリ以下のディレクトリに対して引数で指定した拡張を持つファイルを探索し，それをコピー先のディレクトリにコピーする関数を作成しなさい．"
   ]
  },
  {
   "cell_type": "code",
   "execution_count": 16,
   "metadata": {},
   "outputs": [
    {
     "name": "stdout",
     "output_type": "stream",
     "text": [
      "copy from C:\\Users\\ueoka\\Desktop\\python3-tutorial\\assignment01.ipynb to bbb\\assignment01.ipynb!\n",
      "copy from C:\\Users\\ueoka\\Desktop\\python3-tutorial\\assignment01_solution.ipynb to bbb\\assignment01_solution.ipynb!\n",
      "copy from C:\\Users\\ueoka\\Desktop\\python3-tutorial\\assignment02.ipynb to bbb\\assignment02.ipynb!\n",
      "copy from C:\\Users\\ueoka\\Desktop\\python3-tutorial\\assignment02_solution.ipynb to bbb\\assignment02_solution.ipynb!\n",
      "copy from C:\\Users\\ueoka\\Desktop\\python3-tutorial\\assignment03.ipynb to bbb\\assignment03.ipynb!\n",
      "copy from C:\\Users\\ueoka\\Desktop\\python3-tutorial\\assignment03_solution.ipynb to bbb\\assignment03_solution.ipynb!\n",
      "copy from C:\\Users\\ueoka\\Desktop\\python3-tutorial\\python_lecture01.ipynb to bbb\\python_lecture01.ipynb!\n",
      "copy from C:\\Users\\ueoka\\Desktop\\python3-tutorial\\python_lecture02.ipynb to bbb\\python_lecture02.ipynb!\n",
      "copy from C:\\Users\\ueoka\\Desktop\\python3-tutorial\\python_lecture03.ipynb to bbb\\python_lecture03.ipynb!\n",
      "copy from C:\\Users\\ueoka\\Desktop\\python3-tutorial\\python_lecture04.ipynb to bbb\\python_lecture04.ipynb!\n",
      "copy from C:\\Users\\ueoka\\Desktop\\python3-tutorial\\python_lecture05.ipynb to bbb\\python_lecture05.ipynb!\n",
      "copy from C:\\Users\\ueoka\\Desktop\\python3-tutorial\\python_lecture06.ipynb to bbb\\python_lecture06.ipynb!\n",
      "copy from C:\\Users\\ueoka\\Desktop\\python3-tutorial\\python_lecture07.ipynb to bbb\\python_lecture07.ipynb!\n",
      "copy from C:\\Users\\ueoka\\Desktop\\python3-tutorial\\python_lecture08.ipynb to bbb\\python_lecture08.ipynb!\n",
      "copy from C:\\Users\\ueoka\\Desktop\\python3-tutorial\\python_lecture09.ipynb to bbb\\python_lecture09.ipynb!\n"
     ]
    }
   ],
   "source": [
    "from glob import glob\n",
    "import shutil\n",
    "import os\n",
    "\n",
    "def get_file_list(root_dir, extension):\n",
    "    \n",
    "    file_list = []\n",
    "    target_path = os.path.join(root_dir, '*')\n",
    "    for f in glob(target_path):\n",
    "        \n",
    "        if os.path.isfile(f):\n",
    "            basename = os.path.basename(f)\n",
    "            \n",
    "            if not extension in basename:\n",
    "                continue\n",
    "                \n",
    "            file_path = os.path.join(root_dir, f)\n",
    "            file_list.append(file_path)\n",
    "            \n",
    "        elif os.path.isdir(f):\n",
    "            dir_path = os.path.join(root_dir, f)\n",
    "            file_list.extend(get_file_list(dir_path, extension))\n",
    "            \n",
    "    return file_list\n",
    "\n",
    "def copy_file(extension, src, dst):\n",
    "    \n",
    "    if not os.path.isdir(src):\n",
    "        print(\"copy file error : {}(a agument directory of source files) is not a directory!\".format(src))\n",
    "        return\n",
    "    \n",
    "    if not os.path.isdir(dst):\n",
    "        print(\"copy file error : {}(a agument directory of destination) is not a directory!\".format(dst))\n",
    "        return\n",
    "        \n",
    "    for src_path in get_file_list(src, extension):\n",
    "        basename = os.path.basename(src_path)\n",
    "        dst_path = os.path.join(dst, basename)\n",
    "        print(\"copy from {} to {}!\".format(src_path, dst_path))\n",
    "        shutil.copy(src_path, dst_path)\n",
    "\n",
    "if not os.path.exists('bbb'):\n",
    "    os.mkdir('bbb')\n",
    "else:\n",
    "    shutil.rmtree('bbb')\n",
    "    os.mkdir('bbb')\n",
    "    \n",
    "copy_file('.ipynb', os.getcwd(), 'bbb')\n",
    "        "
   ]
  }
 ],
 "metadata": {
  "kernelspec": {
   "display_name": "Python 3",
   "language": "python",
   "name": "python3"
  },
  "language_info": {
   "codemirror_mode": {
    "name": "ipython",
    "version": 3
   },
   "file_extension": ".py",
   "mimetype": "text/x-python",
   "name": "python",
   "nbconvert_exporter": "python",
   "pygments_lexer": "ipython3",
   "version": "3.6.4"
  },
  "toc": {
   "nav_menu": {},
   "number_sections": true,
   "sideBar": true,
   "skip_h1_title": false,
   "toc_cell": false,
   "toc_position": {},
   "toc_section_display": "block",
   "toc_window_display": false
  }
 },
 "nbformat": 4,
 "nbformat_minor": 2
}

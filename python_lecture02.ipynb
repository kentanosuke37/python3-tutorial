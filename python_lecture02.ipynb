{
 "cells": [
  {
   "cell_type": "markdown",
   "metadata": {
    "toc": true
   },
   "source": [
    "<h1>Table of Contents<span class=\"tocSkip\"></span></h1>\n",
    "<div class=\"toc\" style=\"margin-top: 1em;\"><ul class=\"toc-item\"><li><span><a href=\"#数値\" data-toc-modified-id=\"数値-1\"><span class=\"toc-item-num\">1&nbsp;&nbsp;</span>数値</a></span><ul class=\"toc-item\"><li><span><a href=\"#整数\" data-toc-modified-id=\"整数-1.1\"><span class=\"toc-item-num\">1.1&nbsp;&nbsp;</span>整数</a></span></li><li><span><a href=\"#浮動小数点数\" data-toc-modified-id=\"浮動小数点数-1.2\"><span class=\"toc-item-num\">1.2&nbsp;&nbsp;</span>浮動小数点数</a></span></li></ul></li></ul></div>"
   ]
  },
  {
   "cell_type": "markdown",
   "metadata": {},
   "source": [
    "# 数値\n",
    "\n",
    "数値の演算についての実行結果．\n",
    "\n",
    "ちなみにpythonの出力はprint関数，変数の型はtype関数で調べることができる．\n",
    "\n",
    "\"#\"はコメントです．\n",
    "\n",
    "## 整数\n",
    "\n",
    "変数の代入のときに変数の方が決まる．\".\"がないと．整数．"
   ]
  },
  {
   "cell_type": "code",
   "execution_count": 7,
   "metadata": {},
   "outputs": [
    {
     "name": "stdout",
     "output_type": "stream",
     "text": [
      "0.5 <class 'float'>\n",
      "0 <class 'int'>\n",
      "2 <class 'int'>\n",
      "1 <class 'int'>\n",
      "1 <class 'int'>\n"
     ]
    }
   ],
   "source": [
    "a = 1\n",
    "b = 2\n",
    "\n",
    "# 割り算\n",
    "print(a/b, type(a/b))\n",
    "\n",
    "# 割り算で小数切り捨て\n",
    "print(a//b, type(a//b))\n",
    "\n",
    "# 乗算\n",
    "print(a*b, type(a*b))\n",
    "\n",
    "# 累乗\n",
    "print(a**b, type(a**b))\n",
    "\n",
    "# 剰余\n",
    "print(a%b, type(a%b))"
   ]
  },
  {
   "cell_type": "markdown",
   "metadata": {},
   "source": [
    "## 浮動小数点数\n",
    "\n",
    "\".\"があると，浮動小数点数．"
   ]
  },
  {
   "cell_type": "code",
   "execution_count": 2,
   "metadata": {},
   "outputs": [
    {
     "name": "stdout",
     "output_type": "stream",
     "text": [
      "0.5 <class 'float'>\n",
      "0.0 <class 'float'>\n",
      "2.0 <class 'float'>\n",
      "1.0 <class 'float'>\n",
      "1.0 <class 'float'>\n"
     ]
    }
   ],
   "source": [
    "a = 1.0\n",
    "b = 2.0\n",
    "\n",
    "# 割り算\n",
    "print(a/b, type(a/b))\n",
    "\n",
    "# 割り算で小数切り捨て\n",
    "print(a//b, type(a//b))\n",
    "\n",
    "# 乗算\n",
    "print(a*b, type(a*b))\n",
    "\n",
    "# 累乗\n",
    "print(a**b, type(a**b))\n",
    "\n",
    "# 剰余\n",
    "print(a%b, type(a%b))"
   ]
  },
  {
   "cell_type": "code",
   "execution_count": null,
   "metadata": {},
   "outputs": [],
   "source": []
  }
 ],
 "metadata": {
  "kernelspec": {
   "display_name": "Python 3",
   "language": "python",
   "name": "python3"
  },
  "language_info": {
   "codemirror_mode": {
    "name": "ipython",
    "version": 3
   },
   "file_extension": ".py",
   "mimetype": "text/x-python",
   "name": "python",
   "nbconvert_exporter": "python",
   "pygments_lexer": "ipython3",
   "version": "3.6.3"
  },
  "toc": {
   "nav_menu": {},
   "number_sections": true,
   "sideBar": true,
   "skip_h1_title": false,
   "toc_cell": true,
   "toc_position": {
    "height": "907px",
    "left": "0px",
    "right": "1706px",
    "top": "111px",
    "width": "212px"
   },
   "toc_section_display": "block",
   "toc_window_display": true
  }
 },
 "nbformat": 4,
 "nbformat_minor": 2
}

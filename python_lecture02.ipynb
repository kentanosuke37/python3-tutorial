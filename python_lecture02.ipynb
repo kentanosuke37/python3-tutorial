{
 "cells": [
  {
   "cell_type": "markdown",
   "metadata": {
    "toc": true
   },
   "source": [
    "<h1>Table of Contents<span class=\"tocSkip\"></span></h1>\n",
    "<div class=\"toc\" style=\"margin-top: 1em;\"><ul class=\"toc-item\"><li><span><a href=\"#数値\" data-toc-modified-id=\"数値-1\"><span class=\"toc-item-num\">1&nbsp;&nbsp;</span>数値</a></span><ul class=\"toc-item\"><li><span><a href=\"#整数\" data-toc-modified-id=\"整数-1.1\"><span class=\"toc-item-num\">1.1&nbsp;&nbsp;</span>整数</a></span></li><li><span><a href=\"#浮動小数点数\" data-toc-modified-id=\"浮動小数点数-1.2\"><span class=\"toc-item-num\">1.2&nbsp;&nbsp;</span>浮動小数点数</a></span></li><li><span><a href=\"#cast-:-整数から浮動小数，浮動小数から整数\" data-toc-modified-id=\"cast-:-整数から浮動小数，浮動小数から整数-1.3\"><span class=\"toc-item-num\">1.3&nbsp;&nbsp;</span>cast : 整数から浮動小数，浮動小数から整数</a></span></li><li><span><a href=\"#指数乗\" data-toc-modified-id=\"指数乗-1.4\"><span class=\"toc-item-num\">1.4&nbsp;&nbsp;</span>指数乗</a></span></li><li><span><a href=\"#0.1-+-0.2---0.3は0ではない!\" data-toc-modified-id=\"0.1-+-0.2---0.3は0ではない!-1.5\"><span class=\"toc-item-num\">1.5&nbsp;&nbsp;</span>0.1 + 0.2 - 0.3は0ではない!</a></span></li></ul></li></ul></div>"
   ]
  },
  {
   "cell_type": "markdown",
   "metadata": {},
   "source": [
    "# 数値\n",
    "\n",
    "数値の演算についての実行結果．\n",
    "\n",
    "ちなみにpythonの出力はprint関数，変数の型はtype関数で調べることができる．\n",
    "\n",
    "\"#\"はコメントです．\n",
    "\n",
    "## 整数\n",
    "\n",
    "変数の代入のときに変数の方が決まる．\".\"がないと．整数．"
   ]
  },
  {
   "cell_type": "code",
   "execution_count": 24,
   "metadata": {},
   "outputs": [
    {
     "name": "stdout",
     "output_type": "stream",
     "text": [
      "0.5 <class 'float'>\n",
      "0 <class 'int'>\n",
      "2 <class 'int'>\n",
      "1 <class 'int'>\n",
      "1 <class 'int'>\n"
     ]
    }
   ],
   "source": [
    "a = 1\n",
    "b = 2\n",
    "\n",
    "# 割り算\n",
    "print(a/b, type(a/b))\n",
    "\n",
    "# 割り算で小数切り捨て\n",
    "print(a//b, type(a//b))\n",
    "\n",
    "# 乗算\n",
    "print(a*b, type(a*b))\n",
    "\n",
    "# 累乗\n",
    "print(a**b, type(a**b))\n",
    "\n",
    "# 剰余\n",
    "print(a%b, type(a%b))"
   ]
  },
  {
   "cell_type": "markdown",
   "metadata": {},
   "source": [
    "## 浮動小数点数\n",
    "\n",
    "\".\"があると，浮動小数点数．"
   ]
  },
  {
   "cell_type": "code",
   "execution_count": 25,
   "metadata": {},
   "outputs": [
    {
     "name": "stdout",
     "output_type": "stream",
     "text": [
      "0.5 <class 'float'>\n",
      "0.0 <class 'float'>\n",
      "2.0 <class 'float'>\n",
      "1.0 <class 'float'>\n",
      "1.0 <class 'float'>\n"
     ]
    }
   ],
   "source": [
    "a = 1.0\n",
    "b = 2.0\n",
    "\n",
    "# 割り算\n",
    "print(a/b, type(a/b))\n",
    "\n",
    "# 割り算で小数切り捨て\n",
    "print(a//b, type(a//b))\n",
    "\n",
    "# 乗算\n",
    "print(a*b, type(a*b))\n",
    "\n",
    "# 累乗\n",
    "print(a**b, type(a**b))\n",
    "\n",
    "# 剰余\n",
    "print(a%b, type(a%b))"
   ]
  },
  {
   "cell_type": "markdown",
   "metadata": {},
   "source": [
    "## cast : 整数から浮動小数，浮動小数から整数"
   ]
  },
  {
   "cell_type": "code",
   "execution_count": 26,
   "metadata": {},
   "outputs": [
    {
     "name": "stdout",
     "output_type": "stream",
     "text": [
      "1.0 <class 'float'>\n",
      "1 <class 'int'>\n"
     ]
    }
   ],
   "source": [
    "# to float\n",
    "print(float(1), type(float(1)))\n",
    "\n",
    "# to int \n",
    "print(int(1.0), type(int(1.0)))"
   ]
  },
  {
   "cell_type": "markdown",
   "metadata": {},
   "source": [
    "## 指数乗\n",
    "\n",
    "eは10を表す．1e3は1000.0で浮動小数点数です．整数にする時は，int()でキャストします．"
   ]
  },
  {
   "cell_type": "code",
   "execution_count": 27,
   "metadata": {},
   "outputs": [
    {
     "name": "stdout",
     "output_type": "stream",
     "text": [
      "1000 <class 'int'>\n",
      "1000.0 <class 'float'>\n"
     ]
    }
   ],
   "source": [
    "# 1000\n",
    "print(int(1e3), type(int(1e3)))\n",
    "\n",
    "# 1000.0\n",
    "print(1.0e3, type(1.0e3))"
   ]
  },
  {
   "cell_type": "markdown",
   "metadata": {},
   "source": [
    "## 0.1 + 0.2 - 0.3は0ではない!"
   ]
  },
  {
   "cell_type": "code",
   "execution_count": 28,
   "metadata": {},
   "outputs": [
    {
     "name": "stdout",
     "output_type": "stream",
     "text": [
      "5.551115123125783e-17\n"
     ]
    }
   ],
   "source": [
    "print(0.1+0.2-0.3)"
   ]
  }
 ],
 "metadata": {
  "kernelspec": {
   "display_name": "Python 3",
   "language": "python",
   "name": "python3"
  },
  "language_info": {
   "codemirror_mode": {
    "name": "ipython",
    "version": 3
   },
   "file_extension": ".py",
   "mimetype": "text/x-python",
   "name": "python",
   "nbconvert_exporter": "python",
   "pygments_lexer": "ipython3",
   "version": "3.6.3"
  },
  "toc": {
   "nav_menu": {},
   "number_sections": true,
   "sideBar": true,
   "skip_h1_title": false,
   "toc_cell": true,
   "toc_position": {
    "height": "268px",
    "left": "0px",
    "right": "1706px",
    "top": "111px",
    "width": "100px"
   },
   "toc_section_display": "none",
   "toc_window_display": true
  }
 },
 "nbformat": 4,
 "nbformat_minor": 2
}
